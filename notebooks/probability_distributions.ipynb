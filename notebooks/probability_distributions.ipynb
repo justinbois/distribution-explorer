{
 "cells": [
  {
   "cell_type": "markdown",
   "metadata": {},
   "source": [
    "# Probability distributions and their stories\n",
    "\n",
    "(c) 2019 Justin Bois. With the exception of pasted graphics, where the source is noted, this work is licensed under a [Creative Commons Attribution License CC-BY 4.0](https://creativecommons.org/licenses/by/4.0/). All code contained herein is licensed under an [MIT license](https://opensource.org/licenses/MIT).\n",
    "\n",
    "This document was prepared at [Caltech](http://www.caltech.edu) with financial support from the [Donna and Benjamin M. Rosen Bioengineering Center](http://rosen.caltech.edu).\n",
    "\n",
    "<img src=\"caltech_rosen.png\">\n",
    "\n",
    "*This tutorial was generated from an Jupyter notebook. If you want to use the interactivity to explore probability distributions, you will need to download the notebook and run it on your machine. You can download the notebook [here](probability_distribution.ipynb).*"
   ]
  },
  {
   "cell_type": "code",
   "execution_count": 1,
   "metadata": {},
   "outputs": [
    {
     "data": {
      "text/html": [
       "\n",
       "    <div class=\"bk-root\">\n",
       "        <a href=\"https://bokeh.pydata.org\" target=\"_blank\" class=\"bk-logo bk-logo-small bk-logo-notebook\"></a>\n",
       "        <span id=\"1001\">Loading BokehJS ...</span>\n",
       "    </div>"
      ]
     },
     "metadata": {},
     "output_type": "display_data"
    },
    {
     "data": {
      "application/javascript": [
       "\n",
       "(function(root) {\n",
       "  function now() {\n",
       "    return new Date();\n",
       "  }\n",
       "\n",
       "  var force = true;\n",
       "\n",
       "  if (typeof (root._bokeh_onload_callbacks) === \"undefined\" || force === true) {\n",
       "    root._bokeh_onload_callbacks = [];\n",
       "    root._bokeh_is_loading = undefined;\n",
       "  }\n",
       "\n",
       "  var JS_MIME_TYPE = 'application/javascript';\n",
       "  var HTML_MIME_TYPE = 'text/html';\n",
       "  var EXEC_MIME_TYPE = 'application/vnd.bokehjs_exec.v0+json';\n",
       "  var CLASS_NAME = 'output_bokeh rendered_html';\n",
       "\n",
       "  /**\n",
       "   * Render data to the DOM node\n",
       "   */\n",
       "  function render(props, node) {\n",
       "    var script = document.createElement(\"script\");\n",
       "    node.appendChild(script);\n",
       "  }\n",
       "\n",
       "  /**\n",
       "   * Handle when an output is cleared or removed\n",
       "   */\n",
       "  function handleClearOutput(event, handle) {\n",
       "    var cell = handle.cell;\n",
       "\n",
       "    var id = cell.output_area._bokeh_element_id;\n",
       "    var server_id = cell.output_area._bokeh_server_id;\n",
       "    // Clean up Bokeh references\n",
       "    if (id != null && id in Bokeh.index) {\n",
       "      Bokeh.index[id].model.document.clear();\n",
       "      delete Bokeh.index[id];\n",
       "    }\n",
       "\n",
       "    if (server_id !== undefined) {\n",
       "      // Clean up Bokeh references\n",
       "      var cmd = \"from bokeh.io.state import curstate; print(curstate().uuid_to_server['\" + server_id + \"'].get_sessions()[0].document.roots[0]._id)\";\n",
       "      cell.notebook.kernel.execute(cmd, {\n",
       "        iopub: {\n",
       "          output: function(msg) {\n",
       "            var id = msg.content.text.trim();\n",
       "            if (id in Bokeh.index) {\n",
       "              Bokeh.index[id].model.document.clear();\n",
       "              delete Bokeh.index[id];\n",
       "            }\n",
       "          }\n",
       "        }\n",
       "      });\n",
       "      // Destroy server and session\n",
       "      var cmd = \"import bokeh.io.notebook as ion; ion.destroy_server('\" + server_id + \"')\";\n",
       "      cell.notebook.kernel.execute(cmd);\n",
       "    }\n",
       "  }\n",
       "\n",
       "  /**\n",
       "   * Handle when a new output is added\n",
       "   */\n",
       "  function handleAddOutput(event, handle) {\n",
       "    var output_area = handle.output_area;\n",
       "    var output = handle.output;\n",
       "\n",
       "    // limit handleAddOutput to display_data with EXEC_MIME_TYPE content only\n",
       "    if ((output.output_type != \"display_data\") || (!output.data.hasOwnProperty(EXEC_MIME_TYPE))) {\n",
       "      return\n",
       "    }\n",
       "\n",
       "    var toinsert = output_area.element.find(\".\" + CLASS_NAME.split(' ')[0]);\n",
       "\n",
       "    if (output.metadata[EXEC_MIME_TYPE][\"id\"] !== undefined) {\n",
       "      toinsert[toinsert.length - 1].firstChild.textContent = output.data[JS_MIME_TYPE];\n",
       "      // store reference to embed id on output_area\n",
       "      output_area._bokeh_element_id = output.metadata[EXEC_MIME_TYPE][\"id\"];\n",
       "    }\n",
       "    if (output.metadata[EXEC_MIME_TYPE][\"server_id\"] !== undefined) {\n",
       "      var bk_div = document.createElement(\"div\");\n",
       "      bk_div.innerHTML = output.data[HTML_MIME_TYPE];\n",
       "      var script_attrs = bk_div.children[0].attributes;\n",
       "      for (var i = 0; i < script_attrs.length; i++) {\n",
       "        toinsert[toinsert.length - 1].firstChild.setAttribute(script_attrs[i].name, script_attrs[i].value);\n",
       "      }\n",
       "      // store reference to server id on output_area\n",
       "      output_area._bokeh_server_id = output.metadata[EXEC_MIME_TYPE][\"server_id\"];\n",
       "    }\n",
       "  }\n",
       "\n",
       "  function register_renderer(events, OutputArea) {\n",
       "\n",
       "    function append_mime(data, metadata, element) {\n",
       "      // create a DOM node to render to\n",
       "      var toinsert = this.create_output_subarea(\n",
       "        metadata,\n",
       "        CLASS_NAME,\n",
       "        EXEC_MIME_TYPE\n",
       "      );\n",
       "      this.keyboard_manager.register_events(toinsert);\n",
       "      // Render to node\n",
       "      var props = {data: data, metadata: metadata[EXEC_MIME_TYPE]};\n",
       "      render(props, toinsert[toinsert.length - 1]);\n",
       "      element.append(toinsert);\n",
       "      return toinsert\n",
       "    }\n",
       "\n",
       "    /* Handle when an output is cleared or removed */\n",
       "    events.on('clear_output.CodeCell', handleClearOutput);\n",
       "    events.on('delete.Cell', handleClearOutput);\n",
       "\n",
       "    /* Handle when a new output is added */\n",
       "    events.on('output_added.OutputArea', handleAddOutput);\n",
       "\n",
       "    /**\n",
       "     * Register the mime type and append_mime function with output_area\n",
       "     */\n",
       "    OutputArea.prototype.register_mime_type(EXEC_MIME_TYPE, append_mime, {\n",
       "      /* Is output safe? */\n",
       "      safe: true,\n",
       "      /* Index of renderer in `output_area.display_order` */\n",
       "      index: 0\n",
       "    });\n",
       "  }\n",
       "\n",
       "  // register the mime type if in Jupyter Notebook environment and previously unregistered\n",
       "  if (root.Jupyter !== undefined) {\n",
       "    var events = require('base/js/events');\n",
       "    var OutputArea = require('notebook/js/outputarea').OutputArea;\n",
       "\n",
       "    if (OutputArea.prototype.mime_types().indexOf(EXEC_MIME_TYPE) == -1) {\n",
       "      register_renderer(events, OutputArea);\n",
       "    }\n",
       "  }\n",
       "\n",
       "  \n",
       "  if (typeof (root._bokeh_timeout) === \"undefined\" || force === true) {\n",
       "    root._bokeh_timeout = Date.now() + 5000;\n",
       "    root._bokeh_failed_load = false;\n",
       "  }\n",
       "\n",
       "  var NB_LOAD_WARNING = {'data': {'text/html':\n",
       "     \"<div style='background-color: #fdd'>\\n\"+\n",
       "     \"<p>\\n\"+\n",
       "     \"BokehJS does not appear to have successfully loaded. If loading BokehJS from CDN, this \\n\"+\n",
       "     \"may be due to a slow or bad network connection. Possible fixes:\\n\"+\n",
       "     \"</p>\\n\"+\n",
       "     \"<ul>\\n\"+\n",
       "     \"<li>re-rerun `output_notebook()` to attempt to load from CDN again, or</li>\\n\"+\n",
       "     \"<li>use INLINE resources instead, as so:</li>\\n\"+\n",
       "     \"</ul>\\n\"+\n",
       "     \"<code>\\n\"+\n",
       "     \"from bokeh.resources import INLINE\\n\"+\n",
       "     \"output_notebook(resources=INLINE)\\n\"+\n",
       "     \"</code>\\n\"+\n",
       "     \"</div>\"}};\n",
       "\n",
       "  function display_loaded() {\n",
       "    var el = document.getElementById(\"1001\");\n",
       "    if (el != null) {\n",
       "      el.textContent = \"BokehJS is loading...\";\n",
       "    }\n",
       "    if (root.Bokeh !== undefined) {\n",
       "      if (el != null) {\n",
       "        el.textContent = \"BokehJS \" + root.Bokeh.version + \" successfully loaded.\";\n",
       "      }\n",
       "    } else if (Date.now() < root._bokeh_timeout) {\n",
       "      setTimeout(display_loaded, 100)\n",
       "    }\n",
       "  }\n",
       "\n",
       "\n",
       "  function run_callbacks() {\n",
       "    try {\n",
       "      root._bokeh_onload_callbacks.forEach(function(callback) { callback() });\n",
       "    }\n",
       "    finally {\n",
       "      delete root._bokeh_onload_callbacks\n",
       "    }\n",
       "    console.info(\"Bokeh: all callbacks have finished\");\n",
       "  }\n",
       "\n",
       "  function load_libs(js_urls, callback) {\n",
       "    root._bokeh_onload_callbacks.push(callback);\n",
       "    if (root._bokeh_is_loading > 0) {\n",
       "      console.log(\"Bokeh: BokehJS is being loaded, scheduling callback at\", now());\n",
       "      return null;\n",
       "    }\n",
       "    if (js_urls == null || js_urls.length === 0) {\n",
       "      run_callbacks();\n",
       "      return null;\n",
       "    }\n",
       "    console.log(\"Bokeh: BokehJS not loaded, scheduling load and callback at\", now());\n",
       "    root._bokeh_is_loading = js_urls.length;\n",
       "    for (var i = 0; i < js_urls.length; i++) {\n",
       "      var url = js_urls[i];\n",
       "      var s = document.createElement('script');\n",
       "      s.src = url;\n",
       "      s.async = false;\n",
       "      s.onreadystatechange = s.onload = function() {\n",
       "        root._bokeh_is_loading--;\n",
       "        if (root._bokeh_is_loading === 0) {\n",
       "          console.log(\"Bokeh: all BokehJS libraries loaded\");\n",
       "          run_callbacks()\n",
       "        }\n",
       "      };\n",
       "      s.onerror = function() {\n",
       "        console.warn(\"failed to load library \" + url);\n",
       "      };\n",
       "      console.log(\"Bokeh: injecting script tag for BokehJS library: \", url);\n",
       "      document.getElementsByTagName(\"head\")[0].appendChild(s);\n",
       "    }\n",
       "  };var element = document.getElementById(\"1001\");\n",
       "  if (element == null) {\n",
       "    console.log(\"Bokeh: ERROR: autoload.js configured with elementid '1001' but no matching script tag was found. \")\n",
       "    return false;\n",
       "  }\n",
       "\n",
       "  var js_urls = [\"https://cdn.pydata.org/bokeh/release/bokeh-1.0.4.min.js\", \"https://cdn.pydata.org/bokeh/release/bokeh-widgets-1.0.4.min.js\", \"https://cdn.pydata.org/bokeh/release/bokeh-tables-1.0.4.min.js\", \"https://cdn.pydata.org/bokeh/release/bokeh-gl-1.0.4.min.js\"];\n",
       "\n",
       "  var inline_js = [\n",
       "    function(Bokeh) {\n",
       "      Bokeh.set_log_level(\"info\");\n",
       "    },\n",
       "    \n",
       "    function(Bokeh) {\n",
       "      \n",
       "    },\n",
       "    function(Bokeh) {\n",
       "      console.log(\"Bokeh: injecting CSS: https://cdn.pydata.org/bokeh/release/bokeh-1.0.4.min.css\");\n",
       "      Bokeh.embed.inject_css(\"https://cdn.pydata.org/bokeh/release/bokeh-1.0.4.min.css\");\n",
       "      console.log(\"Bokeh: injecting CSS: https://cdn.pydata.org/bokeh/release/bokeh-widgets-1.0.4.min.css\");\n",
       "      Bokeh.embed.inject_css(\"https://cdn.pydata.org/bokeh/release/bokeh-widgets-1.0.4.min.css\");\n",
       "      console.log(\"Bokeh: injecting CSS: https://cdn.pydata.org/bokeh/release/bokeh-tables-1.0.4.min.css\");\n",
       "      Bokeh.embed.inject_css(\"https://cdn.pydata.org/bokeh/release/bokeh-tables-1.0.4.min.css\");\n",
       "    }\n",
       "  ];\n",
       "\n",
       "  function run_inline_js() {\n",
       "    \n",
       "    if ((root.Bokeh !== undefined) || (force === true)) {\n",
       "      for (var i = 0; i < inline_js.length; i++) {\n",
       "        inline_js[i].call(root, root.Bokeh);\n",
       "      }if (force === true) {\n",
       "        display_loaded();\n",
       "      }} else if (Date.now() < root._bokeh_timeout) {\n",
       "      setTimeout(run_inline_js, 100);\n",
       "    } else if (!root._bokeh_failed_load) {\n",
       "      console.log(\"Bokeh: BokehJS failed to load within specified timeout.\");\n",
       "      root._bokeh_failed_load = true;\n",
       "    } else if (force !== true) {\n",
       "      var cell = $(document.getElementById(\"1001\")).parents('.cell').data().cell;\n",
       "      cell.output_area.append_execute_result(NB_LOAD_WARNING)\n",
       "    }\n",
       "\n",
       "  }\n",
       "\n",
       "  if (root._bokeh_is_loading === 0) {\n",
       "    console.log(\"Bokeh: BokehJS loaded, going straight to plotting\");\n",
       "    run_inline_js();\n",
       "  } else {\n",
       "    load_libs(js_urls, function() {\n",
       "      console.log(\"Bokeh: BokehJS plotting callback run at\", now());\n",
       "      run_inline_js();\n",
       "    });\n",
       "  }\n",
       "}(window));"
      ],
      "application/vnd.bokehjs_load.v0+json": "\n(function(root) {\n  function now() {\n    return new Date();\n  }\n\n  var force = true;\n\n  if (typeof (root._bokeh_onload_callbacks) === \"undefined\" || force === true) {\n    root._bokeh_onload_callbacks = [];\n    root._bokeh_is_loading = undefined;\n  }\n\n  \n\n  \n  if (typeof (root._bokeh_timeout) === \"undefined\" || force === true) {\n    root._bokeh_timeout = Date.now() + 5000;\n    root._bokeh_failed_load = false;\n  }\n\n  var NB_LOAD_WARNING = {'data': {'text/html':\n     \"<div style='background-color: #fdd'>\\n\"+\n     \"<p>\\n\"+\n     \"BokehJS does not appear to have successfully loaded. If loading BokehJS from CDN, this \\n\"+\n     \"may be due to a slow or bad network connection. Possible fixes:\\n\"+\n     \"</p>\\n\"+\n     \"<ul>\\n\"+\n     \"<li>re-rerun `output_notebook()` to attempt to load from CDN again, or</li>\\n\"+\n     \"<li>use INLINE resources instead, as so:</li>\\n\"+\n     \"</ul>\\n\"+\n     \"<code>\\n\"+\n     \"from bokeh.resources import INLINE\\n\"+\n     \"output_notebook(resources=INLINE)\\n\"+\n     \"</code>\\n\"+\n     \"</div>\"}};\n\n  function display_loaded() {\n    var el = document.getElementById(\"1001\");\n    if (el != null) {\n      el.textContent = \"BokehJS is loading...\";\n    }\n    if (root.Bokeh !== undefined) {\n      if (el != null) {\n        el.textContent = \"BokehJS \" + root.Bokeh.version + \" successfully loaded.\";\n      }\n    } else if (Date.now() < root._bokeh_timeout) {\n      setTimeout(display_loaded, 100)\n    }\n  }\n\n\n  function run_callbacks() {\n    try {\n      root._bokeh_onload_callbacks.forEach(function(callback) { callback() });\n    }\n    finally {\n      delete root._bokeh_onload_callbacks\n    }\n    console.info(\"Bokeh: all callbacks have finished\");\n  }\n\n  function load_libs(js_urls, callback) {\n    root._bokeh_onload_callbacks.push(callback);\n    if (root._bokeh_is_loading > 0) {\n      console.log(\"Bokeh: BokehJS is being loaded, scheduling callback at\", now());\n      return null;\n    }\n    if (js_urls == null || js_urls.length === 0) {\n      run_callbacks();\n      return null;\n    }\n    console.log(\"Bokeh: BokehJS not loaded, scheduling load and callback at\", now());\n    root._bokeh_is_loading = js_urls.length;\n    for (var i = 0; i < js_urls.length; i++) {\n      var url = js_urls[i];\n      var s = document.createElement('script');\n      s.src = url;\n      s.async = false;\n      s.onreadystatechange = s.onload = function() {\n        root._bokeh_is_loading--;\n        if (root._bokeh_is_loading === 0) {\n          console.log(\"Bokeh: all BokehJS libraries loaded\");\n          run_callbacks()\n        }\n      };\n      s.onerror = function() {\n        console.warn(\"failed to load library \" + url);\n      };\n      console.log(\"Bokeh: injecting script tag for BokehJS library: \", url);\n      document.getElementsByTagName(\"head\")[0].appendChild(s);\n    }\n  };var element = document.getElementById(\"1001\");\n  if (element == null) {\n    console.log(\"Bokeh: ERROR: autoload.js configured with elementid '1001' but no matching script tag was found. \")\n    return false;\n  }\n\n  var js_urls = [\"https://cdn.pydata.org/bokeh/release/bokeh-1.0.4.min.js\", \"https://cdn.pydata.org/bokeh/release/bokeh-widgets-1.0.4.min.js\", \"https://cdn.pydata.org/bokeh/release/bokeh-tables-1.0.4.min.js\", \"https://cdn.pydata.org/bokeh/release/bokeh-gl-1.0.4.min.js\"];\n\n  var inline_js = [\n    function(Bokeh) {\n      Bokeh.set_log_level(\"info\");\n    },\n    \n    function(Bokeh) {\n      \n    },\n    function(Bokeh) {\n      console.log(\"Bokeh: injecting CSS: https://cdn.pydata.org/bokeh/release/bokeh-1.0.4.min.css\");\n      Bokeh.embed.inject_css(\"https://cdn.pydata.org/bokeh/release/bokeh-1.0.4.min.css\");\n      console.log(\"Bokeh: injecting CSS: https://cdn.pydata.org/bokeh/release/bokeh-widgets-1.0.4.min.css\");\n      Bokeh.embed.inject_css(\"https://cdn.pydata.org/bokeh/release/bokeh-widgets-1.0.4.min.css\");\n      console.log(\"Bokeh: injecting CSS: https://cdn.pydata.org/bokeh/release/bokeh-tables-1.0.4.min.css\");\n      Bokeh.embed.inject_css(\"https://cdn.pydata.org/bokeh/release/bokeh-tables-1.0.4.min.css\");\n    }\n  ];\n\n  function run_inline_js() {\n    \n    if ((root.Bokeh !== undefined) || (force === true)) {\n      for (var i = 0; i < inline_js.length; i++) {\n        inline_js[i].call(root, root.Bokeh);\n      }if (force === true) {\n        display_loaded();\n      }} else if (Date.now() < root._bokeh_timeout) {\n      setTimeout(run_inline_js, 100);\n    } else if (!root._bokeh_failed_load) {\n      console.log(\"Bokeh: BokehJS failed to load within specified timeout.\");\n      root._bokeh_failed_load = true;\n    } else if (force !== true) {\n      var cell = $(document.getElementById(\"1001\")).parents('.cell').data().cell;\n      cell.output_area.append_execute_result(NB_LOAD_WARNING)\n    }\n\n  }\n\n  if (root._bokeh_is_loading === 0) {\n    console.log(\"Bokeh: BokehJS loaded, going straight to plotting\");\n    run_inline_js();\n  } else {\n    load_libs(js_urls, function() {\n      console.log(\"Bokeh: BokehJS plotting callback run at\", now());\n      run_inline_js();\n    });\n  }\n}(window));"
     },
     "metadata": {},
     "output_type": "display_data"
    }
   ],
   "source": [
    "%load_ext autoreload\n",
    "%autoreload 2\n",
    "\n",
    "import numpy as np\n",
    "import scipy.stats as st\n",
    "import scipy.special\n",
    "\n",
    "import distribution_explorer\n",
    "\n",
    "import bokeh.io\n",
    "import bokeh.plotting\n",
    "import bokeh.application\n",
    "import bokeh.application.handlers\n",
    "bokeh.io.output_notebook()"
   ]
  },
  {
   "cell_type": "markdown",
   "metadata": {},
   "source": [
    "Because this tutorial consists mainly of a list of probability distributions and their stories and properties, it is useful to have a little index of them up front.\n",
    "\n",
    "* [Discrete distributions](#Discrete-distributions)\n",
    "    - [Bernoulli distribution](#Bernoulli-distribution)\n",
    "    - [Geometric distribution](#Geometric-distribution)\n",
    "    - [Negative Binomial distribution](#Negative-Binomial-distribution)\n",
    "    - [Binomial distribution](#Binomial-distribution)\n",
    "    - [Poisson distribution](#Poisson-distribution)\n",
    "    - [Hypergeometric distribution](#Hypergeometric-distribution)\n",
    "    - [Categorical distribution](#Categorical-distribution)\n",
    "    - [Discrete Uniform distribution](#Discrete-Uniform-distribution)\n",
    "* [Continuous distributions](#Continuous-distributions)\n",
    "    - [Uniform distribution](#Uniform-distribution)\n",
    "    - [Gaussian (a.k.a. Normal) distribution](#Gaussian,-a.k.a.-Normal,-distribution)\n",
    "    - [Half-Normal distribution](#Half-Normal-distribution)\n",
    "    - [Log-Normal distribution](#Log-Normal-distribution)\n",
    "    - [Chi-square distribution](#Chi-square-distribution)\n",
    "    - [Student-t distribution](#Student-t-distribution)\n",
    "    - [Cauchy distribution](#Cauchy-distribution)\n",
    "    - [Exponential distribution](#Exponential-distribution)\n",
    "    - [Gamma distribution](#Gamma-distribution)\n",
    "    - [Inverse-Gamma distribution](#Inverse-Gamma-distribution)\n",
    "    - [Weibull distribution](#Weibull-distribution)\n",
    "    - [Beta distribution](#Beta-distribution)\n",
    "* [Discrete multivariate distributions](#Discrete-multivariate-distributions)\n",
    "    - [Multinomial distribution](#Multinomial-distribution)\n",
    "* [Continuous multivariate distributions](#Continuous-Multivariate-distributions)\n",
    "    - [Multivariate Gaussian (a.k.a. Multivariate Normal) distribution](#Multivariate-Gaussian,-a.k.a.-Multivariate-Normal,-distribution)\n",
    "    - [Lewandowski-Kurowicka-Joe (LKJ) distribution](#Lewandowski-Kurowicka-Joe-%28LKJ%29-distribution)\n",
    "    - [Dirichlet distribution](#Dirichlet-distribution)\n",
    "\n",
    "This tutorial also features interactive plotting, which needs a running Jupyter notebook to utilize. You should therefore download and run the notebook. When you launch your notebook, take note of the URL. You can find this at the top of your browser. It will be something like `localhost:8888`. Before you work through the notebook, define your notebook_url in the code cell below."
   ]
  },
  {
   "cell_type": "markdown",
   "metadata": {},
   "source": [
    "### Motivation\n",
    "\n",
    "In this class, we have talked about the three levels of building a model in the\n",
    "biological sciences.\n",
    "* **Cartoon model**: A cartoon or verbal phenomenological\n",
    "  description of the system of interest.\n",
    "* **Mathematical model**: A mathematization of a cartoon model. This gives quantitative predictions on how a biological system should behave.\n",
    "* **Statistical model**: A description of what we expect from an\n",
    "  experiment, given our mathematical model.  In the Bayesian context, this is\n",
    "  specification of the likelihood and prior.\n",
    "\n",
    "Take together, these models comprise a **generative model**, which describes how the data were generated. Specifying your model amounts to choosing a probability distributions that describe the process of data generation. In some cases, you need to derive the likelihood (or even numerically compute it when it cannot be written in closed form). In most practical cases, though, your model is composed of standard probability distributions.  These distributions all have **stories** associated with them.  Importantly, *if your data and model match the story of a distribution, you know that this is the distribution to choose for your likelihood.*"
   ]
  },
  {
   "cell_type": "markdown",
   "metadata": {},
   "source": [
    "## Review of probability distributions, PMFs, PDFs, and CDFs\n",
    "\n",
    "Before we begin talking about distributions, let's remind ourselves\n",
    "what probability distributions are.  We cut some corners in our\n",
    "definitions here, but these definitions are functional for most of our\n",
    "data analysis purposes.\n",
    "\n",
    "A **probability mass function** (PMF), $f(x)$, describes the\n",
    "probability of a discrete variable obtaining value $x$.  The variable\n",
    "$x$ takes on discrete values, so the **normalization condition**\n",
    "is\n",
    "\n",
    "\\begin{align}\n",
    "\\sum_x f(x) = 1.\n",
    "\\end{align}\n",
    "\n",
    "A **probability density function** (PDF), which we shall\n",
    "call $f(x)$, is defined such that the probability that the value of a\n",
    "continuous variable $x$ is $a \\le x \\le b$ is\n",
    "\n",
    "\\begin{align}\n",
    "\\int_a^b \\mathrm{d}x\\,f(x).\n",
    "\\end{align}\n",
    "\n",
    "A **cumulative distribution function** (CDF), denoted $F(x)$ is defined such that $F(x)$ is the probability that the value of a variable $X$ is less than or equal to $x$. For a discrete distribution\n",
    "\n",
    "\\begin{align}\n",
    "F(k) = \\sum_{k'=k_\\mathrm{min}}^k f(k'),\n",
    "\\end{align}\n",
    "\n",
    "where $k_\\mathrm{min}$ is the minimal value the variable can take, and for a continuous distribution,\n",
    "\n",
    "\\begin{align}\n",
    "F(x) = \\int_{-\\infty}^x \\mathrm{d}x'\\,f(x').\n",
    "\\end{align}\n",
    "\n",
    "<br />\n",
    "\n",
    "If a probability mass or density function depends on parameters, say $n$ and $\\theta$, we write it as $f(x;n, \\theta)$. There does not seem to be consensus on the best notation, and you may see this same quantity written as $P(x\\mid n, \\theta)$, for example."
   ]
  },
  {
   "cell_type": "markdown",
   "metadata": {},
   "source": [
    "### Sampling\n",
    "\n",
    "Given that we know a probability distribution, we can take\n",
    "*samples* out of it.  This means that we can randomly draw\n",
    "numbers and the probability that we draw a certain number $x$ is\n",
    "proportional to the PMF or PDF, $f(x)$. Sampling\n",
    "out of a distribution is often easier than computing the distribution\n",
    "over a range of values because many of those values are zero. \n",
    "\n",
    "The `numpy.random` module and [Stan](http://mc-stan.org/) are power tools for sampling out of distributions. For each distribution I describe, I show how to specify them using NumPy and Stan (and also with the `scipy.stats` module)."
   ]
  },
  {
   "cell_type": "markdown",
   "metadata": {},
   "source": [
    "## Distributions and their stories\n",
    "\n",
    "In what follows, I will present some commonly used probability distributions and their associated stories. I give the following.\n",
    "- Name of the distribution.\n",
    "- Its story.\n",
    "- An example.\n",
    "- The parameters of the distribution.\n",
    "- The **support**, or the domain for which the probability is nonzero.\n",
    "- The probability mass function (for discrete distributions) or probability density function (for continuous distributions). **I use the parametrization that Stan uses.**\n",
    "- Syntax for how to use the distribution using `numpy.random`, `scipy.stats`, and Stan.\n",
    "- Description of relations to other distributions.\n",
    "- Miscellaneous notes.\n",
    "- Interactive plots of the PMF/PDF and CDF of the distribution.\n",
    "\n",
    "I omit analytical expression for the CDF because CDFs are often expressed as special functions, such as regularized incomplete beta functions or error functions. They can also be easily looked up. We mainly use them for comparing ECDFs in plots, and we can use the `scipy.stats` module to just compute them. \n",
    "\n",
    "Along the way, we'll define other terms, such as **Bernoulli trial** and **Poisson process**. I will use the `scipy.stats` module (imported as `st`) to compute the PDF/PMF and CDF. The API for this module will be apparent as I use it.\n",
    "\n",
    "Finally, there is often more than one way to define the parameters of a distribution. I will be using the definitions and variable names that are used in [Stan](http://mc-stan.org/)."
   ]
  },
  {
   "cell_type": "markdown",
   "metadata": {},
   "source": [
    "## Visualization of PDF/PMF's and CDFs\n",
    "\n",
    "I use [Bokeh](https://bokeh.pydata.org/) to construct interactive visualizations of the distribution. The `distribution_explorer.explore()` function creates Bokeh apps to visualize the distributions. "
   ]
  },
  {
   "cell_type": "markdown",
   "metadata": {},
   "source": [
    "### A note about CDFs for discrete distributions\n",
    "\n",
    "I plot the CDFs for discrete distributions as \"staircases.\" As an example, here is a plot of the CDF of the [Binomial distribution](#Binomial-distribution) with parameters $N=10$ and $\\theta = 0.5$."
   ]
  },
  {
   "cell_type": "code",
   "execution_count": 2,
   "metadata": {},
   "outputs": [
    {
     "data": {
      "text/html": [
       "\n",
       "\n",
       "\n",
       "\n",
       "\n",
       "\n",
       "  <div class=\"bk-root\" id=\"4f10a412-3158-4960-b3fb-c3541131ec6c\" data-root-id=\"1002\"></div>\n"
      ]
     },
     "metadata": {},
     "output_type": "display_data"
    },
    {
     "data": {
      "application/javascript": [
       "(function(root) {\n",
       "  function embed_document(root) {\n",
       "    \n",
       "  var docs_json = {\"ab5d3ef2-4949-425b-b0b0-fd714ae61e24\":{\"roots\":{\"references\":[{\"attributes\":{\"below\":[{\"id\":\"1011\",\"type\":\"LinearAxis\"}],\"left\":[{\"id\":\"1016\",\"type\":\"LinearAxis\"}],\"plot_height\":250,\"plot_width\":350,\"renderers\":[{\"id\":\"1011\",\"type\":\"LinearAxis\"},{\"id\":\"1015\",\"type\":\"Grid\"},{\"id\":\"1016\",\"type\":\"LinearAxis\"},{\"id\":\"1020\",\"type\":\"Grid\"},{\"id\":\"1029\",\"type\":\"BoxAnnotation\"},{\"id\":\"1039\",\"type\":\"GlyphRenderer\"}],\"title\":{\"id\":\"1041\",\"type\":\"Title\"},\"toolbar\":{\"id\":\"1027\",\"type\":\"Toolbar\"},\"x_range\":{\"id\":\"1003\",\"type\":\"DataRange1d\"},\"x_scale\":{\"id\":\"1007\",\"type\":\"LinearScale\"},\"y_range\":{\"id\":\"1005\",\"type\":\"DataRange1d\"},\"y_scale\":{\"id\":\"1009\",\"type\":\"LinearScale\"}},\"id\":\"1002\",\"subtype\":\"Figure\",\"type\":\"Plot\"},{\"attributes\":{\"callback\":null,\"data\":{\"x\":{\"__ndarray__\":\"AAAAAAAA4L8AAAAAAAAAAAAAAAAAAAAAAAAAAAAA8D8AAAAAAADwPwAAAAAAAABAAAAAAAAAAEAAAAAAAAAIQAAAAAAAAAhAAAAAAAAAEEAAAAAAAAAQQAAAAAAAABRAAAAAAAAAFEAAAAAAAAAYQAAAAAAAABhAAAAAAAAAHEAAAAAAAAAcQAAAAAAAACBAAAAAAAAAIEAAAAAAAAAiQAAAAAAAACJAAAAAAAAAJEAAAAAAAAAkQAAAAAAAACVA\",\"dtype\":\"float64\",\"shape\":[24]},\"y\":{\"__ndarray__\":\"AAAAAAAAAAAAAAAAAAAAAAAAAAAAAFA/AAAAAAAAUD////////+FP////////4U/AgAAAAAArD8CAAAAAACsP/7//////8U//v//////xT8CAAAAACDYPwIAAAAAINg////////v4z///////+/jPwAAAAAAgOo/AAAAAACA6j8AAAAAAEDuPwAAAAAAQO4/AAAAAACo7z8AAAAAAKjvPwAAAAAA+O8/AAAAAAD47z8AAAAAAADwPwAAAAAAAPA/\",\"dtype\":\"float64\",\"shape\":[24]}},\"selected\":{\"id\":\"1048\",\"type\":\"Selection\"},\"selection_policy\":{\"id\":\"1047\",\"type\":\"UnionRenderers\"}},\"id\":\"1036\",\"type\":\"ColumnDataSource\"},{\"attributes\":{},\"id\":\"1025\",\"type\":\"ResetTool\"},{\"attributes\":{\"callback\":null},\"id\":\"1003\",\"type\":\"DataRange1d\"},{\"attributes\":{},\"id\":\"1026\",\"type\":\"HelpTool\"},{\"attributes\":{},\"id\":\"1047\",\"type\":\"UnionRenderers\"},{\"attributes\":{\"callback\":null},\"id\":\"1005\",\"type\":\"DataRange1d\"},{\"attributes\":{\"active_drag\":\"auto\",\"active_inspect\":\"auto\",\"active_multi\":null,\"active_scroll\":\"auto\",\"active_tap\":\"auto\",\"tools\":[{\"id\":\"1021\",\"type\":\"PanTool\"},{\"id\":\"1022\",\"type\":\"WheelZoomTool\"},{\"id\":\"1023\",\"type\":\"BoxZoomTool\"},{\"id\":\"1024\",\"type\":\"SaveTool\"},{\"id\":\"1025\",\"type\":\"ResetTool\"},{\"id\":\"1026\",\"type\":\"HelpTool\"}]},\"id\":\"1027\",\"type\":\"Toolbar\"},{\"attributes\":{},\"id\":\"1007\",\"type\":\"LinearScale\"},{\"attributes\":{\"bottom_units\":\"screen\",\"fill_alpha\":{\"value\":0.5},\"fill_color\":{\"value\":\"lightgrey\"},\"left_units\":\"screen\",\"level\":\"overlay\",\"line_alpha\":{\"value\":1.0},\"line_color\":{\"value\":\"black\"},\"line_dash\":[4,4],\"line_width\":{\"value\":2},\"plot\":null,\"render_mode\":\"css\",\"right_units\":\"screen\",\"top_units\":\"screen\"},\"id\":\"1029\",\"type\":\"BoxAnnotation\"},{\"attributes\":{},\"id\":\"1009\",\"type\":\"LinearScale\"},{\"attributes\":{\"data_source\":{\"id\":\"1036\",\"type\":\"ColumnDataSource\"},\"glyph\":{\"id\":\"1037\",\"type\":\"Line\"},\"hover_glyph\":null,\"muted_glyph\":null,\"nonselection_glyph\":{\"id\":\"1038\",\"type\":\"Line\"},\"selection_glyph\":null,\"view\":{\"id\":\"1040\",\"type\":\"CDSView\"}},\"id\":\"1039\",\"type\":\"GlyphRenderer\"},{\"attributes\":{\"axis_label\":\"n\",\"formatter\":{\"id\":\"1044\",\"type\":\"BasicTickFormatter\"},\"plot\":{\"id\":\"1002\",\"subtype\":\"Figure\",\"type\":\"Plot\"},\"ticker\":{\"id\":\"1012\",\"type\":\"BasicTicker\"}},\"id\":\"1011\",\"type\":\"LinearAxis\"},{\"attributes\":{\"source\":{\"id\":\"1036\",\"type\":\"ColumnDataSource\"}},\"id\":\"1040\",\"type\":\"CDSView\"},{\"attributes\":{},\"id\":\"1012\",\"type\":\"BasicTicker\"},{\"attributes\":{\"plot\":{\"id\":\"1002\",\"subtype\":\"Figure\",\"type\":\"Plot\"},\"ticker\":{\"id\":\"1012\",\"type\":\"BasicTicker\"}},\"id\":\"1015\",\"type\":\"Grid\"},{\"attributes\":{\"axis_label\":\"F(n; 10, 0.5)\",\"formatter\":{\"id\":\"1046\",\"type\":\"BasicTickFormatter\"},\"plot\":{\"id\":\"1002\",\"subtype\":\"Figure\",\"type\":\"Plot\"},\"ticker\":{\"id\":\"1017\",\"type\":\"BasicTicker\"}},\"id\":\"1016\",\"type\":\"LinearAxis\"},{\"attributes\":{},\"id\":\"1017\",\"type\":\"BasicTicker\"},{\"attributes\":{},\"id\":\"1044\",\"type\":\"BasicTickFormatter\"},{\"attributes\":{\"dimension\":1,\"plot\":{\"id\":\"1002\",\"subtype\":\"Figure\",\"type\":\"Plot\"},\"ticker\":{\"id\":\"1017\",\"type\":\"BasicTicker\"}},\"id\":\"1020\",\"type\":\"Grid\"},{\"attributes\":{},\"id\":\"1046\",\"type\":\"BasicTickFormatter\"},{\"attributes\":{\"line_alpha\":0.1,\"line_color\":\"#1f77b4\",\"line_width\":2,\"x\":{\"field\":\"x\"},\"y\":{\"field\":\"y\"}},\"id\":\"1038\",\"type\":\"Line\"},{\"attributes\":{},\"id\":\"1048\",\"type\":\"Selection\"},{\"attributes\":{\"line_color\":\"#1f77b4\",\"line_width\":2,\"x\":{\"field\":\"x\"},\"y\":{\"field\":\"y\"}},\"id\":\"1037\",\"type\":\"Line\"},{\"attributes\":{\"plot\":null,\"text\":\"\"},\"id\":\"1041\",\"type\":\"Title\"},{\"attributes\":{},\"id\":\"1021\",\"type\":\"PanTool\"},{\"attributes\":{},\"id\":\"1022\",\"type\":\"WheelZoomTool\"},{\"attributes\":{\"overlay\":{\"id\":\"1029\",\"type\":\"BoxAnnotation\"}},\"id\":\"1023\",\"type\":\"BoxZoomTool\"},{\"attributes\":{},\"id\":\"1024\",\"type\":\"SaveTool\"}],\"root_ids\":[\"1002\"]},\"title\":\"Bokeh Application\",\"version\":\"1.0.4\"}};\n",
       "  var render_items = [{\"docid\":\"ab5d3ef2-4949-425b-b0b0-fd714ae61e24\",\"roots\":{\"1002\":\"4f10a412-3158-4960-b3fb-c3541131ec6c\"}}];\n",
       "  root.Bokeh.embed.embed_items_notebook(docs_json, render_items);\n",
       "\n",
       "  }\n",
       "  if (root.Bokeh !== undefined) {\n",
       "    embed_document(root);\n",
       "  } else {\n",
       "    var attempts = 0;\n",
       "    var timer = setInterval(function(root) {\n",
       "      if (root.Bokeh !== undefined) {\n",
       "        embed_document(root);\n",
       "        clearInterval(timer);\n",
       "      }\n",
       "      attempts++;\n",
       "      if (attempts > 100) {\n",
       "        console.log(\"Bokeh: ERROR: Unable to run BokehJS code because BokehJS library is missing\");\n",
       "        clearInterval(timer);\n",
       "      }\n",
       "    }, 10, root)\n",
       "  }\n",
       "})(window);"
      ],
      "application/vnd.bokehjs_exec.v0+json": ""
     },
     "metadata": {
      "application/vnd.bokehjs_exec.v0+json": {
       "id": "1002"
      }
     },
     "output_type": "display_data"
    }
   ],
   "source": [
    "x = np.arange(0, 11)\n",
    "x_size = x[-1] - x[0]\n",
    "x_c = np.empty(2*len(x))\n",
    "x_c[::2] = x\n",
    "x_c[1::2] = x\n",
    "x_c = np.concatenate(((max(x[0] - 0.05*x_size, x[0] - 0.95),), \n",
    "                      x_c,\n",
    "                      (min(x[-1] + 0.05*x_size, x[-1] + 0.95),)))\n",
    "x_cdf = np.concatenate(((x_c[0],), x))\n",
    "\n",
    "y = st.binom.cdf(x_cdf, 10, 0.5)\n",
    "y_c = np.empty_like(x_c)\n",
    "y_c[::2] = y\n",
    "y_c[1::2] = y\n",
    "\n",
    "p = bokeh.plotting.figure(plot_height=250,\n",
    "                          plot_width=350,\n",
    "                          x_axis_label='n',\n",
    "                          y_axis_label='F(n; 10, 0.5)')\n",
    "p.line(x_c, y_c, line_width=2)\n",
    "bokeh.io.show(p)"
   ]
  },
  {
   "cell_type": "markdown",
   "metadata": {},
   "source": [
    "The CDF appears to be multivalued at the vertical lines of the staircase. It is not. Furthermore, the lines at zero and one on the CDF axis should extend out to $-\\infty$ and $\\infty$, respectively along the horizontal axis. Strictly speaking, it should be plotted as follows."
   ]
  },
  {
   "cell_type": "code",
   "execution_count": 3,
   "metadata": {},
   "outputs": [
    {
     "data": {
      "text/html": [
       "\n",
       "\n",
       "\n",
       "\n",
       "\n",
       "\n",
       "  <div class=\"bk-root\" id=\"195fa741-b5f2-4243-b6bc-b5239291b061\" data-root-id=\"1104\"></div>\n"
      ]
     },
     "metadata": {},
     "output_type": "display_data"
    },
    {
     "data": {
      "application/javascript": [
       "(function(root) {\n",
       "  function embed_document(root) {\n",
       "    \n",
       "  var docs_json = {\"770b0f2c-941f-4e93-88c4-f8aaa5415ba4\":{\"roots\":{\"references\":[{\"attributes\":{\"below\":[{\"id\":\"1113\",\"type\":\"LinearAxis\"}],\"left\":[{\"id\":\"1118\",\"type\":\"LinearAxis\"}],\"plot_height\":250,\"plot_width\":350,\"renderers\":[{\"id\":\"1113\",\"type\":\"LinearAxis\"},{\"id\":\"1117\",\"type\":\"Grid\"},{\"id\":\"1118\",\"type\":\"LinearAxis\"},{\"id\":\"1122\",\"type\":\"Grid\"},{\"id\":\"1131\",\"type\":\"BoxAnnotation\"},{\"id\":\"1141\",\"type\":\"GlyphRenderer\"},{\"id\":\"1146\",\"type\":\"GlyphRenderer\"},{\"id\":\"1151\",\"type\":\"GlyphRenderer\"},{\"id\":\"1156\",\"type\":\"GlyphRenderer\"},{\"id\":\"1161\",\"type\":\"GlyphRenderer\"},{\"id\":\"1166\",\"type\":\"GlyphRenderer\"}],\"title\":{\"id\":\"1177\",\"type\":\"Title\"},\"toolbar\":{\"id\":\"1129\",\"type\":\"Toolbar\"},\"x_range\":{\"id\":\"1105\",\"type\":\"DataRange1d\"},\"x_scale\":{\"id\":\"1109\",\"type\":\"LinearScale\"},\"y_range\":{\"id\":\"1107\",\"type\":\"DataRange1d\"},\"y_scale\":{\"id\":\"1111\",\"type\":\"LinearScale\"}},\"id\":\"1104\",\"subtype\":\"Figure\",\"type\":\"Plot\"},{\"attributes\":{\"source\":{\"id\":\"1163\",\"type\":\"ColumnDataSource\"}},\"id\":\"1167\",\"type\":\"CDSView\"},{\"attributes\":{\"source\":{\"id\":\"1143\",\"type\":\"ColumnDataSource\"}},\"id\":\"1147\",\"type\":\"CDSView\"},{\"attributes\":{},\"id\":\"1124\",\"type\":\"WheelZoomTool\"},{\"attributes\":{\"callback\":null,\"data\":{\"x0\":[0,1,2,3,4,5,6,7,8,9],\"x1\":[1,2,3,4,5,6,7,8,9,10],\"y0\":{\"__ndarray__\":\"AAAAAAAAUD////////+FPwIAAAAAAKw//v//////xT8CAAAAACDYP///////7+M/AAAAAACA6j8AAAAAAEDuPwAAAAAAqO8/AAAAAAD47z8=\",\"dtype\":\"float64\",\"shape\":[10]},\"y1\":{\"__ndarray__\":\"AAAAAAAAUD////////+FPwIAAAAAAKw//v//////xT8CAAAAACDYP///////7+M/AAAAAACA6j8AAAAAAEDuPwAAAAAAqO8/AAAAAAD47z8=\",\"dtype\":\"float64\",\"shape\":[10]}},\"selected\":{\"id\":\"1184\",\"type\":\"Selection\"},\"selection_policy\":{\"id\":\"1183\",\"type\":\"UnionRenderers\"}},\"id\":\"1138\",\"type\":\"ColumnDataSource\"},{\"attributes\":{\"angle\":{\"units\":\"rad\",\"value\":0},\"length\":{\"units\":\"data\",\"value\":0},\"line_color\":{\"value\":\"#1f77b4\"},\"line_width\":{\"value\":2},\"x\":{\"value\":10},\"y\":{\"value\":1}},\"id\":\"1149\",\"type\":\"Ray\"},{\"attributes\":{\"data_source\":{\"id\":\"1148\",\"type\":\"ColumnDataSource\"},\"glyph\":{\"id\":\"1149\",\"type\":\"Ray\"},\"hover_glyph\":null,\"muted_glyph\":null,\"nonselection_glyph\":{\"id\":\"1150\",\"type\":\"Ray\"},\"selection_glyph\":null,\"view\":{\"id\":\"1152\",\"type\":\"CDSView\"}},\"id\":\"1151\",\"type\":\"GlyphRenderer\"},{\"attributes\":{},\"id\":\"1180\",\"type\":\"BasicTickFormatter\"},{\"attributes\":{\"line_alpha\":{\"value\":0.1},\"line_color\":{\"value\":\"#1f77b4\"},\"line_width\":{\"value\":2},\"x0\":{\"field\":\"x0\"},\"x1\":{\"field\":\"x1\"},\"y0\":{\"field\":\"y0\"},\"y1\":{\"field\":\"y1\"}},\"id\":\"1140\",\"type\":\"Segment\"},{\"attributes\":{\"angle\":{\"units\":\"rad\",\"value\":0},\"length\":{\"units\":\"data\",\"value\":0},\"line_alpha\":{\"value\":0.1},\"line_color\":{\"value\":\"#1f77b4\"},\"line_width\":{\"value\":2},\"x\":{\"value\":10},\"y\":{\"value\":1}},\"id\":\"1150\",\"type\":\"Ray\"},{\"attributes\":{},\"id\":\"1182\",\"type\":\"BasicTickFormatter\"},{\"attributes\":{\"source\":{\"id\":\"1148\",\"type\":\"ColumnDataSource\"}},\"id\":\"1152\",\"type\":\"CDSView\"},{\"attributes\":{\"fill_alpha\":{\"value\":0.1},\"fill_color\":{\"value\":\"#1f77b4\"},\"line_alpha\":{\"value\":0.1},\"line_color\":{\"value\":\"#1f77b4\"},\"x\":{\"field\":\"x\"},\"y\":{\"field\":\"y\"}},\"id\":\"1155\",\"type\":\"Circle\"},{\"attributes\":{\"callback\":null,\"data\":{},\"selected\":{\"id\":\"1186\",\"type\":\"Selection\"},\"selection_policy\":{\"id\":\"1185\",\"type\":\"UnionRenderers\"}},\"id\":\"1143\",\"type\":\"ColumnDataSource\"},{\"attributes\":{},\"id\":\"1183\",\"type\":\"UnionRenderers\"},{\"attributes\":{\"callback\":null},\"id\":\"1107\",\"type\":\"DataRange1d\"},{\"attributes\":{\"axis_label\":\"F(n; 10, 0.5)\",\"formatter\":{\"id\":\"1182\",\"type\":\"BasicTickFormatter\"},\"plot\":{\"id\":\"1104\",\"subtype\":\"Figure\",\"type\":\"Plot\"},\"ticker\":{\"id\":\"1119\",\"type\":\"BasicTicker\"}},\"id\":\"1118\",\"type\":\"LinearAxis\"},{\"attributes\":{\"data_source\":{\"id\":\"1153\",\"type\":\"ColumnDataSource\"},\"glyph\":{\"id\":\"1154\",\"type\":\"Circle\"},\"hover_glyph\":null,\"muted_glyph\":null,\"nonselection_glyph\":{\"id\":\"1155\",\"type\":\"Circle\"},\"selection_glyph\":null,\"view\":{\"id\":\"1157\",\"type\":\"CDSView\"}},\"id\":\"1156\",\"type\":\"GlyphRenderer\"},{\"attributes\":{},\"id\":\"1184\",\"type\":\"Selection\"},{\"attributes\":{\"callback\":null},\"id\":\"1105\",\"type\":\"DataRange1d\"},{\"attributes\":{},\"id\":\"1119\",\"type\":\"BasicTicker\"},{\"attributes\":{\"source\":{\"id\":\"1153\",\"type\":\"ColumnDataSource\"}},\"id\":\"1157\",\"type\":\"CDSView\"},{\"attributes\":{\"data_source\":{\"id\":\"1138\",\"type\":\"ColumnDataSource\"},\"glyph\":{\"id\":\"1139\",\"type\":\"Segment\"},\"hover_glyph\":null,\"muted_glyph\":null,\"nonselection_glyph\":{\"id\":\"1140\",\"type\":\"Segment\"},\"selection_glyph\":null,\"view\":{\"id\":\"1142\",\"type\":\"CDSView\"}},\"id\":\"1141\",\"type\":\"GlyphRenderer\"},{\"attributes\":{},\"id\":\"1185\",\"type\":\"UnionRenderers\"},{\"attributes\":{},\"id\":\"1109\",\"type\":\"LinearScale\"},{\"attributes\":{\"line_color\":{\"value\":\"#1f77b4\"},\"line_width\":{\"value\":2},\"x0\":{\"field\":\"x0\"},\"x1\":{\"field\":\"x1\"},\"y0\":{\"field\":\"y0\"},\"y1\":{\"field\":\"y1\"}},\"id\":\"1139\",\"type\":\"Segment\"},{\"attributes\":{\"callback\":null,\"data\":{\"x\":[0,1,2,3,4,5,6,7,8,9,10],\"y\":{\"__ndarray__\":\"AAAAAAAAUD////////+FPwIAAAAAAKw//v//////xT8CAAAAACDYP///////7+M/AAAAAACA6j8AAAAAAEDuPwAAAAAAqO8/AAAAAAD47z8AAAAAAADwPw==\",\"dtype\":\"float64\",\"shape\":[11]}},\"selected\":{\"id\":\"1194\",\"type\":\"Selection\"},\"selection_policy\":{\"id\":\"1193\",\"type\":\"UnionRenderers\"}},\"id\":\"1163\",\"type\":\"ColumnDataSource\"},{\"attributes\":{},\"id\":\"1186\",\"type\":\"Selection\"},{\"attributes\":{},\"id\":\"1111\",\"type\":\"LinearScale\"},{\"attributes\":{\"fill_color\":{\"value\":\"white\"},\"line_color\":{\"value\":\"#1f77b4\"},\"x\":{\"field\":\"x\"},\"y\":{\"field\":\"y\"}},\"id\":\"1159\",\"type\":\"Circle\"},{\"attributes\":{\"overlay\":{\"id\":\"1131\",\"type\":\"BoxAnnotation\"}},\"id\":\"1125\",\"type\":\"BoxZoomTool\"},{\"attributes\":{},\"id\":\"1187\",\"type\":\"UnionRenderers\"},{\"attributes\":{\"axis_label\":\"n\",\"formatter\":{\"id\":\"1180\",\"type\":\"BasicTickFormatter\"},\"plot\":{\"id\":\"1104\",\"subtype\":\"Figure\",\"type\":\"Plot\"},\"ticker\":{\"id\":\"1114\",\"type\":\"BasicTicker\"}},\"id\":\"1113\",\"type\":\"LinearAxis\"},{\"attributes\":{},\"id\":\"1188\",\"type\":\"Selection\"},{\"attributes\":{},\"id\":\"1114\",\"type\":\"BasicTicker\"},{\"attributes\":{},\"id\":\"1126\",\"type\":\"SaveTool\"},{\"attributes\":{},\"id\":\"1189\",\"type\":\"UnionRenderers\"},{\"attributes\":{\"plot\":{\"id\":\"1104\",\"subtype\":\"Figure\",\"type\":\"Plot\"},\"ticker\":{\"id\":\"1114\",\"type\":\"BasicTicker\"}},\"id\":\"1117\",\"type\":\"Grid\"},{\"attributes\":{\"fill_color\":{\"value\":\"white\"},\"line_color\":{\"value\":\"#1f77b4\"},\"x\":{\"field\":\"x\"},\"y\":{\"field\":\"y\"}},\"id\":\"1154\",\"type\":\"Circle\"},{\"attributes\":{\"fill_alpha\":{\"value\":0.1},\"fill_color\":{\"value\":\"#1f77b4\"},\"line_alpha\":{\"value\":0.1},\"line_color\":{\"value\":\"#1f77b4\"},\"x\":{\"field\":\"x\"},\"y\":{\"field\":\"y\"}},\"id\":\"1160\",\"type\":\"Circle\"},{\"attributes\":{},\"id\":\"1127\",\"type\":\"ResetTool\"},{\"attributes\":{},\"id\":\"1190\",\"type\":\"Selection\"},{\"attributes\":{\"data_source\":{\"id\":\"1158\",\"type\":\"ColumnDataSource\"},\"glyph\":{\"id\":\"1159\",\"type\":\"Circle\"},\"hover_glyph\":null,\"muted_glyph\":null,\"nonselection_glyph\":{\"id\":\"1160\",\"type\":\"Circle\"},\"selection_glyph\":null,\"view\":{\"id\":\"1162\",\"type\":\"CDSView\"}},\"id\":\"1161\",\"type\":\"GlyphRenderer\"},{\"attributes\":{},\"id\":\"1128\",\"type\":\"HelpTool\"},{\"attributes\":{\"callback\":null,\"data\":{\"x\":[1,2,3,4,5,6,7,8,9,10],\"y\":{\"__ndarray__\":\"AAAAAAAAUD////////+FPwIAAAAAAKw//v//////xT8CAAAAACDYP///////7+M/AAAAAACA6j8AAAAAAEDuPwAAAAAAqO8/AAAAAAD47z8=\",\"dtype\":\"float64\",\"shape\":[10]}},\"selected\":{\"id\":\"1192\",\"type\":\"Selection\"},\"selection_policy\":{\"id\":\"1191\",\"type\":\"UnionRenderers\"}},\"id\":\"1158\",\"type\":\"ColumnDataSource\"},{\"attributes\":{},\"id\":\"1191\",\"type\":\"UnionRenderers\"},{\"attributes\":{\"data_source\":{\"id\":\"1143\",\"type\":\"ColumnDataSource\"},\"glyph\":{\"id\":\"1144\",\"type\":\"Ray\"},\"hover_glyph\":null,\"muted_glyph\":null,\"nonselection_glyph\":{\"id\":\"1145\",\"type\":\"Ray\"},\"selection_glyph\":null,\"view\":{\"id\":\"1147\",\"type\":\"CDSView\"}},\"id\":\"1146\",\"type\":\"GlyphRenderer\"},{\"attributes\":{\"active_drag\":\"auto\",\"active_inspect\":\"auto\",\"active_multi\":null,\"active_scroll\":\"auto\",\"active_tap\":\"auto\",\"tools\":[{\"id\":\"1123\",\"type\":\"PanTool\"},{\"id\":\"1124\",\"type\":\"WheelZoomTool\"},{\"id\":\"1125\",\"type\":\"BoxZoomTool\"},{\"id\":\"1126\",\"type\":\"SaveTool\"},{\"id\":\"1127\",\"type\":\"ResetTool\"},{\"id\":\"1128\",\"type\":\"HelpTool\"}]},\"id\":\"1129\",\"type\":\"Toolbar\"},{\"attributes\":{\"callback\":null,\"data\":{\"x\":[0],\"y\":[0]},\"selected\":{\"id\":\"1190\",\"type\":\"Selection\"},\"selection_policy\":{\"id\":\"1189\",\"type\":\"UnionRenderers\"}},\"id\":\"1153\",\"type\":\"ColumnDataSource\"},{\"attributes\":{\"source\":{\"id\":\"1158\",\"type\":\"ColumnDataSource\"}},\"id\":\"1162\",\"type\":\"CDSView\"},{\"attributes\":{},\"id\":\"1192\",\"type\":\"Selection\"},{\"attributes\":{\"plot\":null,\"text\":\"\"},\"id\":\"1177\",\"type\":\"Title\"},{\"attributes\":{},\"id\":\"1123\",\"type\":\"PanTool\"},{\"attributes\":{\"bottom_units\":\"screen\",\"fill_alpha\":{\"value\":0.5},\"fill_color\":{\"value\":\"lightgrey\"},\"left_units\":\"screen\",\"level\":\"overlay\",\"line_alpha\":{\"value\":1.0},\"line_color\":{\"value\":\"black\"},\"line_dash\":[4,4],\"line_width\":{\"value\":2},\"plot\":null,\"render_mode\":\"css\",\"right_units\":\"screen\",\"top_units\":\"screen\"},\"id\":\"1131\",\"type\":\"BoxAnnotation\"},{\"attributes\":{},\"id\":\"1193\",\"type\":\"UnionRenderers\"},{\"attributes\":{\"angle\":{\"units\":\"rad\",\"value\":3.141592653589793},\"length\":{\"units\":\"data\",\"value\":0},\"line_color\":{\"value\":\"#1f77b4\"},\"line_width\":{\"value\":2},\"x\":{\"value\":0},\"y\":{\"value\":0}},\"id\":\"1144\",\"type\":\"Ray\"},{\"attributes\":{\"fill_color\":{\"value\":\"#1f77b4\"},\"line_color\":{\"value\":\"#1f77b4\"},\"x\":{\"field\":\"x\"},\"y\":{\"field\":\"y\"}},\"id\":\"1164\",\"type\":\"Circle\"},{\"attributes\":{},\"id\":\"1194\",\"type\":\"Selection\"},{\"attributes\":{\"source\":{\"id\":\"1138\",\"type\":\"ColumnDataSource\"}},\"id\":\"1142\",\"type\":\"CDSView\"},{\"attributes\":{\"angle\":{\"units\":\"rad\",\"value\":3.141592653589793},\"length\":{\"units\":\"data\",\"value\":0},\"line_alpha\":{\"value\":0.1},\"line_color\":{\"value\":\"#1f77b4\"},\"line_width\":{\"value\":2},\"x\":{\"value\":0},\"y\":{\"value\":0}},\"id\":\"1145\",\"type\":\"Ray\"},{\"attributes\":{\"fill_alpha\":{\"value\":0.1},\"fill_color\":{\"value\":\"#1f77b4\"},\"line_alpha\":{\"value\":0.1},\"line_color\":{\"value\":\"#1f77b4\"},\"x\":{\"field\":\"x\"},\"y\":{\"field\":\"y\"}},\"id\":\"1165\",\"type\":\"Circle\"},{\"attributes\":{\"callback\":null,\"data\":{},\"selected\":{\"id\":\"1188\",\"type\":\"Selection\"},\"selection_policy\":{\"id\":\"1187\",\"type\":\"UnionRenderers\"}},\"id\":\"1148\",\"type\":\"ColumnDataSource\"},{\"attributes\":{\"data_source\":{\"id\":\"1163\",\"type\":\"ColumnDataSource\"},\"glyph\":{\"id\":\"1164\",\"type\":\"Circle\"},\"hover_glyph\":null,\"muted_glyph\":null,\"nonselection_glyph\":{\"id\":\"1165\",\"type\":\"Circle\"},\"selection_glyph\":null,\"view\":{\"id\":\"1167\",\"type\":\"CDSView\"}},\"id\":\"1166\",\"type\":\"GlyphRenderer\"},{\"attributes\":{\"dimension\":1,\"plot\":{\"id\":\"1104\",\"subtype\":\"Figure\",\"type\":\"Plot\"},\"ticker\":{\"id\":\"1119\",\"type\":\"BasicTicker\"}},\"id\":\"1122\",\"type\":\"Grid\"}],\"root_ids\":[\"1104\"]},\"title\":\"Bokeh Application\",\"version\":\"1.0.4\"}};\n",
       "  var render_items = [{\"docid\":\"770b0f2c-941f-4e93-88c4-f8aaa5415ba4\",\"roots\":{\"1104\":\"195fa741-b5f2-4243-b6bc-b5239291b061\"}}];\n",
       "  root.Bokeh.embed.embed_items_notebook(docs_json, render_items);\n",
       "\n",
       "  }\n",
       "  if (root.Bokeh !== undefined) {\n",
       "    embed_document(root);\n",
       "  } else {\n",
       "    var attempts = 0;\n",
       "    var timer = setInterval(function(root) {\n",
       "      if (root.Bokeh !== undefined) {\n",
       "        embed_document(root);\n",
       "        clearInterval(timer);\n",
       "      }\n",
       "      attempts++;\n",
       "      if (attempts > 100) {\n",
       "        console.log(\"Bokeh: ERROR: Unable to run BokehJS code because BokehJS library is missing\");\n",
       "        clearInterval(timer);\n",
       "      }\n",
       "    }, 10, root)\n",
       "  }\n",
       "})(window);"
      ],
      "application/vnd.bokehjs_exec.v0+json": ""
     },
     "metadata": {
      "application/vnd.bokehjs_exec.v0+json": {
       "id": "1104"
      }
     },
     "output_type": "display_data"
    }
   ],
   "source": [
    "x = np.arange(0, 11)\n",
    "y = st.binom.cdf(x, 10, 0.5)\n",
    "\n",
    "p = bokeh.plotting.figure(plot_height=250,\n",
    "                          plot_width=350,\n",
    "                          x_axis_label='n',\n",
    "                          y_axis_label='F(n; 10, 0.5)')\n",
    "p.segment(x[:-1], y[:-1], x[1:], y[:-1], line_width=2)\n",
    "p.ray(0, 0, angle=np.pi, length=0, line_width=2)\n",
    "p.ray(x[-1], 1, angle=0, length=0, line_width=2)\n",
    "p.circle([0], [0], fill_color='white')\n",
    "p.circle(x[1:], y[:-1], fill_color='white')\n",
    "p.circle(x, y)\n",
    "bokeh.io.show(p)"
   ]
  },
  {
   "cell_type": "markdown",
   "metadata": {},
   "source": [
    "However, since it is understood that the CDF is not multivalued, there should be no ambiguity in plotting the staircase, and indeed staircase style CDFs are commonly used. The staircase has less clutter and I find it is easier to look at and interpret. Furthemore, we know that all CDFs extend toward $x=-\\infty$ with a value of zero and toward $x=\\infty$ with a value of one. So, again, there is no ambiguity in cutting off the infinitely long tails of the CDF."
   ]
  },
  {
   "cell_type": "markdown",
   "metadata": {},
   "source": [
    "## Discrete distributions"
   ]
  },
  {
   "cell_type": "markdown",
   "metadata": {},
   "source": [
    "### Bernoulli distribution\n",
    "\n",
    "* **Story.** A *Bernoulli trial* is an experiment that has two outcomes that can be encoded as success ($y=1$) or failure ($y = 0$). The result $y$ of a Bernoulli trial is Bernoulli distributed.\n",
    "\n",
    "* **Example.** Check to see if a given bacterium is competent, given that it has probability $\\theta$ of being competent.\n",
    "\n",
    "* **Parameter.** The Bernoulli distribution is parametrized by a\n",
    "single value, $\\theta$, the probability that the trial is successful.\n",
    "\n",
    "* **Support.**\n",
    "The Bernoulli distribution may be nonzero only for zero and one.\n",
    "\n",
    "* **Probability mass function.**\n",
    "\\begin{align}\n",
    "f(y;\\theta) = \\left\\{ \\begin{array}{ccc}\n",
    "1-\\theta & & y = 0 \\\\[0.5em]\n",
    "\\theta & & y = 1.\n",
    "\\end{array}\n",
    "\\right.\n",
    "\\end{align}\n",
    "\n",
    "* **Usage**\n",
    "\n",
    "| Package        | Syntax           |\n",
    "|: ------------- | :------------- |\n",
    "|**NumPy** | `np.random.choice([0, 1], p=[1-theta, theta])` |\n",
    "|**SciPy** | `scipy.stats.bernoulli(theta)` |\n",
    "|**Stan** | `bernoulli(theta)` |\n",
    "\n",
    "* **Related distributions.** \n",
    "    - The Bernoulli distribution is a special case of the [Binomial distribution](#Binomial-distribution) with $N=1$."
   ]
  },
  {
   "cell_type": "code",
   "execution_count": 4,
   "metadata": {},
   "outputs": [
    {
     "data": {
      "text/html": [
       "\n",
       "\n",
       "\n",
       "\n",
       "\n",
       "\n",
       "  <div class=\"bk-root\" id=\"76023df6-0c58-4184-9014-b0ba8690d9b2\" data-root-id=\"1425\"></div>\n"
      ]
     },
     "metadata": {},
     "output_type": "display_data"
    },
    {
     "data": {
      "application/javascript": [
       "(function(root) {\n",
       "  function embed_document(root) {\n",
       "    \n",
       "  var docs_json = {\"ccc534e2-e914-4f20-a35a-509fc1b743ad\":{\"roots\":{\"references\":[{\"attributes\":{\"children\":[{\"id\":\"1424\",\"type\":\"WidgetBox\"},{\"id\":\"1423\",\"type\":\"Column\"}]},\"id\":\"1425\",\"type\":\"Column\"},{\"attributes\":{\"active_drag\":\"auto\",\"active_inspect\":\"auto\",\"active_multi\":null,\"active_scroll\":\"auto\",\"active_tap\":\"auto\",\"tools\":[{\"id\":\"1365\",\"type\":\"PanTool\"},{\"id\":\"1366\",\"type\":\"WheelZoomTool\"},{\"id\":\"1367\",\"type\":\"BoxZoomTool\"},{\"id\":\"1368\",\"type\":\"SaveTool\"},{\"id\":\"1369\",\"type\":\"ResetTool\"},{\"id\":\"1370\",\"type\":\"HelpTool\"}]},\"id\":\"1371\",\"type\":\"Toolbar\"},{\"attributes\":{\"overlay\":{\"id\":\"1339\",\"type\":\"BoxAnnotation\"}},\"id\":\"1333\",\"type\":\"BoxZoomTool\"},{\"attributes\":{},\"id\":\"1370\",\"type\":\"HelpTool\"},{\"attributes\":{\"bottom_units\":\"screen\",\"fill_alpha\":{\"value\":0.5},\"fill_color\":{\"value\":\"lightgrey\"},\"left_units\":\"screen\",\"level\":\"overlay\",\"line_alpha\":{\"value\":1.0},\"line_color\":{\"value\":\"black\"},\"line_dash\":[4,4],\"line_width\":{\"value\":2},\"plot\":null,\"render_mode\":\"css\",\"right_units\":\"screen\",\"top_units\":\"screen\"},\"id\":\"1373\",\"type\":\"BoxAnnotation\"},{\"attributes\":{},\"id\":\"1317\",\"type\":\"LinearScale\"},{\"attributes\":{\"children\":[{\"id\":\"1311\",\"subtype\":\"Figure\",\"type\":\"Plot\"},{\"id\":\"1346\",\"subtype\":\"Figure\",\"type\":\"Plot\"}]},\"id\":\"1419\",\"type\":\"Row\"},{\"attributes\":{},\"id\":\"1402\",\"type\":\"BasicTickFormatter\"},{\"attributes\":{\"below\":[{\"id\":\"1321\",\"type\":\"LinearAxis\"}],\"left\":[{\"id\":\"1326\",\"type\":\"LinearAxis\"}],\"plot_height\":200,\"plot_width\":300,\"renderers\":[{\"id\":\"1321\",\"type\":\"LinearAxis\"},{\"id\":\"1325\",\"type\":\"Grid\"},{\"id\":\"1326\",\"type\":\"LinearAxis\"},{\"id\":\"1330\",\"type\":\"Grid\"},{\"id\":\"1339\",\"type\":\"BoxAnnotation\"},{\"id\":\"1391\",\"type\":\"GlyphRenderer\"},{\"id\":\"1396\",\"type\":\"GlyphRenderer\"}],\"title\":{\"id\":\"1310\",\"type\":\"Title\"},\"toolbar\":{\"id\":\"1337\",\"type\":\"Toolbar\"},\"toolbar_location\":null,\"x_range\":{\"id\":\"1313\",\"type\":\"DataRange1d\"},\"x_scale\":{\"id\":\"1317\",\"type\":\"LinearScale\"},\"y_range\":{\"id\":\"1315\",\"type\":\"DataRange1d\"},\"y_scale\":{\"id\":\"1319\",\"type\":\"LinearScale\"}},\"id\":\"1311\",\"subtype\":\"Figure\",\"type\":\"Plot\"},{\"attributes\":{\"callback\":null,\"data\":{\"x\":{\"__ndarray__\":\"mpmZmZmZqb8AAAAAAAAAAAAAAAAAAAAAAAAAAAAA8D8AAAAAAADwP83MzMzMzPA/\",\"dtype\":\"float64\",\"shape\":[6]},\"y_c\":{\"__ndarray__\":\"AAAAAAAAAAAAAAAAAAAAAAAAAAAAAOA/AAAAAAAA4D8AAAAAAADwPwAAAAAAAPA/\",\"dtype\":\"float64\",\"shape\":[6]}},\"selected\":{\"id\":\"1416\",\"type\":\"Selection\"},\"selection_policy\":{\"id\":\"1415\",\"type\":\"UnionRenderers\"}},\"id\":\"1382\",\"type\":\"ColumnDataSource\"},{\"attributes\":{\"line_alpha\":0.1,\"line_color\":\"#1f77b4\",\"line_width\":2,\"x\":{\"field\":\"x\"},\"y\":{\"field\":\"y_c\"}},\"id\":\"1385\",\"type\":\"Line\"},{\"attributes\":{\"overlay\":{\"id\":\"1373\",\"type\":\"BoxAnnotation\"}},\"id\":\"1367\",\"type\":\"BoxZoomTool\"},{\"attributes\":{},\"id\":\"1416\",\"type\":\"Selection\"},{\"attributes\":{\"dimension\":1,\"plot\":{\"id\":\"1346\",\"subtype\":\"Figure\",\"type\":\"Plot\"},\"ticker\":{\"id\":\"1361\",\"type\":\"BasicTicker\"}},\"id\":\"1364\",\"type\":\"Grid\"},{\"attributes\":{\"data_source\":{\"id\":\"1382\",\"type\":\"ColumnDataSource\"},\"glyph\":{\"id\":\"1384\",\"type\":\"Line\"},\"hover_glyph\":null,\"muted_glyph\":null,\"nonselection_glyph\":{\"id\":\"1385\",\"type\":\"Line\"},\"selection_glyph\":null,\"view\":{\"id\":\"1387\",\"type\":\"CDSView\"}},\"id\":\"1386\",\"type\":\"GlyphRenderer\"},{\"attributes\":{},\"id\":\"1319\",\"type\":\"LinearScale\"},{\"attributes\":{\"tools\":[{\"id\":\"1331\",\"type\":\"PanTool\"},{\"id\":\"1332\",\"type\":\"WheelZoomTool\"},{\"id\":\"1333\",\"type\":\"BoxZoomTool\"},{\"id\":\"1334\",\"type\":\"SaveTool\"},{\"id\":\"1335\",\"type\":\"ResetTool\"},{\"id\":\"1336\",\"type\":\"HelpTool\"},{\"id\":\"1365\",\"type\":\"PanTool\"},{\"id\":\"1366\",\"type\":\"WheelZoomTool\"},{\"id\":\"1367\",\"type\":\"BoxZoomTool\"},{\"id\":\"1368\",\"type\":\"SaveTool\"},{\"id\":\"1369\",\"type\":\"ResetTool\"},{\"id\":\"1370\",\"type\":\"HelpTool\"}]},\"id\":\"1421\",\"type\":\"ProxyToolbar\"},{\"attributes\":{},\"id\":\"1365\",\"type\":\"PanTool\"},{\"attributes\":{\"axis_label\":\"y\",\"formatter\":{\"id\":\"1402\",\"type\":\"BasicTickFormatter\"},\"plot\":{\"id\":\"1311\",\"subtype\":\"Figure\",\"type\":\"Plot\"},\"ticker\":{\"id\":\"1322\",\"type\":\"BasicTicker\"}},\"id\":\"1321\",\"type\":\"LinearAxis\"},{\"attributes\":{\"source\":{\"id\":\"1382\",\"type\":\"ColumnDataSource\"}},\"id\":\"1387\",\"type\":\"CDSView\"},{\"attributes\":{},\"id\":\"1415\",\"type\":\"UnionRenderers\"},{\"attributes\":{\"toolbar\":{\"id\":\"1421\",\"type\":\"ProxyToolbar\"},\"toolbar_location\":\"above\"},\"id\":\"1422\",\"type\":\"ToolbarBox\"},{\"attributes\":{},\"id\":\"1331\",\"type\":\"PanTool\"},{\"attributes\":{\"callback\":null,\"data\":{\"x\":[0,1],\"y_p\":{\"__ndarray__\":\"AAAAAAAA4D8AAAAAAADgPw==\",\"dtype\":\"float64\",\"shape\":[2]}},\"selected\":{\"id\":\"1406\",\"type\":\"Selection\"},\"selection_policy\":{\"id\":\"1405\",\"type\":\"UnionRenderers\"}},\"id\":\"1381\",\"type\":\"ColumnDataSource\"},{\"attributes\":{\"children\":[{\"id\":\"1422\",\"type\":\"ToolbarBox\"},{\"id\":\"1420\",\"type\":\"Column\"}]},\"id\":\"1423\",\"type\":\"Column\"},{\"attributes\":{\"args\":{\"arg1\":{\"id\":\"1399\",\"type\":\"Slider\"},\"arg2\":{\"id\":\"1399\",\"type\":\"Slider\"},\"arg3\":{\"id\":\"1399\",\"type\":\"Slider\"},\"discrete\":true,\"dist\":\"bernoulli\",\"source_c\":{\"id\":\"1382\",\"type\":\"ColumnDataSource\"},\"source_p\":{\"id\":\"1381\",\"type\":\"ColumnDataSource\"},\"xrange\":{\"id\":\"1313\",\"type\":\"DataRange1d\"}},\"code\":\"function linspace(start, stop, n) {\\n\\tvar x = [];\\n\\tvar currValue = start;\\n\\tvar step = (stop - start) / (n - 1);\\n\\tfor (var i = 0; i < n; i++) {\\n\\t\\tx.push(currValue);\\n\\t\\tcurrValue += step;\\n\\t}\\n\\treturn x;\\n}\\n\\n\\nfunction arange(start, stop) {\\n\\tvar x = [];\\n\\tfor (var i = start; i < stop; i++) x.push(i);\\n\\treturn x;\\n}\\n\\n\\nfunction bernoulli_prob(x, theta, {}, {}) {\\n\\tif (x == 0) return 1 - theta;\\n\\telse if (x == 1) return theta;\\n\\telse return 0.0;\\n}\\n\\n\\nfunction geometric_prob(x, theta, {}, {}) {\\n\\tif (theta == 1) {\\n\\t\\tif (x == 0) return 1.0;\\n\\t\\treturn 0.0;\\n\\t}\\n\\n\\tif (x < 0 || theta == 0) return 0.0;\\n\\n\\treturn Math.exp(x * Math.log(1-theta) + Math.log(theta))\\n}\\n\\n\\nfunction negative_binomial_prob(y, alpha, beta, {}) {\\n    if (y  < 0) return 0.0;\\n\\n    return Math.exp(lngamma(y + alpha)\\n                    - lngamma(alpha)\\n                    - lnfactorial(y)\\n                    + alpha * Math.log(beta / (1 + beta))\\n                    - y * Math.log(1 + beta));\\n}\\n\\n\\nfunction negative_binomial_mu_phi_prob(y, mu, phi, {}) {\\n   \\treturn negative_binomial_prob(y, phi, phi/mu, {});\\n}\\n\\nfunction binomial_prob(n, N, theta, {}) {\\n    if (n > N || n < 0) return 0.0;\\n\\n    if (theta == 0) {\\n    \\tif (n == 0) return 1.0;\\n    \\treturn 0.0;\\n    }\\n\\n    if (theta == 1) {\\n        if (n == N) return 1.0;\\n        return 0.0;\\n    }\\n\\n    return Math.exp(lnfactorial(N)\\n                    - lnfactorial(N - n)\\n                    - lnfactorial(n)\\n                    + n * Math.log(theta)\\n                    + (N - n) * Math.log(1-theta));\\n}\\n\\n\\nfunction discrete_cdf(cumsum, y_p) {\\n\\tvar y_c = [];\\n\\n\\ty_c.push(cumsum, cumsum);\\n    for (var i = 0; i < y_p.length; i++) {\\n        cumsum += y_p[i];\\n\\t\\ty_c.push(cumsum, cumsum);\\n    }\\n\\n    return y_c;\\n}\\n\\n\\nfunction update_y_p_discrete(probFun, x_p, arg1, arg2, arg3) {\\n\\t// Compute PMF\\n\\tvar y_p = [];\\n    for (var i = 0; i < x_p.length; i++) {\\n      y_p.push(probFun(x_p[i], arg1, arg2, arg3));\\n    }\\n\\n    return y_p;\\n}\\n\\n\\nfunction update_y_c_discrete(probFun, x_p, y_p, arg1, arg2, arg3) {\\n    // Compute CDF\\n    var cumsum = 0.0\\n    for (var i = 0; i < x_p[0]; i++) {\\n        cumsum += probFun(x_p[i], arg1, arg2, arg3);\\n    }\\n\\n    y_c = discrete_cdf(cumsum, y_p);\\n    return y_c;\\n}\\n\\n\\nfunction lnfactorial(n) {\\n  if (n > 254) { // Use Stirling's approximation\\n    var x = n + 1;\\n    return (x - 0.5)*Math.log(x) - x + 0.5*Math.log(2*Math.PI) + 1.0/(12.0*x);\\n  }\\n  else { // Look it up\\n    const lnfact = [0.000000000000000,\\n                    0.000000000000000,\\n                    0.693147180559945,\\n                    1.791759469228055,\\n                    3.178053830347946,\\n                    4.787491742782046,\\n                    6.579251212010101,\\n                    8.525161361065415,\\n                    10.604602902745251,\\n                    12.801827480081469,\\n                    15.104412573075516,\\n                    17.502307845873887,\\n                    19.987214495661885,\\n                    22.552163853123421,\\n                    25.191221182738683,\\n                    27.899271383840894,\\n                    30.671860106080675,\\n                    33.505073450136891,\\n                    36.395445208033053,\\n                    39.339884187199495,\\n                    42.335616460753485,\\n                    45.380138898476908,\\n                    48.471181351835227,\\n                    51.606675567764377,\\n                    54.784729398112319,\\n                    58.003605222980518,\\n                    61.261701761002001,\\n                    64.557538627006323,\\n                    67.889743137181526,\\n                    71.257038967168000,\\n                    74.658236348830158,\\n                    78.092223553315307,\\n                    81.557959456115029,\\n                    85.054467017581516,\\n                    88.580827542197682,\\n                    92.136175603687079,\\n                    95.719694542143202,\\n                    99.330612454787428,\\n                    102.968198614513810,\\n                    106.631760260643450,\\n                    110.320639714757390,\\n                    114.034211781461690,\\n                    117.771881399745060,\\n                    121.533081515438640,\\n                    125.317271149356880,\\n                    129.123933639127240,\\n                    132.952575035616290,\\n                    136.802722637326350,\\n                    140.673923648234250,\\n                    144.565743946344900,\\n                    148.477766951773020,\\n                    152.409592584497350,\\n                    156.360836303078800,\\n                    160.331128216630930,\\n                    164.320112263195170,\\n                    168.327445448427650,\\n                    172.352797139162820,\\n                    176.395848406997370,\\n                    180.456291417543780,\\n                    184.533828861449510,\\n                    188.628173423671600,\\n                    192.739047287844900,\\n                    196.866181672889980,\\n                    201.009316399281570,\\n                    205.168199482641200,\\n                    209.342586752536820,\\n                    213.532241494563270,\\n                    217.736934113954250,\\n                    221.956441819130360,\\n                    226.190548323727570,\\n                    230.439043565776930,\\n                    234.701723442818260,\\n                    238.978389561834350,\\n                    243.268849002982730,\\n                    247.572914096186910,\\n                    251.890402209723190,\\n                    256.221135550009480,\\n                    260.564940971863220,\\n                    264.921649798552780,\\n                    269.291097651019810,\\n                    273.673124285693690,\\n                    278.067573440366120,\\n                    282.474292687630400,\\n                    286.893133295426990,\\n                    291.323950094270290,\\n                    295.766601350760600,\\n                    300.220948647014100,\\n                    304.686856765668720,\\n                    309.164193580146900,\\n                    313.652829949878990,\\n                    318.152639620209300,\\n                    322.663499126726210,\\n                    327.185287703775200,\\n                    331.717887196928470,\\n                    336.261181979198450,\\n                    340.815058870798960,\\n                    345.379407062266860,\\n                    349.954118040770250,\\n                    354.539085519440790,\\n                    359.134205369575340,\\n                    363.739375555563470,\\n                    368.354496072404690,\\n                    372.979468885689020,\\n                    377.614197873918670,\\n                    382.258588773060010,\\n                    386.912549123217560,\\n                    391.575988217329610,\\n                    396.248817051791490,\\n                    400.930948278915760,\\n                    405.622296161144900,\\n                    410.322776526937280,\\n                    415.032306728249580,\\n                    419.750805599544780,\\n                    424.478193418257090,\\n                    429.214391866651570,\\n                    433.959323995014870,\\n                    438.712914186121170,\\n                    443.475088120918940,\\n                    448.245772745384610,\\n                    453.024896238496130,\\n                    457.812387981278110,\\n                    462.608178526874890,\\n                    467.412199571608080,\\n                    472.224383926980520,\\n                    477.044665492585580,\\n                    481.872979229887900,\\n                    486.709261136839360,\\n                    491.553448223298010,\\n                    496.405478487217580,\\n                    501.265290891579240,\\n                    506.132825342034830,\\n                    511.008022665236070,\\n                    515.890824587822520,\\n                    520.781173716044240,\\n                    525.679013515995050,\\n                    530.584288294433580,\\n                    535.496943180169520,\\n                    540.416924105997740,\\n                    545.344177791154950,\\n                    550.278651724285620,\\n                    555.220294146894960,\\n                    560.169054037273100,\\n                    565.124881094874350,\\n                    570.087725725134190,\\n                    575.057539024710200,\\n                    580.034272767130800,\\n                    585.017879388839220,\\n                    590.008311975617860,\\n                    595.005524249382010,\\n                    600.009470555327430,\\n                    605.020105849423770,\\n                    610.037385686238740,\\n                    615.061266207084940,\\n                    620.091704128477430,\\n                    625.128656730891070,\\n                    630.172081847810200,\\n                    635.221937855059760,\\n                    640.278183660408100,\\n                    645.340778693435030,\\n                    650.409682895655240,\\n                    655.484856710889060,\\n                    660.566261075873510,\\n                    665.653857411105950,\\n                    670.747607611912710,\\n                    675.847474039736880,\\n                    680.953419513637530,\\n                    686.065407301994010,\\n                    691.183401114410800,\\n                    696.307365093814040,\\n                    701.437263808737160,\\n                    706.573062245787470,\\n                    711.714725802289990,\\n                    716.862220279103440,\\n                    722.015511873601330,\\n                    727.174567172815840,\\n                    732.339353146739310,\\n                    737.509837141777440,\\n                    742.685986874351220,\\n                    747.867770424643370,\\n                    753.055156230484160,\\n                    758.248113081374300,\\n                    763.446610112640200,\\n                    768.650616799717000,\\n                    773.860102952558460,\\n                    779.075038710167410,\\n                    784.295394535245690,\\n                    789.521141208958970,\\n                    794.752249825813460,\\n                    799.988691788643450,\\n                    805.230438803703120,\\n                    810.477462875863580,\\n                    815.729736303910160,\\n                    820.987231675937890,\\n                    826.249921864842800,\\n                    831.517780023906310,\\n                    836.790779582469900,\\n                    842.068894241700490,\\n                    847.352097970438420,\\n                    852.640365001133090,\\n                    857.933669825857460,\\n                    863.231987192405430,\\n                    868.535292100464630,\\n                    873.843559797865740,\\n                    879.156765776907600,\\n                    884.474885770751830,\\n                    889.797895749890240,\\n                    895.125771918679900,\\n                    900.458490711945270,\\n                    905.796028791646340,\\n                    911.138363043611210,\\n                    916.485470574328820,\\n                    921.837328707804890,\\n                    927.193914982476710,\\n                    932.555207148186240,\\n                    937.921183163208070,\\n                    943.291821191335660,\\n                    948.667099599019820,\\n                    954.046996952560450,\\n                    959.431492015349480,\\n                    964.820563745165940,\\n                    970.214191291518320,\\n                    975.612353993036210,\\n                    981.015031374908400,\\n                    986.422203146368590,\\n                    991.833849198223450,\\n                    997.249949600427840,\\n                    1002.670484599700300,\\n                    1008.095434617181700,\\n                    1013.524780246136200,\\n                    1018.958502249690200,\\n                    1024.396581558613400,\\n                    1029.838999269135500,\\n                    1035.285736640801600,\\n                    1040.736775094367400,\\n                    1046.192096209724900,\\n                    1051.651681723869200,\\n                    1057.115513528895000,\\n                    1062.583573670030100,\\n                    1068.055844343701400,\\n                    1073.532307895632800,\\n                    1079.012946818975000,\\n                    1084.497743752465600,\\n                    1089.986681478622400,\\n                    1095.479742921962700,\\n                    1100.976911147256000,\\n                    1106.478169357800900,\\n                    1111.983500893733000,\\n                    1117.492889230361000,\\n                    1123.006317976526100,\\n                    1128.523770872990800,\\n                    1134.045231790853000,\\n                    1139.570684729984800,\\n                    1145.100113817496100,\\n                    1150.633503306223700,\\n                    1156.170837573242400]\\n    return lnfact[n];\\n  }\\n}\\n\\n\\nfunction lngamma(z) {\\n\\t// Compute log of the Gamma function using Lanczos approx.,\\n\\t// see https://en.wikipedia.org/wiki/Lanczos_approximation.\\n\\n\\tif(z < 0) return Number('0/0');\\n\\n\\tif (z < 0.5) return Math.log(Math.PI) - Math.log(Math.sin(Math.PI * z)) - lngamma(1-z);\\n\\n    var p = [676.5203681218851,\\n\\t         -1259.1392167224028,\\n\\t         771.32342877765313,\\n\\t         -176.61502916214059,\\n\\t         12.507343278686905,\\n\\t         -0.13857109526572012,\\n\\t         9.9843695780195716e-6,\\n\\t         1.5056327351493116e-7];\\n\\n\\tz -= 1.0;\\n\\tvar Ag = 0.99999999999980993;\\n\\tfor (var i = 0; i < p.length; i++) {\\n\\t\\tAg += p[i] / (z + i + 1);\\n\\t}\\n\\tvar t = z + p.length - 0.5;\\n\\n\\treturn 0.5 * Math.log(2*Math.PI) + (z + 0.5)*Math.log(t) - t + Math.log(Ag);\\n}\\n\\n\\n// Extract data from sources\\nvar data_p = source_p.data;\\nvar data_c = source_c.data;\\nvar x_p = data_p['x'];\\nvar y_p = data_p['y_p'];\\nvar x_c = data_c['x'];\\nvar y_c = data_c['y_c'];\\nvar xRangeMin = xrange.start;\\nvar xRangeMax = xrange.end;\\n\\n// Make corrections for start and end points for discrete distributions\\nif (dist == 'bernoulli' || dist == 'beta') {\\n\\txRangeMin = 0.0;\\n\\txRangeMax = 1.0;\\n}\\nelse if (dist == 'categorical') {\\n\\txRangeMin = 1.0;\\n\\txRangeMax = x_p.length;\\n}\\nelse if (discrete) {\\n  \\txRangeMin = Math.max(0, Math.floor(xRangeMin));\\n\\txRangeMax = Math.floor(xRangeMax);\\n}\\n\\n// x-values to evaluate PMF/PDF and CDF\\nif (discrete) {\\n\\tx_p = arange(xRangeMin, xRangeMax+1);\\n\\txSize = xRangeMax - xRangeMin;\\n\\n\\tx_c = [];\\n\\tfor (var i = 0; i < x_p.length; i++) x_c.push(x_p[i], x_p[i]);\\n\\n\\tx_c.unshift(Math.max(xRangeMin - 0.05 * xSize, xRangeMin - 0.95));\\n\\tx_c.push(Math.min(xRangeMax + 0.05 * xSize, xRangeMax + 0.95));\\n}\\nelse {\\n\\tx_p = linspace(xRangeMin, xRangeMax, n);\\n\\tx_c = x_p\\n}\\n\\n// Update sources with new x-values\\nsource_p.data['x'] = x_p\\nsource_c.data['x'] = x_c\\n\\n// Which function to compute probability or probability density\\nvar probFun\\nif (dist === 'bernoulli') probFun = bernoulli_prob;\\nelse if (dist === 'geometric') probFun = geometric_prob;\\nelse if (dist === 'negative_binomial') probFun = negative_binomial_prob;\\nelse if (dist === 'negative_binomial_mu_phi') probFun = negative_binomial_mu_phi_prob;\\nelse if (dist === 'binomial') probFun = binomial_prob;\\n\\n// Update the PMF/PDF and CDF\\nif (discrete) {\\n\\tsource_p.data['y_p'] = update_y_p_discrete(probFun, \\n\\t\\tx_p, arg1.value, arg2.value, arg3.value);\\n\\tsource_c.data['y_c'] = update_y_c_discrete(probFun, \\n\\t\\tx_c, source_p.data['y_p'], arg1.value, arg2.value, arg3.value);\\n}\\n\\nsource_p.change.emit();\\nsource_c.change.emit();\"},\"id\":\"1398\",\"type\":\"CustomJS\"},{\"attributes\":{},\"id\":\"1336\",\"type\":\"HelpTool\"},{\"attributes\":{},\"id\":\"1368\",\"type\":\"SaveTool\"},{\"attributes\":{\"plot\":null,\"text\":\"Bernoulli\"},\"id\":\"1310\",\"type\":\"Title\"},{\"attributes\":{\"fill_color\":{\"value\":\"#1f77b4\"},\"line_color\":{\"value\":\"#1f77b4\"},\"size\":{\"units\":\"screen\",\"value\":5},\"x\":{\"field\":\"x\"},\"y\":{\"field\":\"y_p\"}},\"id\":\"1389\",\"type\":\"Circle\"},{\"attributes\":{\"fill_alpha\":{\"value\":0.1},\"fill_color\":{\"value\":\"#1f77b4\"},\"line_alpha\":{\"value\":0.1},\"line_color\":{\"value\":\"#1f77b4\"},\"size\":{\"units\":\"screen\",\"value\":5},\"x\":{\"field\":\"x\"},\"y\":{\"field\":\"y_p\"}},\"id\":\"1390\",\"type\":\"Circle\"},{\"attributes\":{\"children\":[{\"id\":\"1399\",\"type\":\"Slider\"}]},\"id\":\"1424\",\"type\":\"WidgetBox\"},{\"attributes\":{},\"id\":\"1361\",\"type\":\"BasicTicker\"},{\"attributes\":{\"callback\":null,\"range_padding\":0},\"id\":\"1313\",\"type\":\"DataRange1d\"},{\"attributes\":{},\"id\":\"1334\",\"type\":\"SaveTool\"},{\"attributes\":{},\"id\":\"1366\",\"type\":\"WheelZoomTool\"},{\"attributes\":{\"data_source\":{\"id\":\"1381\",\"type\":\"ColumnDataSource\"},\"glyph\":{\"id\":\"1389\",\"type\":\"Circle\"},\"hover_glyph\":null,\"muted_glyph\":null,\"nonselection_glyph\":{\"id\":\"1390\",\"type\":\"Circle\"},\"selection_glyph\":null,\"view\":{\"id\":\"1392\",\"type\":\"CDSView\"}},\"id\":\"1391\",\"type\":\"GlyphRenderer\"},{\"attributes\":{\"axis_label\":\"CDF\",\"formatter\":{\"id\":\"1414\",\"type\":\"BasicTickFormatter\"},\"plot\":{\"id\":\"1346\",\"subtype\":\"Figure\",\"type\":\"Plot\"},\"ticker\":{\"id\":\"1361\",\"type\":\"BasicTicker\"}},\"id\":\"1360\",\"type\":\"LinearAxis\"},{\"attributes\":{\"callback\":null},\"id\":\"1315\",\"type\":\"DataRange1d\"},{\"attributes\":{},\"id\":\"1405\",\"type\":\"UnionRenderers\"},{\"attributes\":{\"source\":{\"id\":\"1381\",\"type\":\"ColumnDataSource\"}},\"id\":\"1392\",\"type\":\"CDSView\"},{\"attributes\":{},\"id\":\"1412\",\"type\":\"BasicTickFormatter\"},{\"attributes\":{\"axis_label\":\"y\",\"formatter\":{\"id\":\"1412\",\"type\":\"BasicTickFormatter\"},\"plot\":{\"id\":\"1346\",\"subtype\":\"Figure\",\"type\":\"Plot\"},\"ticker\":{\"id\":\"1356\",\"type\":\"BasicTicker\"}},\"id\":\"1355\",\"type\":\"LinearAxis\"},{\"attributes\":{},\"id\":\"1322\",\"type\":\"BasicTicker\"},{\"attributes\":{},\"id\":\"1414\",\"type\":\"BasicTickFormatter\"},{\"attributes\":{\"axis_label\":\"PMF\",\"formatter\":{\"id\":\"1404\",\"type\":\"BasicTickFormatter\"},\"plot\":{\"id\":\"1311\",\"subtype\":\"Figure\",\"type\":\"Plot\"},\"ticker\":{\"id\":\"1327\",\"type\":\"BasicTicker\"}},\"id\":\"1326\",\"type\":\"LinearAxis\"},{\"attributes\":{},\"id\":\"1353\",\"type\":\"LinearScale\"},{\"attributes\":{\"line_color\":{\"value\":\"#1f77b4\"},\"line_width\":{\"value\":2},\"x0\":{\"field\":\"x\"},\"x1\":{\"field\":\"x\"},\"y0\":{\"value\":0},\"y1\":{\"field\":\"y_p\"}},\"id\":\"1394\",\"type\":\"Segment\"},{\"attributes\":{},\"id\":\"1327\",\"type\":\"BasicTicker\"},{\"attributes\":{},\"id\":\"1351\",\"type\":\"LinearScale\"},{\"attributes\":{\"line_alpha\":{\"value\":0.1},\"line_color\":{\"value\":\"#1f77b4\"},\"line_width\":{\"value\":2},\"x0\":{\"field\":\"x\"},\"x1\":{\"field\":\"x\"},\"y0\":{\"value\":0},\"y1\":{\"field\":\"y_p\"}},\"id\":\"1395\",\"type\":\"Segment\"},{\"attributes\":{},\"id\":\"1332\",\"type\":\"WheelZoomTool\"},{\"attributes\":{\"bottom_units\":\"screen\",\"fill_alpha\":{\"value\":0.5},\"fill_color\":{\"value\":\"lightgrey\"},\"left_units\":\"screen\",\"level\":\"overlay\",\"line_alpha\":{\"value\":1.0},\"line_color\":{\"value\":\"black\"},\"line_dash\":[4,4],\"line_width\":{\"value\":2},\"plot\":null,\"render_mode\":\"css\",\"right_units\":\"screen\",\"top_units\":\"screen\"},\"id\":\"1339\",\"type\":\"BoxAnnotation\"},{\"attributes\":{\"data_source\":{\"id\":\"1381\",\"type\":\"ColumnDataSource\"},\"glyph\":{\"id\":\"1394\",\"type\":\"Segment\"},\"hover_glyph\":null,\"muted_glyph\":null,\"nonselection_glyph\":{\"id\":\"1395\",\"type\":\"Segment\"},\"selection_glyph\":null,\"view\":{\"id\":\"1397\",\"type\":\"CDSView\"}},\"id\":\"1396\",\"type\":\"GlyphRenderer\"},{\"attributes\":{\"plot\":null,\"text\":\"\"},\"id\":\"1409\",\"type\":\"Title\"},{\"attributes\":{},\"id\":\"1356\",\"type\":\"BasicTicker\"},{\"attributes\":{\"plot\":{\"id\":\"1311\",\"subtype\":\"Figure\",\"type\":\"Plot\"},\"ticker\":{\"id\":\"1322\",\"type\":\"BasicTicker\"}},\"id\":\"1325\",\"type\":\"Grid\"},{\"attributes\":{},\"id\":\"1335\",\"type\":\"ResetTool\"},{\"attributes\":{},\"id\":\"1404\",\"type\":\"BasicTickFormatter\"},{\"attributes\":{\"plot\":{\"id\":\"1346\",\"subtype\":\"Figure\",\"type\":\"Plot\"},\"ticker\":{\"id\":\"1356\",\"type\":\"BasicTicker\"}},\"id\":\"1359\",\"type\":\"Grid\"},{\"attributes\":{\"source\":{\"id\":\"1381\",\"type\":\"ColumnDataSource\"}},\"id\":\"1397\",\"type\":\"CDSView\"},{\"attributes\":{\"dimension\":1,\"plot\":{\"id\":\"1311\",\"subtype\":\"Figure\",\"type\":\"Plot\"},\"ticker\":{\"id\":\"1327\",\"type\":\"BasicTicker\"}},\"id\":\"1330\",\"type\":\"Grid\"},{\"attributes\":{\"below\":[{\"id\":\"1355\",\"type\":\"LinearAxis\"}],\"left\":[{\"id\":\"1360\",\"type\":\"LinearAxis\"}],\"plot_height\":200,\"plot_width\":300,\"renderers\":[{\"id\":\"1355\",\"type\":\"LinearAxis\"},{\"id\":\"1359\",\"type\":\"Grid\"},{\"id\":\"1360\",\"type\":\"LinearAxis\"},{\"id\":\"1364\",\"type\":\"Grid\"},{\"id\":\"1373\",\"type\":\"BoxAnnotation\"},{\"id\":\"1386\",\"type\":\"GlyphRenderer\"}],\"title\":{\"id\":\"1409\",\"type\":\"Title\"},\"toolbar\":{\"id\":\"1371\",\"type\":\"Toolbar\"},\"toolbar_location\":null,\"x_range\":{\"id\":\"1313\",\"type\":\"DataRange1d\"},\"x_scale\":{\"id\":\"1351\",\"type\":\"LinearScale\"},\"y_range\":{\"id\":\"1380\",\"type\":\"Range1d\"},\"y_scale\":{\"id\":\"1353\",\"type\":\"LinearScale\"}},\"id\":\"1346\",\"subtype\":\"Figure\",\"type\":\"Plot\"},{\"attributes\":{},\"id\":\"1406\",\"type\":\"Selection\"},{\"attributes\":{\"active_drag\":\"auto\",\"active_inspect\":\"auto\",\"active_multi\":null,\"active_scroll\":\"auto\",\"active_tap\":\"auto\",\"tools\":[{\"id\":\"1331\",\"type\":\"PanTool\"},{\"id\":\"1332\",\"type\":\"WheelZoomTool\"},{\"id\":\"1333\",\"type\":\"BoxZoomTool\"},{\"id\":\"1334\",\"type\":\"SaveTool\"},{\"id\":\"1335\",\"type\":\"ResetTool\"},{\"id\":\"1336\",\"type\":\"HelpTool\"}]},\"id\":\"1337\",\"type\":\"Toolbar\"},{\"attributes\":{\"line_color\":\"#1f77b4\",\"line_width\":2,\"x\":{\"field\":\"x\"},\"y\":{\"field\":\"y_c\"}},\"id\":\"1384\",\"type\":\"Line\"},{\"attributes\":{\"callback\":null,\"end\":1.05,\"start\":-0.05},\"id\":\"1380\",\"type\":\"Range1d\"},{\"attributes\":{},\"id\":\"1369\",\"type\":\"ResetTool\"},{\"attributes\":{\"callback\":null,\"end\":1,\"js_property_callbacks\":{\"change:value\":[{\"id\":\"1398\",\"type\":\"CustomJS\"}]},\"start\":0,\"step\":0.01,\"title\":\"\\u03b8\",\"value\":0.5},\"id\":\"1399\",\"type\":\"Slider\"},{\"attributes\":{\"children\":[{\"id\":\"1419\",\"type\":\"Row\"}]},\"id\":\"1420\",\"type\":\"Column\"}],\"root_ids\":[\"1425\"]},\"title\":\"Bokeh Application\",\"version\":\"1.0.4\"}};\n",
       "  var render_items = [{\"docid\":\"ccc534e2-e914-4f20-a35a-509fc1b743ad\",\"roots\":{\"1425\":\"76023df6-0c58-4184-9014-b0ba8690d9b2\"}}];\n",
       "  root.Bokeh.embed.embed_items_notebook(docs_json, render_items);\n",
       "\n",
       "  }\n",
       "  if (root.Bokeh !== undefined) {\n",
       "    embed_document(root);\n",
       "  } else {\n",
       "    var attempts = 0;\n",
       "    var timer = setInterval(function(root) {\n",
       "      if (root.Bokeh !== undefined) {\n",
       "        embed_document(root);\n",
       "        clearInterval(timer);\n",
       "      }\n",
       "      attempts++;\n",
       "      if (attempts > 100) {\n",
       "        console.log(\"Bokeh: ERROR: Unable to run BokehJS code because BokehJS library is missing\");\n",
       "        clearInterval(timer);\n",
       "      }\n",
       "    }, 10, root)\n",
       "  }\n",
       "})(window);"
      ],
      "application/vnd.bokehjs_exec.v0+json": ""
     },
     "metadata": {
      "application/vnd.bokehjs_exec.v0+json": {
       "id": "1425"
      }
     },
     "output_type": "display_data"
    }
   ],
   "source": [
    "params = [dict(name='θ', start=0, end=1, value=0.5, step=0.01)]\n",
    "\n",
    "app = distribution_explorer.explore(                            \n",
    "    dist='bernoulli',\n",
    "    x_min=0,\n",
    "    x_max=1,\n",
    "    params=params,\n",
    "    x_axis_label='y',\n",
    "    title='Bernoulli')\n",
    "bokeh.io.show(app)"
   ]
  },
  {
   "cell_type": "markdown",
   "metadata": {},
   "source": [
    "### Geometric distribution\n",
    "\n",
    "* **Story.** We perform a series of Bernoulli trials with probability of success $\\theta$ until we\n",
    "get a success.  The number of failures $y$ before the success is Geometrically distributed.\n",
    "\n",
    "* **Example.** Consider actin polymerization.  At each time\n",
    "step, an actin monomer may add to the filament (\"failure\"), or an\n",
    "actin monomer may fall off (\"success\") with (usually very low)\n",
    "probability $\\theta$.  The length of actin filaments are Geometrically\n",
    "distributed.\n",
    "\n",
    "* **Parameter.** The Geometric distribution is parametrized by a\n",
    "single value, $\\theta$, the probability that the Bernoulli trial is\n",
    "successful.\n",
    "\n",
    "* **Support.** The Geometric distribution, as defined here, is has support on the nonnegative integers.\n",
    "\n",
    "* **Probability mass function.**\n",
    "\n",
    "\\begin{align}\n",
    "f(y;\\theta) = (1-\\theta)^y \\, \\theta.\n",
    "\\end{align}\n",
    "\n",
    "* **Usage**\n",
    "\n",
    "| Package        | Syntax           |\n",
    "|: ------------- | :------------- |\n",
    "|**NumPy** | `np.random.geometric(theta)` |\n",
    "|**SciPy** | `scipy.stats.geom(theta, loc=-1)` |\n",
    "|**Stan** | `neg_binomial(1, theta/(1-theta))` |\n",
    "\n",
    "\n",
    "\n",
    "* **Related distributions.**\n",
    "    - The Geometric distribution is a special case of the [Negative Binomial distribution](#Negative-Binomial-distribution) in which $\\alpha=1$ and $\\theta = \\beta/(1+\\beta)$.\n",
    "    - The continuous analog of the Geometric distribution is the [Exponential distribution](#Exponential-distribution). \n",
    "\n",
    "* **Notes.** \n",
    "    - The Geometric distribution is supported on non-negative integer $y$.\n",
    "    - The Geometric distribution is not implemented in Stan. You can instead use a Negative Binomial distribution fixing the parameter $\\alpha$ to be unity and relating the parameter $\\beta$ of the Negative Binomial distribution to $\\theta$ as $\\theta = \\beta/(1+\\beta)$.\n",
    "    - The Geometric distribution is defined differently in SciPy, instead replacing $y$ with $y-1$. In SciPy's parametrization the Geometric distribution describes the number of successive Bernoulli *trials* (not just the failures; the success is included) necessary to get a success. To adjust for this, we use the `loc=-1` kwarg."
   ]
  },
  {
   "cell_type": "code",
   "execution_count": 5,
   "metadata": {},
   "outputs": [
    {
     "data": {
      "text/html": [
       "\n",
       "\n",
       "\n",
       "\n",
       "\n",
       "\n",
       "  <div class=\"bk-root\" id=\"35874efb-b099-4b59-b485-249ff7092d1d\" data-root-id=\"1692\"></div>\n"
      ]
     },
     "metadata": {},
     "output_type": "display_data"
    },
    {
     "data": {
      "application/javascript": [
       "(function(root) {\n",
       "  function embed_document(root) {\n",
       "    \n",
       "  var docs_json = {\"9cdf2efc-7b33-4dae-8fed-3b246d617a06\":{\"roots\":{\"references\":[{\"attributes\":{\"children\":[{\"id\":\"1691\",\"type\":\"WidgetBox\"},{\"id\":\"1690\",\"type\":\"Column\"}]},\"id\":\"1692\",\"type\":\"Column\"},{\"attributes\":{},\"id\":\"1671\",\"type\":\"UnionRenderers\"},{\"attributes\":{\"active_drag\":\"auto\",\"active_inspect\":\"auto\",\"active_multi\":null,\"active_scroll\":\"auto\",\"active_tap\":\"auto\",\"tools\":[{\"id\":\"1594\",\"type\":\"PanTool\"},{\"id\":\"1595\",\"type\":\"WheelZoomTool\"},{\"id\":\"1596\",\"type\":\"BoxZoomTool\"},{\"id\":\"1597\",\"type\":\"SaveTool\"},{\"id\":\"1598\",\"type\":\"ResetTool\"},{\"id\":\"1599\",\"type\":\"HelpTool\"}]},\"id\":\"1600\",\"type\":\"Toolbar\"},{\"attributes\":{},\"id\":\"1633\",\"type\":\"HelpTool\"},{\"attributes\":{\"bottom_units\":\"screen\",\"fill_alpha\":{\"value\":0.5},\"fill_color\":{\"value\":\"lightgrey\"},\"left_units\":\"screen\",\"level\":\"overlay\",\"line_alpha\":{\"value\":1.0},\"line_color\":{\"value\":\"black\"},\"line_dash\":[4,4],\"line_width\":{\"value\":2},\"plot\":null,\"render_mode\":\"css\",\"right_units\":\"screen\",\"top_units\":\"screen\"},\"id\":\"1636\",\"type\":\"BoxAnnotation\"},{\"attributes\":{\"tools\":[{\"id\":\"1594\",\"type\":\"PanTool\"},{\"id\":\"1595\",\"type\":\"WheelZoomTool\"},{\"id\":\"1596\",\"type\":\"BoxZoomTool\"},{\"id\":\"1597\",\"type\":\"SaveTool\"},{\"id\":\"1598\",\"type\":\"ResetTool\"},{\"id\":\"1599\",\"type\":\"HelpTool\"},{\"id\":\"1628\",\"type\":\"PanTool\"},{\"id\":\"1629\",\"type\":\"WheelZoomTool\"},{\"id\":\"1630\",\"type\":\"BoxZoomTool\"},{\"id\":\"1631\",\"type\":\"SaveTool\"},{\"id\":\"1632\",\"type\":\"ResetTool\"},{\"id\":\"1633\",\"type\":\"HelpTool\"}]},\"id\":\"1688\",\"type\":\"ProxyToolbar\"},{\"attributes\":{\"callback\":null},\"id\":\"1578\",\"type\":\"DataRange1d\"},{\"attributes\":{\"bottom_units\":\"screen\",\"fill_alpha\":{\"value\":0.5},\"fill_color\":{\"value\":\"lightgrey\"},\"left_units\":\"screen\",\"level\":\"overlay\",\"line_alpha\":{\"value\":1.0},\"line_color\":{\"value\":\"black\"},\"line_dash\":[4,4],\"line_width\":{\"value\":2},\"plot\":null,\"render_mode\":\"css\",\"right_units\":\"screen\",\"top_units\":\"screen\"},\"id\":\"1602\",\"type\":\"BoxAnnotation\"},{\"attributes\":{},\"id\":\"1580\",\"type\":\"LinearScale\"},{\"attributes\":{\"args\":{\"arg1\":{\"id\":\"1662\",\"type\":\"Slider\"},\"arg2\":{\"id\":\"1662\",\"type\":\"Slider\"},\"arg3\":{\"id\":\"1662\",\"type\":\"Slider\"},\"discrete\":true,\"dist\":\"geometric\",\"source_c\":{\"id\":\"1645\",\"type\":\"ColumnDataSource\"},\"source_p\":{\"id\":\"1644\",\"type\":\"ColumnDataSource\"},\"xrange\":{\"id\":\"1576\",\"type\":\"DataRange1d\"}},\"code\":\"function linspace(start, stop, n) {\\n\\tvar x = [];\\n\\tvar currValue = start;\\n\\tvar step = (stop - start) / (n - 1);\\n\\tfor (var i = 0; i < n; i++) {\\n\\t\\tx.push(currValue);\\n\\t\\tcurrValue += step;\\n\\t}\\n\\treturn x;\\n}\\n\\n\\nfunction arange(start, stop) {\\n\\tvar x = [];\\n\\tfor (var i = start; i < stop; i++) x.push(i);\\n\\treturn x;\\n}\\n\\n\\nfunction bernoulli_prob(x, theta, {}, {}) {\\n\\tif (x == 0) return 1 - theta;\\n\\telse if (x == 1) return theta;\\n\\telse return 0.0;\\n}\\n\\n\\nfunction geometric_prob(x, theta, {}, {}) {\\n\\tif (theta == 1) {\\n\\t\\tif (x == 0) return 1.0;\\n\\t\\treturn 0.0;\\n\\t}\\n\\n\\tif (x < 0 || theta == 0) return 0.0;\\n\\n\\treturn Math.exp(x * Math.log(1-theta) + Math.log(theta))\\n}\\n\\n\\nfunction negative_binomial_prob(y, alpha, beta, {}) {\\n    if (y  < 0) return 0.0;\\n\\n    return Math.exp(lngamma(y + alpha)\\n                    - lngamma(alpha)\\n                    - lnfactorial(y)\\n                    + alpha * Math.log(beta / (1 + beta))\\n                    - y * Math.log(1 + beta));\\n}\\n\\n\\nfunction negative_binomial_mu_phi_prob(y, mu, phi, {}) {\\n   \\treturn negative_binomial_prob(y, phi, phi/mu, {});\\n}\\n\\nfunction binomial_prob(n, N, theta, {}) {\\n    if (n > N || n < 0) return 0.0;\\n\\n    if (theta == 0) {\\n    \\tif (n == 0) return 1.0;\\n    \\treturn 0.0;\\n    }\\n\\n    if (theta == 1) {\\n        if (n == N) return 1.0;\\n        return 0.0;\\n    }\\n\\n    return Math.exp(lnfactorial(N)\\n                    - lnfactorial(N - n)\\n                    - lnfactorial(n)\\n                    + n * Math.log(theta)\\n                    + (N - n) * Math.log(1-theta));\\n}\\n\\n\\nfunction discrete_cdf(cumsum, y_p) {\\n\\tvar y_c = [];\\n\\n\\ty_c.push(cumsum, cumsum);\\n    for (var i = 0; i < y_p.length; i++) {\\n        cumsum += y_p[i];\\n\\t\\ty_c.push(cumsum, cumsum);\\n    }\\n\\n    return y_c;\\n}\\n\\n\\nfunction update_y_p_discrete(probFun, x_p, arg1, arg2, arg3) {\\n\\t// Compute PMF\\n\\tvar y_p = [];\\n    for (var i = 0; i < x_p.length; i++) {\\n      y_p.push(probFun(x_p[i], arg1, arg2, arg3));\\n    }\\n\\n    return y_p;\\n}\\n\\n\\nfunction update_y_c_discrete(probFun, x_p, y_p, arg1, arg2, arg3) {\\n    // Compute CDF\\n    var cumsum = 0.0\\n    for (var i = 0; i < x_p[0]; i++) {\\n        cumsum += probFun(x_p[i], arg1, arg2, arg3);\\n    }\\n\\n    y_c = discrete_cdf(cumsum, y_p);\\n    return y_c;\\n}\\n\\n\\nfunction lnfactorial(n) {\\n  if (n > 254) { // Use Stirling's approximation\\n    var x = n + 1;\\n    return (x - 0.5)*Math.log(x) - x + 0.5*Math.log(2*Math.PI) + 1.0/(12.0*x);\\n  }\\n  else { // Look it up\\n    const lnfact = [0.000000000000000,\\n                    0.000000000000000,\\n                    0.693147180559945,\\n                    1.791759469228055,\\n                    3.178053830347946,\\n                    4.787491742782046,\\n                    6.579251212010101,\\n                    8.525161361065415,\\n                    10.604602902745251,\\n                    12.801827480081469,\\n                    15.104412573075516,\\n                    17.502307845873887,\\n                    19.987214495661885,\\n                    22.552163853123421,\\n                    25.191221182738683,\\n                    27.899271383840894,\\n                    30.671860106080675,\\n                    33.505073450136891,\\n                    36.395445208033053,\\n                    39.339884187199495,\\n                    42.335616460753485,\\n                    45.380138898476908,\\n                    48.471181351835227,\\n                    51.606675567764377,\\n                    54.784729398112319,\\n                    58.003605222980518,\\n                    61.261701761002001,\\n                    64.557538627006323,\\n                    67.889743137181526,\\n                    71.257038967168000,\\n                    74.658236348830158,\\n                    78.092223553315307,\\n                    81.557959456115029,\\n                    85.054467017581516,\\n                    88.580827542197682,\\n                    92.136175603687079,\\n                    95.719694542143202,\\n                    99.330612454787428,\\n                    102.968198614513810,\\n                    106.631760260643450,\\n                    110.320639714757390,\\n                    114.034211781461690,\\n                    117.771881399745060,\\n                    121.533081515438640,\\n                    125.317271149356880,\\n                    129.123933639127240,\\n                    132.952575035616290,\\n                    136.802722637326350,\\n                    140.673923648234250,\\n                    144.565743946344900,\\n                    148.477766951773020,\\n                    152.409592584497350,\\n                    156.360836303078800,\\n                    160.331128216630930,\\n                    164.320112263195170,\\n                    168.327445448427650,\\n                    172.352797139162820,\\n                    176.395848406997370,\\n                    180.456291417543780,\\n                    184.533828861449510,\\n                    188.628173423671600,\\n                    192.739047287844900,\\n                    196.866181672889980,\\n                    201.009316399281570,\\n                    205.168199482641200,\\n                    209.342586752536820,\\n                    213.532241494563270,\\n                    217.736934113954250,\\n                    221.956441819130360,\\n                    226.190548323727570,\\n                    230.439043565776930,\\n                    234.701723442818260,\\n                    238.978389561834350,\\n                    243.268849002982730,\\n                    247.572914096186910,\\n                    251.890402209723190,\\n                    256.221135550009480,\\n                    260.564940971863220,\\n                    264.921649798552780,\\n                    269.291097651019810,\\n                    273.673124285693690,\\n                    278.067573440366120,\\n                    282.474292687630400,\\n                    286.893133295426990,\\n                    291.323950094270290,\\n                    295.766601350760600,\\n                    300.220948647014100,\\n                    304.686856765668720,\\n                    309.164193580146900,\\n                    313.652829949878990,\\n                    318.152639620209300,\\n                    322.663499126726210,\\n                    327.185287703775200,\\n                    331.717887196928470,\\n                    336.261181979198450,\\n                    340.815058870798960,\\n                    345.379407062266860,\\n                    349.954118040770250,\\n                    354.539085519440790,\\n                    359.134205369575340,\\n                    363.739375555563470,\\n                    368.354496072404690,\\n                    372.979468885689020,\\n                    377.614197873918670,\\n                    382.258588773060010,\\n                    386.912549123217560,\\n                    391.575988217329610,\\n                    396.248817051791490,\\n                    400.930948278915760,\\n                    405.622296161144900,\\n                    410.322776526937280,\\n                    415.032306728249580,\\n                    419.750805599544780,\\n                    424.478193418257090,\\n                    429.214391866651570,\\n                    433.959323995014870,\\n                    438.712914186121170,\\n                    443.475088120918940,\\n                    448.245772745384610,\\n                    453.024896238496130,\\n                    457.812387981278110,\\n                    462.608178526874890,\\n                    467.412199571608080,\\n                    472.224383926980520,\\n                    477.044665492585580,\\n                    481.872979229887900,\\n                    486.709261136839360,\\n                    491.553448223298010,\\n                    496.405478487217580,\\n                    501.265290891579240,\\n                    506.132825342034830,\\n                    511.008022665236070,\\n                    515.890824587822520,\\n                    520.781173716044240,\\n                    525.679013515995050,\\n                    530.584288294433580,\\n                    535.496943180169520,\\n                    540.416924105997740,\\n                    545.344177791154950,\\n                    550.278651724285620,\\n                    555.220294146894960,\\n                    560.169054037273100,\\n                    565.124881094874350,\\n                    570.087725725134190,\\n                    575.057539024710200,\\n                    580.034272767130800,\\n                    585.017879388839220,\\n                    590.008311975617860,\\n                    595.005524249382010,\\n                    600.009470555327430,\\n                    605.020105849423770,\\n                    610.037385686238740,\\n                    615.061266207084940,\\n                    620.091704128477430,\\n                    625.128656730891070,\\n                    630.172081847810200,\\n                    635.221937855059760,\\n                    640.278183660408100,\\n                    645.340778693435030,\\n                    650.409682895655240,\\n                    655.484856710889060,\\n                    660.566261075873510,\\n                    665.653857411105950,\\n                    670.747607611912710,\\n                    675.847474039736880,\\n                    680.953419513637530,\\n                    686.065407301994010,\\n                    691.183401114410800,\\n                    696.307365093814040,\\n                    701.437263808737160,\\n                    706.573062245787470,\\n                    711.714725802289990,\\n                    716.862220279103440,\\n                    722.015511873601330,\\n                    727.174567172815840,\\n                    732.339353146739310,\\n                    737.509837141777440,\\n                    742.685986874351220,\\n                    747.867770424643370,\\n                    753.055156230484160,\\n                    758.248113081374300,\\n                    763.446610112640200,\\n                    768.650616799717000,\\n                    773.860102952558460,\\n                    779.075038710167410,\\n                    784.295394535245690,\\n                    789.521141208958970,\\n                    794.752249825813460,\\n                    799.988691788643450,\\n                    805.230438803703120,\\n                    810.477462875863580,\\n                    815.729736303910160,\\n                    820.987231675937890,\\n                    826.249921864842800,\\n                    831.517780023906310,\\n                    836.790779582469900,\\n                    842.068894241700490,\\n                    847.352097970438420,\\n                    852.640365001133090,\\n                    857.933669825857460,\\n                    863.231987192405430,\\n                    868.535292100464630,\\n                    873.843559797865740,\\n                    879.156765776907600,\\n                    884.474885770751830,\\n                    889.797895749890240,\\n                    895.125771918679900,\\n                    900.458490711945270,\\n                    905.796028791646340,\\n                    911.138363043611210,\\n                    916.485470574328820,\\n                    921.837328707804890,\\n                    927.193914982476710,\\n                    932.555207148186240,\\n                    937.921183163208070,\\n                    943.291821191335660,\\n                    948.667099599019820,\\n                    954.046996952560450,\\n                    959.431492015349480,\\n                    964.820563745165940,\\n                    970.214191291518320,\\n                    975.612353993036210,\\n                    981.015031374908400,\\n                    986.422203146368590,\\n                    991.833849198223450,\\n                    997.249949600427840,\\n                    1002.670484599700300,\\n                    1008.095434617181700,\\n                    1013.524780246136200,\\n                    1018.958502249690200,\\n                    1024.396581558613400,\\n                    1029.838999269135500,\\n                    1035.285736640801600,\\n                    1040.736775094367400,\\n                    1046.192096209724900,\\n                    1051.651681723869200,\\n                    1057.115513528895000,\\n                    1062.583573670030100,\\n                    1068.055844343701400,\\n                    1073.532307895632800,\\n                    1079.012946818975000,\\n                    1084.497743752465600,\\n                    1089.986681478622400,\\n                    1095.479742921962700,\\n                    1100.976911147256000,\\n                    1106.478169357800900,\\n                    1111.983500893733000,\\n                    1117.492889230361000,\\n                    1123.006317976526100,\\n                    1128.523770872990800,\\n                    1134.045231790853000,\\n                    1139.570684729984800,\\n                    1145.100113817496100,\\n                    1150.633503306223700,\\n                    1156.170837573242400]\\n    return lnfact[n];\\n  }\\n}\\n\\n\\nfunction lngamma(z) {\\n\\t// Compute log of the Gamma function using Lanczos approx.,\\n\\t// see https://en.wikipedia.org/wiki/Lanczos_approximation.\\n\\n\\tif(z < 0) return Number('0/0');\\n\\n\\tif (z < 0.5) return Math.log(Math.PI) - Math.log(Math.sin(Math.PI * z)) - lngamma(1-z);\\n\\n    var p = [676.5203681218851,\\n\\t         -1259.1392167224028,\\n\\t         771.32342877765313,\\n\\t         -176.61502916214059,\\n\\t         12.507343278686905,\\n\\t         -0.13857109526572012,\\n\\t         9.9843695780195716e-6,\\n\\t         1.5056327351493116e-7];\\n\\n\\tz -= 1.0;\\n\\tvar Ag = 0.99999999999980993;\\n\\tfor (var i = 0; i < p.length; i++) {\\n\\t\\tAg += p[i] / (z + i + 1);\\n\\t}\\n\\tvar t = z + p.length - 0.5;\\n\\n\\treturn 0.5 * Math.log(2*Math.PI) + (z + 0.5)*Math.log(t) - t + Math.log(Ag);\\n}\\n\\n\\n// Extract data from sources\\nvar data_p = source_p.data;\\nvar data_c = source_c.data;\\nvar x_p = data_p['x'];\\nvar y_p = data_p['y_p'];\\nvar x_c = data_c['x'];\\nvar y_c = data_c['y_c'];\\nvar xRangeMin = xrange.start;\\nvar xRangeMax = xrange.end;\\n\\n// Make corrections for start and end points for discrete distributions\\nif (dist == 'bernoulli' || dist == 'beta') {\\n\\txRangeMin = 0.0;\\n\\txRangeMax = 1.0;\\n}\\nelse if (dist == 'categorical') {\\n\\txRangeMin = 1.0;\\n\\txRangeMax = x_p.length;\\n}\\nelse if (discrete) {\\n  \\txRangeMin = Math.max(0, Math.floor(xRangeMin));\\n\\txRangeMax = Math.floor(xRangeMax);\\n}\\n\\n// x-values to evaluate PMF/PDF and CDF\\nif (discrete) {\\n\\tx_p = arange(xRangeMin, xRangeMax+1);\\n\\txSize = xRangeMax - xRangeMin;\\n\\n\\tx_c = [];\\n\\tfor (var i = 0; i < x_p.length; i++) x_c.push(x_p[i], x_p[i]);\\n\\n\\tx_c.unshift(Math.max(xRangeMin - 0.05 * xSize, xRangeMin - 0.95));\\n\\tx_c.push(Math.min(xRangeMax + 0.05 * xSize, xRangeMax + 0.95));\\n}\\nelse {\\n\\tx_p = linspace(xRangeMin, xRangeMax, n);\\n\\tx_c = x_p\\n}\\n\\n// Update sources with new x-values\\nsource_p.data['x'] = x_p\\nsource_c.data['x'] = x_c\\n\\n// Which function to compute probability or probability density\\nvar probFun\\nif (dist === 'bernoulli') probFun = bernoulli_prob;\\nelse if (dist === 'geometric') probFun = geometric_prob;\\nelse if (dist === 'negative_binomial') probFun = negative_binomial_prob;\\nelse if (dist === 'negative_binomial_mu_phi') probFun = negative_binomial_mu_phi_prob;\\nelse if (dist === 'binomial') probFun = binomial_prob;\\n\\n// Update the PMF/PDF and CDF\\nif (discrete) {\\n\\tsource_p.data['y_p'] = update_y_p_discrete(probFun, \\n\\t\\tx_p, arg1.value, arg2.value, arg3.value);\\n\\tsource_c.data['y_c'] = update_y_c_discrete(probFun, \\n\\t\\tx_c, source_p.data['y_p'], arg1.value, arg2.value, arg3.value);\\n}\\n\\nsource_p.change.emit();\\nsource_c.change.emit();\"},\"id\":\"1661\",\"type\":\"CustomJS\"},{\"attributes\":{\"line_color\":{\"value\":\"#1f77b4\"},\"line_width\":{\"value\":2},\"x0\":{\"field\":\"x\"},\"x1\":{\"field\":\"x\"},\"y0\":{\"value\":0},\"y1\":{\"field\":\"y_p\"}},\"id\":\"1657\",\"type\":\"Segment\"},{\"attributes\":{\"line_color\":\"#1f77b4\",\"line_width\":2,\"x\":{\"field\":\"x\"},\"y\":{\"field\":\"y_c\"}},\"id\":\"1647\",\"type\":\"Line\"},{\"attributes\":{},\"id\":\"1614\",\"type\":\"LinearScale\"},{\"attributes\":{},\"id\":\"1582\",\"type\":\"LinearScale\"},{\"attributes\":{},\"id\":\"1672\",\"type\":\"Selection\"},{\"attributes\":{\"active_drag\":\"auto\",\"active_inspect\":\"auto\",\"active_multi\":null,\"active_scroll\":\"auto\",\"active_tap\":\"auto\",\"tools\":[{\"id\":\"1628\",\"type\":\"PanTool\"},{\"id\":\"1629\",\"type\":\"WheelZoomTool\"},{\"id\":\"1630\",\"type\":\"BoxZoomTool\"},{\"id\":\"1631\",\"type\":\"SaveTool\"},{\"id\":\"1632\",\"type\":\"ResetTool\"},{\"id\":\"1633\",\"type\":\"HelpTool\"}]},\"id\":\"1634\",\"type\":\"Toolbar\"},{\"attributes\":{},\"id\":\"1616\",\"type\":\"LinearScale\"},{\"attributes\":{},\"id\":\"1679\",\"type\":\"BasicTickFormatter\"},{\"attributes\":{\"axis_label\":\"y\",\"formatter\":{\"id\":\"1665\",\"type\":\"BasicTickFormatter\"},\"plot\":{\"id\":\"1574\",\"subtype\":\"Figure\",\"type\":\"Plot\"},\"ticker\":{\"id\":\"1585\",\"type\":\"BasicTicker\"}},\"id\":\"1584\",\"type\":\"LinearAxis\"},{\"attributes\":{\"plot\":null,\"text\":\"\"},\"id\":\"1674\",\"type\":\"Title\"},{\"attributes\":{\"axis_label\":\"y\",\"formatter\":{\"id\":\"1677\",\"type\":\"BasicTickFormatter\"},\"plot\":{\"id\":\"1609\",\"subtype\":\"Figure\",\"type\":\"Plot\"},\"ticker\":{\"id\":\"1619\",\"type\":\"BasicTicker\"}},\"id\":\"1618\",\"type\":\"LinearAxis\"},{\"attributes\":{},\"id\":\"1585\",\"type\":\"BasicTicker\"},{\"attributes\":{\"line_alpha\":0.1,\"line_color\":\"#1f77b4\",\"line_width\":2,\"x\":{\"field\":\"x\"},\"y\":{\"field\":\"y_c\"}},\"id\":\"1648\",\"type\":\"Line\"},{\"attributes\":{},\"id\":\"1619\",\"type\":\"BasicTicker\"},{\"attributes\":{\"plot\":{\"id\":\"1574\",\"subtype\":\"Figure\",\"type\":\"Plot\"},\"ticker\":{\"id\":\"1585\",\"type\":\"BasicTicker\"}},\"id\":\"1588\",\"type\":\"Grid\"},{\"attributes\":{},\"id\":\"1669\",\"type\":\"Selection\"},{\"attributes\":{\"toolbar\":{\"id\":\"1688\",\"type\":\"ProxyToolbar\"},\"toolbar_location\":\"above\"},\"id\":\"1689\",\"type\":\"ToolbarBox\"},{\"attributes\":{\"plot\":{\"id\":\"1609\",\"subtype\":\"Figure\",\"type\":\"Plot\"},\"ticker\":{\"id\":\"1619\",\"type\":\"BasicTicker\"}},\"id\":\"1622\",\"type\":\"Grid\"},{\"attributes\":{\"axis_label\":\"PMF\",\"formatter\":{\"id\":\"1667\",\"type\":\"BasicTickFormatter\"},\"plot\":{\"id\":\"1574\",\"subtype\":\"Figure\",\"type\":\"Plot\"},\"ticker\":{\"id\":\"1590\",\"type\":\"BasicTicker\"}},\"id\":\"1589\",\"type\":\"LinearAxis\"},{\"attributes\":{},\"id\":\"1677\",\"type\":\"BasicTickFormatter\"},{\"attributes\":{\"source\":{\"id\":\"1645\",\"type\":\"ColumnDataSource\"}},\"id\":\"1650\",\"type\":\"CDSView\"},{\"attributes\":{\"children\":[{\"id\":\"1574\",\"subtype\":\"Figure\",\"type\":\"Plot\"},{\"id\":\"1609\",\"subtype\":\"Figure\",\"type\":\"Plot\"}]},\"id\":\"1686\",\"type\":\"Row\"},{\"attributes\":{\"axis_label\":\"CDF\",\"formatter\":{\"id\":\"1679\",\"type\":\"BasicTickFormatter\"},\"plot\":{\"id\":\"1609\",\"subtype\":\"Figure\",\"type\":\"Plot\"},\"ticker\":{\"id\":\"1624\",\"type\":\"BasicTicker\"}},\"id\":\"1623\",\"type\":\"LinearAxis\"},{\"attributes\":{},\"id\":\"1590\",\"type\":\"BasicTicker\"},{\"attributes\":{},\"id\":\"1665\",\"type\":\"BasicTickFormatter\"},{\"attributes\":{\"data_source\":{\"id\":\"1645\",\"type\":\"ColumnDataSource\"},\"glyph\":{\"id\":\"1647\",\"type\":\"Line\"},\"hover_glyph\":null,\"muted_glyph\":null,\"nonselection_glyph\":{\"id\":\"1648\",\"type\":\"Line\"},\"selection_glyph\":null,\"view\":{\"id\":\"1650\",\"type\":\"CDSView\"}},\"id\":\"1649\",\"type\":\"GlyphRenderer\"},{\"attributes\":{},\"id\":\"1624\",\"type\":\"BasicTicker\"},{\"attributes\":{\"dimension\":1,\"plot\":{\"id\":\"1574\",\"subtype\":\"Figure\",\"type\":\"Plot\"},\"ticker\":{\"id\":\"1590\",\"type\":\"BasicTicker\"}},\"id\":\"1593\",\"type\":\"Grid\"},{\"attributes\":{\"children\":[{\"id\":\"1686\",\"type\":\"Row\"}]},\"id\":\"1687\",\"type\":\"Column\"},{\"attributes\":{\"children\":[{\"id\":\"1662\",\"type\":\"Slider\"}]},\"id\":\"1691\",\"type\":\"WidgetBox\"},{\"attributes\":{\"dimension\":1,\"plot\":{\"id\":\"1609\",\"subtype\":\"Figure\",\"type\":\"Plot\"},\"ticker\":{\"id\":\"1624\",\"type\":\"BasicTicker\"}},\"id\":\"1627\",\"type\":\"Grid\"},{\"attributes\":{\"callback\":null,\"data\":{\"x\":[0,1,2,3,4,5,6,7,8,9,10,11,12,13,14,15,16,17,18,19,20],\"y_p\":{\"__ndarray__\":\"AAAAAAAA4D8AAAAAAADQPwAAAAAAAMA/AAAAAAAAsD8AAAAAAACgPwAAAAAAAJA/AAAAAAAAgD8AAAAAAABwPwAAAAAAAGA/AAAAAAAAUD8AAAAAAABAPwAAAAAAADA/AAAAAAAAID8AAAAAAAAQPwAAAAAAAAA/AAAAAAAA8D4AAAAAAADgPgAAAAAAANA+AAAAAAAAwD4AAAAAAACwPgAAAAAAAKA+\",\"dtype\":\"float64\",\"shape\":[21]}},\"selected\":{\"id\":\"1669\",\"type\":\"Selection\"},\"selection_policy\":{\"id\":\"1668\",\"type\":\"UnionRenderers\"}},\"id\":\"1644\",\"type\":\"ColumnDataSource\"},{\"attributes\":{},\"id\":\"1668\",\"type\":\"UnionRenderers\"},{\"attributes\":{\"children\":[{\"id\":\"1689\",\"type\":\"ToolbarBox\"},{\"id\":\"1687\",\"type\":\"Column\"}]},\"id\":\"1690\",\"type\":\"Column\"},{\"attributes\":{},\"id\":\"1667\",\"type\":\"BasicTickFormatter\"},{\"attributes\":{\"source\":{\"id\":\"1644\",\"type\":\"ColumnDataSource\"}},\"id\":\"1655\",\"type\":\"CDSView\"},{\"attributes\":{\"callback\":null,\"data\":{\"x\":{\"__ndarray__\":\"ZmZmZmZm7r8AAAAAAAAAAAAAAAAAAAAAAAAAAAAA8D8AAAAAAADwPwAAAAAAAABAAAAAAAAAAEAAAAAAAAAIQAAAAAAAAAhAAAAAAAAAEEAAAAAAAAAQQAAAAAAAABRAAAAAAAAAFEAAAAAAAAAYQAAAAAAAABhAAAAAAAAAHEAAAAAAAAAcQAAAAAAAACBAAAAAAAAAIEAAAAAAAAAiQAAAAAAAACJAAAAAAAAAJEAAAAAAAAAkQAAAAAAAACZAAAAAAAAAJkAAAAAAAAAoQAAAAAAAAChAAAAAAAAAKkAAAAAAAAAqQAAAAAAAACxAAAAAAAAALEAAAAAAAAAuQAAAAAAAAC5AAAAAAAAAMEAAAAAAAAAwQAAAAAAAADFAAAAAAAAAMUAAAAAAAAAyQAAAAAAAADJAAAAAAAAAM0AAAAAAAAAzQAAAAAAAADRAAAAAAAAANEAzMzMzM/M0QA==\",\"dtype\":\"float64\",\"shape\":[44]},\"y_c\":{\"__ndarray__\":\"AAAAAAAAAAAAAAAAAAAAAAAAAAAAAOA/AAAAAAAA4D8AAAAAAADoPwAAAAAAAOg/AAAAAAAA7D8AAAAAAADsPwAAAAAAAO4/AAAAAAAA7j8AAAAAAADvPwAAAAAAAO8/AAAAAACA7z8AAAAAAIDvPwAAAAAAwO8/AAAAAADA7z8AAAAAAODvPwAAAAAA4O8/AAAAAADw7z8AAAAAAPDvPwAAAAAA+O8/AAAAAAD47z8AAAAAAPzvPwAAAAAA/O8/AAAAAAD+7z8AAAAAAP7vPwAAAAAA/+8/AAAAAAD/7z8AAAAAgP/vPwAAAACA/+8/AAAAAMD/7z8AAAAAwP/vPwAAAADg/+8/AAAAAOD/7z8AAAAA8P/vPwAAAADw/+8/AAAAAPj/7z8AAAAA+P/vPwAAAAD8/+8/AAAAAPz/7z8AAAAA/v/vPwAAAAD+/+8/AAAAAP//7z8AAAAA///vPw==\",\"dtype\":\"float64\",\"shape\":[44]}},\"selected\":{\"id\":\"1672\",\"type\":\"Selection\"},\"selection_policy\":{\"id\":\"1671\",\"type\":\"UnionRenderers\"}},\"id\":\"1645\",\"type\":\"ColumnDataSource\"},{\"attributes\":{\"callback\":null,\"end\":1,\"js_property_callbacks\":{\"change:value\":[{\"id\":\"1661\",\"type\":\"CustomJS\"}]},\"start\":0.001,\"step\":0.01,\"title\":\"\\u03b8\",\"value\":0.5},\"id\":\"1662\",\"type\":\"Slider\"},{\"attributes\":{\"data_source\":{\"id\":\"1644\",\"type\":\"ColumnDataSource\"},\"glyph\":{\"id\":\"1652\",\"type\":\"Circle\"},\"hover_glyph\":null,\"muted_glyph\":null,\"nonselection_glyph\":{\"id\":\"1653\",\"type\":\"Circle\"},\"selection_glyph\":null,\"view\":{\"id\":\"1655\",\"type\":\"CDSView\"}},\"id\":\"1654\",\"type\":\"GlyphRenderer\"},{\"attributes\":{\"callback\":null,\"end\":1.05,\"start\":-0.05},\"id\":\"1643\",\"type\":\"Range1d\"},{\"attributes\":{},\"id\":\"1594\",\"type\":\"PanTool\"},{\"attributes\":{\"fill_alpha\":{\"value\":0.1},\"fill_color\":{\"value\":\"#1f77b4\"},\"line_alpha\":{\"value\":0.1},\"line_color\":{\"value\":\"#1f77b4\"},\"size\":{\"units\":\"screen\",\"value\":5},\"x\":{\"field\":\"x\"},\"y\":{\"field\":\"y_p\"}},\"id\":\"1653\",\"type\":\"Circle\"},{\"attributes\":{},\"id\":\"1628\",\"type\":\"PanTool\"},{\"attributes\":{},\"id\":\"1595\",\"type\":\"WheelZoomTool\"},{\"attributes\":{\"fill_color\":{\"value\":\"#1f77b4\"},\"line_color\":{\"value\":\"#1f77b4\"},\"size\":{\"units\":\"screen\",\"value\":5},\"x\":{\"field\":\"x\"},\"y\":{\"field\":\"y_p\"}},\"id\":\"1652\",\"type\":\"Circle\"},{\"attributes\":{},\"id\":\"1629\",\"type\":\"WheelZoomTool\"},{\"attributes\":{\"callback\":{\"id\":\"1661\",\"type\":\"CustomJS\"},\"range_padding\":0},\"id\":\"1576\",\"type\":\"DataRange1d\"},{\"attributes\":{\"overlay\":{\"id\":\"1602\",\"type\":\"BoxAnnotation\"}},\"id\":\"1596\",\"type\":\"BoxZoomTool\"},{\"attributes\":{\"below\":[{\"id\":\"1584\",\"type\":\"LinearAxis\"}],\"left\":[{\"id\":\"1589\",\"type\":\"LinearAxis\"}],\"plot_height\":200,\"plot_width\":300,\"renderers\":[{\"id\":\"1584\",\"type\":\"LinearAxis\"},{\"id\":\"1588\",\"type\":\"Grid\"},{\"id\":\"1589\",\"type\":\"LinearAxis\"},{\"id\":\"1593\",\"type\":\"Grid\"},{\"id\":\"1602\",\"type\":\"BoxAnnotation\"},{\"id\":\"1654\",\"type\":\"GlyphRenderer\"},{\"id\":\"1659\",\"type\":\"GlyphRenderer\"}],\"title\":{\"id\":\"1573\",\"type\":\"Title\"},\"toolbar\":{\"id\":\"1600\",\"type\":\"Toolbar\"},\"toolbar_location\":null,\"x_range\":{\"id\":\"1576\",\"type\":\"DataRange1d\"},\"x_scale\":{\"id\":\"1580\",\"type\":\"LinearScale\"},\"y_range\":{\"id\":\"1578\",\"type\":\"DataRange1d\"},\"y_scale\":{\"id\":\"1582\",\"type\":\"LinearScale\"}},\"id\":\"1574\",\"subtype\":\"Figure\",\"type\":\"Plot\"},{\"attributes\":{\"line_alpha\":{\"value\":0.1},\"line_color\":{\"value\":\"#1f77b4\"},\"line_width\":{\"value\":2},\"x0\":{\"field\":\"x\"},\"x1\":{\"field\":\"x\"},\"y0\":{\"value\":0},\"y1\":{\"field\":\"y_p\"}},\"id\":\"1658\",\"type\":\"Segment\"},{\"attributes\":{\"overlay\":{\"id\":\"1636\",\"type\":\"BoxAnnotation\"}},\"id\":\"1630\",\"type\":\"BoxZoomTool\"},{\"attributes\":{\"plot\":null,\"text\":\"Geometric\"},\"id\":\"1573\",\"type\":\"Title\"},{\"attributes\":{},\"id\":\"1597\",\"type\":\"SaveTool\"},{\"attributes\":{\"below\":[{\"id\":\"1618\",\"type\":\"LinearAxis\"}],\"left\":[{\"id\":\"1623\",\"type\":\"LinearAxis\"}],\"plot_height\":200,\"plot_width\":300,\"renderers\":[{\"id\":\"1618\",\"type\":\"LinearAxis\"},{\"id\":\"1622\",\"type\":\"Grid\"},{\"id\":\"1623\",\"type\":\"LinearAxis\"},{\"id\":\"1627\",\"type\":\"Grid\"},{\"id\":\"1636\",\"type\":\"BoxAnnotation\"},{\"id\":\"1649\",\"type\":\"GlyphRenderer\"}],\"title\":{\"id\":\"1674\",\"type\":\"Title\"},\"toolbar\":{\"id\":\"1634\",\"type\":\"Toolbar\"},\"toolbar_location\":null,\"x_range\":{\"id\":\"1576\",\"type\":\"DataRange1d\"},\"x_scale\":{\"id\":\"1614\",\"type\":\"LinearScale\"},\"y_range\":{\"id\":\"1643\",\"type\":\"Range1d\"},\"y_scale\":{\"id\":\"1616\",\"type\":\"LinearScale\"}},\"id\":\"1609\",\"subtype\":\"Figure\",\"type\":\"Plot\"},{\"attributes\":{\"data_source\":{\"id\":\"1644\",\"type\":\"ColumnDataSource\"},\"glyph\":{\"id\":\"1657\",\"type\":\"Segment\"},\"hover_glyph\":null,\"muted_glyph\":null,\"nonselection_glyph\":{\"id\":\"1658\",\"type\":\"Segment\"},\"selection_glyph\":null,\"view\":{\"id\":\"1660\",\"type\":\"CDSView\"}},\"id\":\"1659\",\"type\":\"GlyphRenderer\"},{\"attributes\":{},\"id\":\"1631\",\"type\":\"SaveTool\"},{\"attributes\":{},\"id\":\"1598\",\"type\":\"ResetTool\"},{\"attributes\":{\"source\":{\"id\":\"1644\",\"type\":\"ColumnDataSource\"}},\"id\":\"1660\",\"type\":\"CDSView\"},{\"attributes\":{},\"id\":\"1632\",\"type\":\"ResetTool\"},{\"attributes\":{},\"id\":\"1599\",\"type\":\"HelpTool\"}],\"root_ids\":[\"1692\"]},\"title\":\"Bokeh Application\",\"version\":\"1.0.4\"}};\n",
       "  var render_items = [{\"docid\":\"9cdf2efc-7b33-4dae-8fed-3b246d617a06\",\"roots\":{\"1692\":\"35874efb-b099-4b59-b485-249ff7092d1d\"}}];\n",
       "  root.Bokeh.embed.embed_items_notebook(docs_json, render_items);\n",
       "\n",
       "  }\n",
       "  if (root.Bokeh !== undefined) {\n",
       "    embed_document(root);\n",
       "  } else {\n",
       "    var attempts = 0;\n",
       "    var timer = setInterval(function(root) {\n",
       "      if (root.Bokeh !== undefined) {\n",
       "        embed_document(root);\n",
       "        clearInterval(timer);\n",
       "      }\n",
       "      attempts++;\n",
       "      if (attempts > 100) {\n",
       "        console.log(\"Bokeh: ERROR: Unable to run BokehJS code because BokehJS library is missing\");\n",
       "        clearInterval(timer);\n",
       "      }\n",
       "    }, 10, root)\n",
       "  }\n",
       "})(window);"
      ],
      "application/vnd.bokehjs_exec.v0+json": ""
     },
     "metadata": {
      "application/vnd.bokehjs_exec.v0+json": {
       "id": "1692"
      }
     },
     "output_type": "display_data"
    }
   ],
   "source": [
    "params = [dict(name='θ', start=0.001, end=1, value=0.5, step=0.01)]\n",
    "\n",
    "app = distribution_explorer.explore(                            \n",
    "    dist='geometric',\n",
    "    x_min=0,\n",
    "    x_max=20,\n",
    "    params=params,\n",
    "    x_axis_label='y',\n",
    "    title='Geometric')\n",
    "bokeh.io.show(app)"
   ]
  },
  {
   "cell_type": "markdown",
   "metadata": {},
   "source": [
    "### Negative Binomial distribution\n",
    "\n",
    "* **Story.** We perform a series of Bernoulli trials with probability $\\beta/(1+\\beta)$ of success. The number of failures, $y$, before we get $\\alpha$\n",
    "successes is Negative Binomially distributed. An equivalent story is that the sum of $\\alpha$ independent and identically Gamma distributed variables is Negative Binomial distributed.\n",
    "\n",
    "* **Example.** Bursty gene expression can give mRNA count\n",
    "distributions that are Negative Binomially distributed.  Here,\n",
    "\"success\" is that a burst in gene expression stops. In this case, the\n",
    "parameter $1/\\beta$ is the mean number of transcripts in a burst of expression.  The parameter $\\alpha$ is related to the\n",
    "frequency of the bursts.  If multiple bursts are possible within the\n",
    "lifetime of mRNA, then $\\alpha > 1$.  Then, the number of \"failures\" is\n",
    "the number of mRNA transcripts that are made in the characteristic\n",
    "lifetime of mRNA.\n",
    "\n",
    "* **Parameters.** There are two parameters: $\\alpha$, the desired number of\n",
    "successes, and $\\beta$, which is the mean of the $\\alpha$ identical Gamma distributions that give the Negative Binomial. The probability of success of each Bernoulli trial is given by $\\beta/(1+\\beta)$.\n",
    "\n",
    "* **Support.** The Negative-Binomial distribution is supported on the set of nonnegative integers.\n",
    "\n",
    "* **Probability mass function.**\n",
    "\\begin{align}\n",
    "\\\\ \\phantom{blah}\n",
    "f(y;\\alpha,\\beta) = \\begin{pmatrix}\n",
    "y+\\alpha-1 \\\\\n",
    "\\alpha-1\n",
    "\\end{pmatrix}\n",
    "\\left(\\frac{\\beta}{1+\\beta}\\right)^\\alpha \\left(\\frac{1}{1+\\beta}\\right)^y.\n",
    "\\\\ \\phantom{blah}\n",
    "\\end{align}\n",
    "Here, we use a combinatorial notation;\n",
    "\\begin{align}\n",
    "\\\\ \\phantom{blah}\n",
    "  \\begin{pmatrix}\n",
    "y+\\alpha-1 \\\\\n",
    "\\alpha-1\n",
    "\\end{pmatrix} = \\frac{(y+\\alpha-1)!}{(\\alpha-1)!\\,y!}.\n",
    "\\\\ \\phantom{blah}\n",
    "\\end{align}\n",
    "Generally speaking, $\\alpha$ need not be an integer, so we may write the PMF as\n",
    "\\begin{align}\n",
    "\\\\ \\phantom{blah}\n",
    "f(y;\\alpha,\\beta) = \\frac{\\Gamma(y+\\alpha)}{\\Gamma(\\alpha) \\, y!}\\,\\left(\\frac{\\beta}{1+\\beta}\\right)^\\alpha \\left(\\frac{1}{1+\\beta}\\right)^y.\n",
    "\\end{align}\n",
    "\n",
    "* **Usage**\n",
    "\n",
    "| Package        | Syntax           |\n",
    "|: ------------- | :------------- |\n",
    "|**NumPy** | `np.random.negative_binomial(alpha, beta/(1+beta))` |\n",
    "|**SciPy** | `scipy.stats.nbinom(alpha, beta/(1+beta))` |\n",
    "|**Stan** | `neg_binomial(alpha, beta)` |\n",
    "|**Stan with $(\\mu, \\phi)$ parametrization** | `neg_binomial_2(mu, phi)` |\n",
    "\n",
    "* **Related distributions.**\n",
    "    - The [Geometric distribution](#Geometric-distribution) is a special case of the Negative Binomial distribution in which $\\alpha=1$ and $\\theta = \\beta/(1+\\beta)$.\n",
    "    - The continuous analog of the Negative Binomial distribution is the [Gamma distribution](#Gamma-distribution). \n",
    "    - In a certain limit, which is easier implemented using the $(\\mu,\\phi)$ parametrization below, the Negative Binomial distribution becomes a [Poisson distribution](#Poisson-distribution).\n",
    "\n",
    "* **Notes.** \n",
    "    - The Negative Binomial distribution may be parametrized such that the probability mass function is\n",
    "    \\begin{align}\n",
    "    \\\\ \\phantom{blah}\n",
    "       f(y;\\mu,\\phi) = \\frac{\\Gamma(y+\\phi)}{\\Gamma(\\phi) \\, y!}\\,\\left(\\frac{\\phi}{\\mu+\\phi}\\right)^\\phi\\left(\\frac{\\mu}{\\mu+\\phi}\\right)^y. \n",
    "    \\\\ \\phantom{blah}\n",
    "    \\end{align}\n",
    "    These parameters are related to the parametrization above by $\\phi = \\alpha$ and $\\mu = \\alpha/\\beta$. In the limit of $\\phi\\to\\infty$, which can be taken for the PMF, the Negative Binomial distribution becomes Poisson with parameter $\\mu$. This also gives meaning to the parameters $\\mu$ and $\\phi$. $\\mu$ is the mean of the Negative Binomial, and $\\phi$ controls extra width of the distribution beyond Poisson. The smaller $\\phi$ is, the broader the distribution.\n",
    "    - In Stan, the Negative Binomial distribution using the $(\\mu,\\phi)$ parametrization is called `neg_binomial_2`.\n",
    "    - SciPy and NumPy use yet another parametrization. The PMF for SciPy is\n",
    "    \\begin{align}\n",
    "    \\\\ \\phantom{blah}\n",
    "       f(y;n, p) = \\frac{\\Gamma(y+n)}{\\Gamma(n) \\, y!}\\,p^n \\left(1-p\\right)^y. \n",
    "    \\\\ \\phantom{blah}\n",
    "    \\end{align}\n",
    "    The parameter $p$ is the probability of success of a Bernoulli trial. The parameters are related to the others we have defined by $n=\\alpha=\\phi$ and $p=\\beta/(1+\\beta) = \\phi/(\\mu+\\phi)$."
   ]
  },
  {
   "cell_type": "code",
   "execution_count": 20,
   "metadata": {},
   "outputs": [
    {
     "data": {
      "text/html": [
       "\n",
       "\n",
       "\n",
       "\n",
       "\n",
       "\n",
       "  <div class=\"bk-root\" id=\"31bf9e32-95a8-4f84-9d31-f2fe6e68a3d1\" data-root-id=\"7045\"></div>\n"
      ]
     },
     "metadata": {},
     "output_type": "display_data"
    },
    {
     "data": {
      "application/javascript": [
       "(function(root) {\n",
       "  function embed_document(root) {\n",
       "    \n",
       "  var docs_json = {\"167ba72d-cc04-4ba3-8723-1624c1724abf\":{\"roots\":{\"references\":[{\"attributes\":{\"children\":[{\"id\":\"7044\",\"type\":\"WidgetBox\"},{\"id\":\"7043\",\"type\":\"Column\"}]},\"id\":\"7045\",\"type\":\"Column\"},{\"attributes\":{\"children\":[{\"id\":\"7014\",\"type\":\"Slider\"},{\"id\":\"7015\",\"type\":\"Slider\"}]},\"id\":\"7044\",\"type\":\"WidgetBox\"},{\"attributes\":{},\"id\":\"6980\",\"type\":\"PanTool\"},{\"attributes\":{},\"id\":\"6947\",\"type\":\"WheelZoomTool\"},{\"attributes\":{\"line_alpha\":{\"value\":0.1},\"line_color\":{\"value\":\"#1f77b4\"},\"line_width\":{\"value\":2},\"x0\":{\"field\":\"x\"},\"x1\":{\"field\":\"x\"},\"y0\":{\"value\":0},\"y1\":{\"field\":\"y_p\"}},\"id\":\"7010\",\"type\":\"Segment\"},{\"attributes\":{},\"id\":\"6981\",\"type\":\"WheelZoomTool\"},{\"attributes\":{\"overlay\":{\"id\":\"6954\",\"type\":\"BoxAnnotation\"}},\"id\":\"6948\",\"type\":\"BoxZoomTool\"},{\"attributes\":{\"data_source\":{\"id\":\"6996\",\"type\":\"ColumnDataSource\"},\"glyph\":{\"id\":\"7009\",\"type\":\"Segment\"},\"hover_glyph\":null,\"muted_glyph\":null,\"nonselection_glyph\":{\"id\":\"7010\",\"type\":\"Segment\"},\"selection_glyph\":null,\"view\":{\"id\":\"7012\",\"type\":\"CDSView\"}},\"id\":\"7011\",\"type\":\"GlyphRenderer\"},{\"attributes\":{\"overlay\":{\"id\":\"6988\",\"type\":\"BoxAnnotation\"}},\"id\":\"6982\",\"type\":\"BoxZoomTool\"},{\"attributes\":{},\"id\":\"6949\",\"type\":\"SaveTool\"},{\"attributes\":{\"below\":[{\"id\":\"6936\",\"type\":\"LinearAxis\"}],\"left\":[{\"id\":\"6941\",\"type\":\"LinearAxis\"}],\"plot_height\":200,\"plot_width\":300,\"renderers\":[{\"id\":\"6936\",\"type\":\"LinearAxis\"},{\"id\":\"6940\",\"type\":\"Grid\"},{\"id\":\"6941\",\"type\":\"LinearAxis\"},{\"id\":\"6945\",\"type\":\"Grid\"},{\"id\":\"6954\",\"type\":\"BoxAnnotation\"},{\"id\":\"7006\",\"type\":\"GlyphRenderer\"},{\"id\":\"7011\",\"type\":\"GlyphRenderer\"}],\"title\":{\"id\":\"6925\",\"type\":\"Title\"},\"toolbar\":{\"id\":\"6952\",\"type\":\"Toolbar\"},\"toolbar_location\":null,\"x_range\":{\"id\":\"6928\",\"type\":\"DataRange1d\"},\"x_scale\":{\"id\":\"6932\",\"type\":\"LinearScale\"},\"y_range\":{\"id\":\"6930\",\"type\":\"DataRange1d\"},\"y_scale\":{\"id\":\"6934\",\"type\":\"LinearScale\"}},\"id\":\"6926\",\"subtype\":\"Figure\",\"type\":\"Plot\"},{\"attributes\":{\"source\":{\"id\":\"6996\",\"type\":\"ColumnDataSource\"}},\"id\":\"7012\",\"type\":\"CDSView\"},{\"attributes\":{\"args\":{\"arg1\":{\"id\":\"7014\",\"type\":\"Slider\"},\"arg2\":{\"id\":\"7015\",\"type\":\"Slider\"},\"arg3\":{\"id\":\"7014\",\"type\":\"Slider\"},\"discrete\":true,\"dist\":\"negative_binomial\",\"source_c\":{\"id\":\"6997\",\"type\":\"ColumnDataSource\"},\"source_p\":{\"id\":\"6996\",\"type\":\"ColumnDataSource\"},\"xrange\":{\"id\":\"6928\",\"type\":\"DataRange1d\"}},\"code\":\"function linspace(start, stop, n) {\\n\\tvar x = [];\\n\\tvar currValue = start;\\n\\tvar step = (stop - start) / (n - 1);\\n\\tfor (var i = 0; i < n; i++) {\\n\\t\\tx.push(currValue);\\n\\t\\tcurrValue += step;\\n\\t}\\n\\treturn x;\\n}\\n\\n\\nfunction arange(start, stop) {\\n\\tvar x = [];\\n\\tfor (var i = start; i < stop; i++) x.push(i);\\n\\treturn x;\\n}\\n\\n\\nfunction bernoulli_prob(x, theta, {}, {}) {\\n\\tif (x == 0) return 1 - theta;\\n\\telse if (x == 1) return theta;\\n\\telse return 0.0;\\n}\\n\\n\\nfunction geometric_prob(x, theta, {}, {}) {\\n\\tif (theta == 1) {\\n\\t\\tif (x == 0) return 1.0;\\n\\t\\treturn 0.0;\\n\\t}\\n\\n\\tif (x < 0 || theta == 0) return 0.0;\\n\\n\\treturn Math.exp(x * Math.log(1-theta) + Math.log(theta))\\n}\\n\\n\\nfunction negative_binomial_prob(y, alpha, beta, {}) {\\n    if (y  < 0) return 0.0;\\n\\n    return Math.exp(lngamma(y + alpha)\\n                    - lngamma(alpha)\\n                    - lnfactorial(y)\\n                    + alpha * Math.log(beta / (1 + beta))\\n                    - y * Math.log(1 + beta));\\n}\\n\\n\\nfunction negative_binomial_mu_phi_prob(y, mu, phi, {}) {\\n   \\treturn negative_binomial_prob(y, phi, phi/mu, {});\\n}\\n\\nfunction binomial_prob(n, N, theta, {}) {\\n    if (n > N || n < 0) return 0.0;\\n\\n    if (theta == 0) {\\n    \\tif (n == 0) return 1.0;\\n    \\treturn 0.0;\\n    }\\n\\n    if (theta == 1) {\\n        if (n == N) return 1.0;\\n        return 0.0;\\n    }\\n\\n    return Math.exp(lnfactorial(N)\\n                    - lnfactorial(N - n)\\n                    - lnfactorial(n)\\n                    + n * Math.log(theta)\\n                    + (N - n) * Math.log(1-theta));\\n}\\n\\n\\nfunction discrete_cdf(cumsum, y_p) {\\n\\tvar y_c = [];\\n\\n\\ty_c.push(cumsum, cumsum);\\n    for (var i = 0; i < y_p.length; i++) {\\n        cumsum += y_p[i];\\n\\t\\ty_c.push(cumsum, cumsum);\\n    }\\n\\n    return y_c;\\n}\\n\\n\\nfunction update_y_p_discrete(probFun, x_p, arg1, arg2, arg3) {\\n\\t// Compute PMF\\n\\tvar y_p = [];\\n    for (var i = 0; i < x_p.length; i++) {\\n      y_p.push(probFun(x_p[i], arg1, arg2, arg3));\\n    }\\n\\n    return y_p;\\n}\\n\\n\\nfunction update_y_c_discrete(probFun, x_p, y_p, arg1, arg2, arg3) {\\n    // Compute CDF\\n    var cumsum = 0.0\\n    for (var i = 0; i < x_p[0]; i++) {\\n        cumsum += probFun(x_p[i], arg1, arg2, arg3);\\n    }\\n\\n    y_c = discrete_cdf(cumsum, y_p);\\n    return y_c;\\n}\\n\\n\\nfunction lnfactorial(n) {\\n  if (n > 254) { // Use Stirling's approximation\\n    var x = n + 1;\\n    return (x - 0.5)*Math.log(x) - x + 0.5*Math.log(2*Math.PI) + 1.0/(12.0*x);\\n  }\\n  else { // Look it up\\n    const lnfact = [0.000000000000000,\\n                    0.000000000000000,\\n                    0.693147180559945,\\n                    1.791759469228055,\\n                    3.178053830347946,\\n                    4.787491742782046,\\n                    6.579251212010101,\\n                    8.525161361065415,\\n                    10.604602902745251,\\n                    12.801827480081469,\\n                    15.104412573075516,\\n                    17.502307845873887,\\n                    19.987214495661885,\\n                    22.552163853123421,\\n                    25.191221182738683,\\n                    27.899271383840894,\\n                    30.671860106080675,\\n                    33.505073450136891,\\n                    36.395445208033053,\\n                    39.339884187199495,\\n                    42.335616460753485,\\n                    45.380138898476908,\\n                    48.471181351835227,\\n                    51.606675567764377,\\n                    54.784729398112319,\\n                    58.003605222980518,\\n                    61.261701761002001,\\n                    64.557538627006323,\\n                    67.889743137181526,\\n                    71.257038967168000,\\n                    74.658236348830158,\\n                    78.092223553315307,\\n                    81.557959456115029,\\n                    85.054467017581516,\\n                    88.580827542197682,\\n                    92.136175603687079,\\n                    95.719694542143202,\\n                    99.330612454787428,\\n                    102.968198614513810,\\n                    106.631760260643450,\\n                    110.320639714757390,\\n                    114.034211781461690,\\n                    117.771881399745060,\\n                    121.533081515438640,\\n                    125.317271149356880,\\n                    129.123933639127240,\\n                    132.952575035616290,\\n                    136.802722637326350,\\n                    140.673923648234250,\\n                    144.565743946344900,\\n                    148.477766951773020,\\n                    152.409592584497350,\\n                    156.360836303078800,\\n                    160.331128216630930,\\n                    164.320112263195170,\\n                    168.327445448427650,\\n                    172.352797139162820,\\n                    176.395848406997370,\\n                    180.456291417543780,\\n                    184.533828861449510,\\n                    188.628173423671600,\\n                    192.739047287844900,\\n                    196.866181672889980,\\n                    201.009316399281570,\\n                    205.168199482641200,\\n                    209.342586752536820,\\n                    213.532241494563270,\\n                    217.736934113954250,\\n                    221.956441819130360,\\n                    226.190548323727570,\\n                    230.439043565776930,\\n                    234.701723442818260,\\n                    238.978389561834350,\\n                    243.268849002982730,\\n                    247.572914096186910,\\n                    251.890402209723190,\\n                    256.221135550009480,\\n                    260.564940971863220,\\n                    264.921649798552780,\\n                    269.291097651019810,\\n                    273.673124285693690,\\n                    278.067573440366120,\\n                    282.474292687630400,\\n                    286.893133295426990,\\n                    291.323950094270290,\\n                    295.766601350760600,\\n                    300.220948647014100,\\n                    304.686856765668720,\\n                    309.164193580146900,\\n                    313.652829949878990,\\n                    318.152639620209300,\\n                    322.663499126726210,\\n                    327.185287703775200,\\n                    331.717887196928470,\\n                    336.261181979198450,\\n                    340.815058870798960,\\n                    345.379407062266860,\\n                    349.954118040770250,\\n                    354.539085519440790,\\n                    359.134205369575340,\\n                    363.739375555563470,\\n                    368.354496072404690,\\n                    372.979468885689020,\\n                    377.614197873918670,\\n                    382.258588773060010,\\n                    386.912549123217560,\\n                    391.575988217329610,\\n                    396.248817051791490,\\n                    400.930948278915760,\\n                    405.622296161144900,\\n                    410.322776526937280,\\n                    415.032306728249580,\\n                    419.750805599544780,\\n                    424.478193418257090,\\n                    429.214391866651570,\\n                    433.959323995014870,\\n                    438.712914186121170,\\n                    443.475088120918940,\\n                    448.245772745384610,\\n                    453.024896238496130,\\n                    457.812387981278110,\\n                    462.608178526874890,\\n                    467.412199571608080,\\n                    472.224383926980520,\\n                    477.044665492585580,\\n                    481.872979229887900,\\n                    486.709261136839360,\\n                    491.553448223298010,\\n                    496.405478487217580,\\n                    501.265290891579240,\\n                    506.132825342034830,\\n                    511.008022665236070,\\n                    515.890824587822520,\\n                    520.781173716044240,\\n                    525.679013515995050,\\n                    530.584288294433580,\\n                    535.496943180169520,\\n                    540.416924105997740,\\n                    545.344177791154950,\\n                    550.278651724285620,\\n                    555.220294146894960,\\n                    560.169054037273100,\\n                    565.124881094874350,\\n                    570.087725725134190,\\n                    575.057539024710200,\\n                    580.034272767130800,\\n                    585.017879388839220,\\n                    590.008311975617860,\\n                    595.005524249382010,\\n                    600.009470555327430,\\n                    605.020105849423770,\\n                    610.037385686238740,\\n                    615.061266207084940,\\n                    620.091704128477430,\\n                    625.128656730891070,\\n                    630.172081847810200,\\n                    635.221937855059760,\\n                    640.278183660408100,\\n                    645.340778693435030,\\n                    650.409682895655240,\\n                    655.484856710889060,\\n                    660.566261075873510,\\n                    665.653857411105950,\\n                    670.747607611912710,\\n                    675.847474039736880,\\n                    680.953419513637530,\\n                    686.065407301994010,\\n                    691.183401114410800,\\n                    696.307365093814040,\\n                    701.437263808737160,\\n                    706.573062245787470,\\n                    711.714725802289990,\\n                    716.862220279103440,\\n                    722.015511873601330,\\n                    727.174567172815840,\\n                    732.339353146739310,\\n                    737.509837141777440,\\n                    742.685986874351220,\\n                    747.867770424643370,\\n                    753.055156230484160,\\n                    758.248113081374300,\\n                    763.446610112640200,\\n                    768.650616799717000,\\n                    773.860102952558460,\\n                    779.075038710167410,\\n                    784.295394535245690,\\n                    789.521141208958970,\\n                    794.752249825813460,\\n                    799.988691788643450,\\n                    805.230438803703120,\\n                    810.477462875863580,\\n                    815.729736303910160,\\n                    820.987231675937890,\\n                    826.249921864842800,\\n                    831.517780023906310,\\n                    836.790779582469900,\\n                    842.068894241700490,\\n                    847.352097970438420,\\n                    852.640365001133090,\\n                    857.933669825857460,\\n                    863.231987192405430,\\n                    868.535292100464630,\\n                    873.843559797865740,\\n                    879.156765776907600,\\n                    884.474885770751830,\\n                    889.797895749890240,\\n                    895.125771918679900,\\n                    900.458490711945270,\\n                    905.796028791646340,\\n                    911.138363043611210,\\n                    916.485470574328820,\\n                    921.837328707804890,\\n                    927.193914982476710,\\n                    932.555207148186240,\\n                    937.921183163208070,\\n                    943.291821191335660,\\n                    948.667099599019820,\\n                    954.046996952560450,\\n                    959.431492015349480,\\n                    964.820563745165940,\\n                    970.214191291518320,\\n                    975.612353993036210,\\n                    981.015031374908400,\\n                    986.422203146368590,\\n                    991.833849198223450,\\n                    997.249949600427840,\\n                    1002.670484599700300,\\n                    1008.095434617181700,\\n                    1013.524780246136200,\\n                    1018.958502249690200,\\n                    1024.396581558613400,\\n                    1029.838999269135500,\\n                    1035.285736640801600,\\n                    1040.736775094367400,\\n                    1046.192096209724900,\\n                    1051.651681723869200,\\n                    1057.115513528895000,\\n                    1062.583573670030100,\\n                    1068.055844343701400,\\n                    1073.532307895632800,\\n                    1079.012946818975000,\\n                    1084.497743752465600,\\n                    1089.986681478622400,\\n                    1095.479742921962700,\\n                    1100.976911147256000,\\n                    1106.478169357800900,\\n                    1111.983500893733000,\\n                    1117.492889230361000,\\n                    1123.006317976526100,\\n                    1128.523770872990800,\\n                    1134.045231790853000,\\n                    1139.570684729984800,\\n                    1145.100113817496100,\\n                    1150.633503306223700,\\n                    1156.170837573242400]\\n    return lnfact[n];\\n  }\\n}\\n\\n\\nfunction lngamma(z) {\\n\\t// Compute log of the Gamma function using Lanczos approx.,\\n\\t// see https://en.wikipedia.org/wiki/Lanczos_approximation.\\n\\n\\tif(z < 0) return Number('0/0');\\n\\n\\tif (z < 0.5) return Math.log(Math.PI) - Math.log(Math.sin(Math.PI * z)) - lngamma(1-z);\\n\\n    var p = [676.5203681218851,\\n\\t         -1259.1392167224028,\\n\\t         771.32342877765313,\\n\\t         -176.61502916214059,\\n\\t         12.507343278686905,\\n\\t         -0.13857109526572012,\\n\\t         9.9843695780195716e-6,\\n\\t         1.5056327351493116e-7];\\n\\n\\tz -= 1.0;\\n\\tvar Ag = 0.99999999999980993;\\n\\tfor (var i = 0; i < p.length; i++) {\\n\\t\\tAg += p[i] / (z + i + 1);\\n\\t}\\n\\tvar t = z + p.length - 0.5;\\n\\n\\treturn 0.5 * Math.log(2*Math.PI) + (z + 0.5)*Math.log(t) - t + Math.log(Ag);\\n}\\n\\n\\n// Extract data from sources\\nvar data_p = source_p.data;\\nvar data_c = source_c.data;\\nvar x_p = data_p['x'];\\nvar y_p = data_p['y_p'];\\nvar x_c = data_c['x'];\\nvar y_c = data_c['y_c'];\\nvar xRangeMin = xrange.start;\\nvar xRangeMax = xrange.end;\\n\\n// Make corrections for start and end points for discrete distributions\\nif (dist == 'bernoulli' || dist == 'beta') {\\n\\txRangeMin = 0.0;\\n\\txRangeMax = 1.0;\\n}\\nelse if (dist == 'categorical') {\\n\\txRangeMin = 1.0;\\n\\txRangeMax = x_p.length;\\n}\\nelse if (discrete) {\\n  \\txRangeMin = Math.max(0, Math.floor(xRangeMin));\\n\\txRangeMax = Math.floor(xRangeMax);\\n}\\n\\n// x-values to evaluate PMF/PDF and CDF\\nif (discrete) {\\n\\tx_p = arange(xRangeMin, xRangeMax+1);\\n\\txSize = xRangeMax - xRangeMin;\\n\\n\\tx_c = [];\\n\\tfor (var i = 0; i < x_p.length; i++) x_c.push(x_p[i], x_p[i]);\\n\\n\\tx_c.unshift(Math.max(xRangeMin - 0.05 * xSize, xRangeMin - 0.95));\\n\\tx_c.push(Math.min(xRangeMax + 0.05 * xSize, xRangeMax + 0.95));\\n}\\nelse {\\n\\tx_p = linspace(xRangeMin, xRangeMax, n);\\n\\tx_c = x_p\\n}\\n\\n// Update sources with new x-values\\nsource_p.data['x'] = x_p\\nsource_c.data['x'] = x_c\\n\\n// Which function to compute probability or probability density\\nvar probFun\\nif (dist === 'bernoulli') probFun = bernoulli_prob;\\nelse if (dist === 'geometric') probFun = geometric_prob;\\nelse if (dist === 'negative_binomial') probFun = negative_binomial_prob;\\nelse if (dist === 'negative_binomial_mu_phi') probFun = negative_binomial_mu_phi_prob;\\nelse if (dist === 'binomial') probFun = binomial_prob;\\n\\n// Update the PMF/PDF and CDF\\nif (discrete) {\\n\\tsource_p.data['y_p'] = update_y_p_discrete(probFun, \\n\\t\\tx_p, arg1.value, arg2.value, arg3.value);\\n\\tsource_c.data['y_c'] = update_y_c_discrete(probFun, \\n\\t\\tx_c, source_p.data['y_p'], arg1.value, arg2.value, arg3.value);\\n}\\n\\nsource_p.change.emit();\\nsource_c.change.emit();\"},\"id\":\"7013\",\"type\":\"CustomJS\"},{\"attributes\":{},\"id\":\"6983\",\"type\":\"SaveTool\"},{\"attributes\":{},\"id\":\"6950\",\"type\":\"ResetTool\"},{\"attributes\":{\"children\":[{\"id\":\"6926\",\"subtype\":\"Figure\",\"type\":\"Plot\"},{\"id\":\"6961\",\"subtype\":\"Figure\",\"type\":\"Plot\"}]},\"id\":\"7039\",\"type\":\"Row\"},{\"attributes\":{},\"id\":\"6984\",\"type\":\"ResetTool\"},{\"attributes\":{},\"id\":\"6951\",\"type\":\"HelpTool\"},{\"attributes\":{},\"id\":\"6985\",\"type\":\"HelpTool\"},{\"attributes\":{\"callback\":null,\"end\":20,\"js_property_callbacks\":{\"change:value\":[{\"id\":\"7013\",\"type\":\"CustomJS\"}]},\"start\":1,\"title\":\"\\u03b1\",\"value\":5},\"id\":\"7014\",\"type\":\"Slider\"},{\"attributes\":{\"active_drag\":\"auto\",\"active_inspect\":\"auto\",\"active_multi\":null,\"active_scroll\":\"auto\",\"active_tap\":\"auto\",\"tools\":[{\"id\":\"6946\",\"type\":\"PanTool\"},{\"id\":\"6947\",\"type\":\"WheelZoomTool\"},{\"id\":\"6948\",\"type\":\"BoxZoomTool\"},{\"id\":\"6949\",\"type\":\"SaveTool\"},{\"id\":\"6950\",\"type\":\"ResetTool\"},{\"id\":\"6951\",\"type\":\"HelpTool\"}]},\"id\":\"6952\",\"type\":\"Toolbar\"},{\"attributes\":{\"callback\":null,\"data\":{\"x\":{\"__ndarray__\":\"ZmZmZmZm7r8AAAAAAAAAAAAAAAAAAAAAAAAAAAAA8D8AAAAAAADwPwAAAAAAAABAAAAAAAAAAEAAAAAAAAAIQAAAAAAAAAhAAAAAAAAAEEAAAAAAAAAQQAAAAAAAABRAAAAAAAAAFEAAAAAAAAAYQAAAAAAAABhAAAAAAAAAHEAAAAAAAAAcQAAAAAAAACBAAAAAAAAAIEAAAAAAAAAiQAAAAAAAACJAAAAAAAAAJEAAAAAAAAAkQAAAAAAAACZAAAAAAAAAJkAAAAAAAAAoQAAAAAAAAChAAAAAAAAAKkAAAAAAAAAqQAAAAAAAACxAAAAAAAAALEAAAAAAAAAuQAAAAAAAAC5AAAAAAAAAMEAAAAAAAAAwQAAAAAAAADFAAAAAAAAAMUAAAAAAAAAyQAAAAAAAADJAAAAAAAAAM0AAAAAAAAAzQAAAAAAAADRAAAAAAAAANEAAAAAAAAA1QAAAAAAAADVAAAAAAAAANkAAAAAAAAA2QAAAAAAAADdAAAAAAAAAN0AAAAAAAAA4QAAAAAAAADhAAAAAAAAAOUAAAAAAAAA5QAAAAAAAADpAAAAAAAAAOkAAAAAAAAA7QAAAAAAAADtAAAAAAAAAPEAAAAAAAAA8QAAAAAAAAD1AAAAAAAAAPUAAAAAAAAA+QAAAAAAAAD5AAAAAAAAAP0AAAAAAAAA/QAAAAAAAAEBAAAAAAAAAQEAAAAAAAIBAQAAAAAAAgEBAAAAAAAAAQUAAAAAAAABBQAAAAAAAgEFAAAAAAACAQUAAAAAAAABCQAAAAAAAAEJAAAAAAACAQkAAAAAAAIBCQAAAAAAAAENAAAAAAAAAQ0AAAAAAAIBDQAAAAAAAgENAAAAAAAAAREAAAAAAAABEQAAAAAAAgERAAAAAAACAREAAAAAAAABFQAAAAAAAAEVAAAAAAACARUAAAAAAAIBFQAAAAAAAAEZAAAAAAAAARkAAAAAAAIBGQAAAAAAAgEZAAAAAAAAAR0AAAAAAAABHQAAAAAAAgEdAAAAAAACAR0AAAAAAAABIQAAAAAAAAEhAAAAAAACASEAAAAAAAIBIQAAAAAAAAElAAAAAAAAASUCamZmZmXlJQA==\",\"dtype\":\"float64\",\"shape\":[104]},\"y_c\":{\"__ndarray__\":\"AAAAAAAAAAAAAAAAAAAAAAAAAAAAAKA/AAAAAAAAoD8BAAAAAAC8PwEAAAAAALw/+f//////zD/5///////MPwIAAAAAQNc/AgAAAABA1z8BAAAAAADgPwEAAAAAAOA////////v4z///////+/jPwAAAAAAOOc/AAAAAAA45z8AAAAAAMzpPwAAAAAAzOk/AQAAAAC76z8BAAAAALvrPwAAAACAIO0/AAAAAIAg7T8AAAAAwBruPwAAAADAGu4/AAAAAGDF7j8AAAAAYMXuPwAAAAAgN+8/AAAAACA37z8AAAAAgIHvPwAAAACAge8/AAAAAFCx7z8AAAAAULHvPwAAAACYz+8/AAAAAJjP7z8AAAAAheLvPwAAAACF4u8/AAAAgDXu7z8AAACANe7vPwAAAEBa9e8/AAAAQFr17z8AAAAgrfnvPwAAACCt+e8/AAAAQEX87z8AAABARfzvPwAAAJDQ/e8/AAAAkND97z8AAAAouv7vPwAAACi6/u8/AAAAREP/7z8AAABEQ//vPwAAAD+T/+8/AAAAP5P/7z8AAICiwf/vPwAAgKLB/+8/AADAZdz/7z8AAMBl3P/vPwAA4MLr/+8/AADgwuv/7z8AAGCK9P/vPwAAYIr0/+8/AAAgifn/7z8AACCJ+f/vPwAAwF38/+8/AADAXfz/7z8AAND2/f/vPwAA0Pb9/+8/AADp3P7/7z8AAOnc/v/vPwCA513//+8/AIDnXf//7z8AQP2l///vPwBA/aX//+8/AKAmzv//7z8AoCbO///vPwCAduT//+8/AIB25P//7z8AMNPw///vPwAw0/D//+8/ABio9///7z8AGKj3///vPwA8bPv//+8/ADxs+///7z8Ag379///vPwCDfv3//+8/gISh/v//7z+AhKH+///vP8DgQP///+8/wOBA////7z9g+Jf////vP2D4l////+8/oHnH////7z+gecf////vP8BW4f///+8/wFbh////7z8wZe/////vPzBl7////+8/iAX3////7z+IBff////vPw0n+////+8/DSf7////7z/5Yv3////vP/li/f///+8/0Jf+////7z/Ql/7////vPw==\",\"dtype\":\"float64\",\"shape\":[104]}},\"selected\":{\"id\":\"7024\",\"type\":\"Selection\"},\"selection_policy\":{\"id\":\"7025\",\"type\":\"UnionRenderers\"}},\"id\":\"6997\",\"type\":\"ColumnDataSource\"},{\"attributes\":{\"plot\":null,\"text\":\"Negative Binomial\"},\"id\":\"6925\",\"type\":\"Title\"},{\"attributes\":{\"active_drag\":\"auto\",\"active_inspect\":\"auto\",\"active_multi\":null,\"active_scroll\":\"auto\",\"active_tap\":\"auto\",\"tools\":[{\"id\":\"6980\",\"type\":\"PanTool\"},{\"id\":\"6981\",\"type\":\"WheelZoomTool\"},{\"id\":\"6982\",\"type\":\"BoxZoomTool\"},{\"id\":\"6983\",\"type\":\"SaveTool\"},{\"id\":\"6984\",\"type\":\"ResetTool\"},{\"id\":\"6985\",\"type\":\"HelpTool\"}]},\"id\":\"6986\",\"type\":\"Toolbar\"},{\"attributes\":{\"callback\":null,\"end\":5,\"js_property_callbacks\":{\"change:value\":[{\"id\":\"7013\",\"type\":\"CustomJS\"}]},\"start\":0,\"step\":0.01,\"title\":\"\\u03b2\",\"value\":1},\"id\":\"7015\",\"type\":\"Slider\"},{\"attributes\":{\"callback\":null,\"data\":{\"x\":[0,1,2,3,4,5,6,7,8,9,10,11,12,13,14,15,16,17,18,19,20,21,22,23,24,25,26,27,28,29,30,31,32,33,34,35,36,37,38,39,40,41,42,43,44,45,46,47,48,49,50],\"y_p\":{\"__ndarray__\":\"AAAAAAAAoD/+//////+zP////////70/BAAAAACAwT8HAAAAAIDBP/j/////f78/CAAAAABAuj8FAAAAAKC0P/L/////764/+v////9Xpj8OAAAAAEifPwsAAAAAVJU/JgAAAABwjD8WAAAAAJiCP/D/////53c/9P////9Hbj/z/////+xiP/L/////YFc/IwAAAACTTD8NAAAAgEtBP/z/////wDQ/8/////+0KD/d/////zIdP8n///9/IxE/JwAAAMD+Az/S////vzH3Pt7///8/w+o+HQAAAEC63j7C/////47RPnEAAAAA+8M+5P////+ktj6v/////5CpPkUAAAAgw5w+VP///88fkD4tAAAAcAWCPgcAAACwFHQ+3v///99PZj6RAAAAYLlYPqj///+fU0s+lAAAACAhPj7Z////N5IwPt8AAAAYMCI+/f///4frEz46AAAA6MUFPgAAAACgwPc9sv7//x/d6T08AAAA4BzcPRAAAABggc49fAAAABSGwD3gAAAAZN+xPaMAAABsTaM9\",\"dtype\":\"float64\",\"shape\":[51]}},\"selected\":{\"id\":\"7022\",\"type\":\"Selection\"},\"selection_policy\":{\"id\":\"7023\",\"type\":\"UnionRenderers\"}},\"id\":\"6996\",\"type\":\"ColumnDataSource\"},{\"attributes\":{},\"id\":\"6937\",\"type\":\"BasicTicker\"},{\"attributes\":{\"bottom_units\":\"screen\",\"fill_alpha\":{\"value\":0.5},\"fill_color\":{\"value\":\"lightgrey\"},\"left_units\":\"screen\",\"level\":\"overlay\",\"line_alpha\":{\"value\":1.0},\"line_color\":{\"value\":\"black\"},\"line_dash\":[4,4],\"line_width\":{\"value\":2},\"plot\":null,\"render_mode\":\"css\",\"right_units\":\"screen\",\"top_units\":\"screen\"},\"id\":\"6954\",\"type\":\"BoxAnnotation\"},{\"attributes\":{\"axis_label\":\"y\",\"formatter\":{\"id\":\"7019\",\"type\":\"BasicTickFormatter\"},\"plot\":{\"id\":\"6926\",\"subtype\":\"Figure\",\"type\":\"Plot\"},\"ticker\":{\"id\":\"6937\",\"type\":\"BasicTicker\"}},\"id\":\"6936\",\"type\":\"LinearAxis\"},{\"attributes\":{\"bottom_units\":\"screen\",\"fill_alpha\":{\"value\":0.5},\"fill_color\":{\"value\":\"lightgrey\"},\"left_units\":\"screen\",\"level\":\"overlay\",\"line_alpha\":{\"value\":1.0},\"line_color\":{\"value\":\"black\"},\"line_dash\":[4,4],\"line_width\":{\"value\":2},\"plot\":null,\"render_mode\":\"css\",\"right_units\":\"screen\",\"top_units\":\"screen\"},\"id\":\"6988\",\"type\":\"BoxAnnotation\"},{\"attributes\":{},\"id\":\"6966\",\"type\":\"LinearScale\"},{\"attributes\":{\"callback\":{\"id\":\"7013\",\"type\":\"CustomJS\"},\"range_padding\":0},\"id\":\"6928\",\"type\":\"DataRange1d\"},{\"attributes\":{},\"id\":\"6968\",\"type\":\"LinearScale\"},{\"attributes\":{},\"id\":\"6932\",\"type\":\"LinearScale\"},{\"attributes\":{\"data_source\":{\"id\":\"6997\",\"type\":\"ColumnDataSource\"},\"glyph\":{\"id\":\"6999\",\"type\":\"Line\"},\"hover_glyph\":null,\"muted_glyph\":null,\"nonselection_glyph\":{\"id\":\"7000\",\"type\":\"Line\"},\"selection_glyph\":null,\"view\":{\"id\":\"7002\",\"type\":\"CDSView\"}},\"id\":\"7001\",\"type\":\"GlyphRenderer\"},{\"attributes\":{},\"id\":\"7017\",\"type\":\"BasicTickFormatter\"},{\"attributes\":{\"callback\":null},\"id\":\"6930\",\"type\":\"DataRange1d\"},{\"attributes\":{\"axis_label\":\"y\",\"formatter\":{\"id\":\"7031\",\"type\":\"BasicTickFormatter\"},\"plot\":{\"id\":\"6961\",\"subtype\":\"Figure\",\"type\":\"Plot\"},\"ticker\":{\"id\":\"6971\",\"type\":\"BasicTicker\"}},\"id\":\"6970\",\"type\":\"LinearAxis\"},{\"attributes\":{},\"id\":\"7019\",\"type\":\"BasicTickFormatter\"},{\"attributes\":{\"source\":{\"id\":\"6997\",\"type\":\"ColumnDataSource\"}},\"id\":\"7002\",\"type\":\"CDSView\"},{\"attributes\":{\"plot\":{\"id\":\"6926\",\"subtype\":\"Figure\",\"type\":\"Plot\"},\"ticker\":{\"id\":\"6937\",\"type\":\"BasicTicker\"}},\"id\":\"6940\",\"type\":\"Grid\"},{\"attributes\":{\"line_color\":{\"value\":\"#1f77b4\"},\"line_width\":{\"value\":2},\"x0\":{\"field\":\"x\"},\"x1\":{\"field\":\"x\"},\"y0\":{\"value\":0},\"y1\":{\"field\":\"y_p\"}},\"id\":\"7009\",\"type\":\"Segment\"},{\"attributes\":{},\"id\":\"7022\",\"type\":\"Selection\"},{\"attributes\":{},\"id\":\"7025\",\"type\":\"UnionRenderers\"},{\"attributes\":{},\"id\":\"6971\",\"type\":\"BasicTicker\"},{\"attributes\":{\"axis_label\":\"PMF\",\"formatter\":{\"id\":\"7017\",\"type\":\"BasicTickFormatter\"},\"plot\":{\"id\":\"6926\",\"subtype\":\"Figure\",\"type\":\"Plot\"},\"ticker\":{\"id\":\"6942\",\"type\":\"BasicTicker\"}},\"id\":\"6941\",\"type\":\"LinearAxis\"},{\"attributes\":{},\"id\":\"7023\",\"type\":\"UnionRenderers\"},{\"attributes\":{\"children\":[{\"id\":\"7039\",\"type\":\"Row\"}]},\"id\":\"7040\",\"type\":\"Column\"},{\"attributes\":{\"plot\":{\"id\":\"6961\",\"subtype\":\"Figure\",\"type\":\"Plot\"},\"ticker\":{\"id\":\"6971\",\"type\":\"BasicTicker\"}},\"id\":\"6974\",\"type\":\"Grid\"},{\"attributes\":{\"fill_color\":{\"value\":\"#1f77b4\"},\"line_color\":{\"value\":\"#1f77b4\"},\"size\":{\"units\":\"screen\",\"value\":5},\"x\":{\"field\":\"x\"},\"y\":{\"field\":\"y_p\"}},\"id\":\"7004\",\"type\":\"Circle\"},{\"attributes\":{},\"id\":\"6942\",\"type\":\"BasicTicker\"},{\"attributes\":{\"axis_label\":\"CDF\",\"formatter\":{\"id\":\"7029\",\"type\":\"BasicTickFormatter\"},\"plot\":{\"id\":\"6961\",\"subtype\":\"Figure\",\"type\":\"Plot\"},\"ticker\":{\"id\":\"6976\",\"type\":\"BasicTicker\"}},\"id\":\"6975\",\"type\":\"LinearAxis\"},{\"attributes\":{\"fill_alpha\":{\"value\":0.1},\"fill_color\":{\"value\":\"#1f77b4\"},\"line_alpha\":{\"value\":0.1},\"line_color\":{\"value\":\"#1f77b4\"},\"size\":{\"units\":\"screen\",\"value\":5},\"x\":{\"field\":\"x\"},\"y\":{\"field\":\"y_p\"}},\"id\":\"7005\",\"type\":\"Circle\"},{\"attributes\":{},\"id\":\"7029\",\"type\":\"BasicTickFormatter\"},{\"attributes\":{\"dimension\":1,\"plot\":{\"id\":\"6926\",\"subtype\":\"Figure\",\"type\":\"Plot\"},\"ticker\":{\"id\":\"6942\",\"type\":\"BasicTicker\"}},\"id\":\"6945\",\"type\":\"Grid\"},{\"attributes\":{},\"id\":\"6976\",\"type\":\"BasicTicker\"},{\"attributes\":{\"data_source\":{\"id\":\"6996\",\"type\":\"ColumnDataSource\"},\"glyph\":{\"id\":\"7004\",\"type\":\"Circle\"},\"hover_glyph\":null,\"muted_glyph\":null,\"nonselection_glyph\":{\"id\":\"7005\",\"type\":\"Circle\"},\"selection_glyph\":null,\"view\":{\"id\":\"7007\",\"type\":\"CDSView\"}},\"id\":\"7006\",\"type\":\"GlyphRenderer\"},{\"attributes\":{},\"id\":\"7031\",\"type\":\"BasicTickFormatter\"},{\"attributes\":{\"dimension\":1,\"plot\":{\"id\":\"6961\",\"subtype\":\"Figure\",\"type\":\"Plot\"},\"ticker\":{\"id\":\"6976\",\"type\":\"BasicTicker\"}},\"id\":\"6979\",\"type\":\"Grid\"},{\"attributes\":{},\"id\":\"6934\",\"type\":\"LinearScale\"},{\"attributes\":{\"source\":{\"id\":\"6996\",\"type\":\"ColumnDataSource\"}},\"id\":\"7007\",\"type\":\"CDSView\"},{\"attributes\":{\"callback\":null,\"end\":1.05,\"start\":-0.05},\"id\":\"6995\",\"type\":\"Range1d\"},{\"attributes\":{\"tools\":[{\"id\":\"6946\",\"type\":\"PanTool\"},{\"id\":\"6947\",\"type\":\"WheelZoomTool\"},{\"id\":\"6948\",\"type\":\"BoxZoomTool\"},{\"id\":\"6949\",\"type\":\"SaveTool\"},{\"id\":\"6950\",\"type\":\"ResetTool\"},{\"id\":\"6951\",\"type\":\"HelpTool\"},{\"id\":\"6980\",\"type\":\"PanTool\"},{\"id\":\"6981\",\"type\":\"WheelZoomTool\"},{\"id\":\"6982\",\"type\":\"BoxZoomTool\"},{\"id\":\"6983\",\"type\":\"SaveTool\"},{\"id\":\"6984\",\"type\":\"ResetTool\"},{\"id\":\"6985\",\"type\":\"HelpTool\"}]},\"id\":\"7041\",\"type\":\"ProxyToolbar\"},{\"attributes\":{\"below\":[{\"id\":\"6970\",\"type\":\"LinearAxis\"}],\"left\":[{\"id\":\"6975\",\"type\":\"LinearAxis\"}],\"plot_height\":200,\"plot_width\":300,\"renderers\":[{\"id\":\"6970\",\"type\":\"LinearAxis\"},{\"id\":\"6974\",\"type\":\"Grid\"},{\"id\":\"6975\",\"type\":\"LinearAxis\"},{\"id\":\"6979\",\"type\":\"Grid\"},{\"id\":\"6988\",\"type\":\"BoxAnnotation\"},{\"id\":\"7001\",\"type\":\"GlyphRenderer\"}],\"title\":{\"id\":\"7028\",\"type\":\"Title\"},\"toolbar\":{\"id\":\"6986\",\"type\":\"Toolbar\"},\"toolbar_location\":null,\"x_range\":{\"id\":\"6928\",\"type\":\"DataRange1d\"},\"x_scale\":{\"id\":\"6966\",\"type\":\"LinearScale\"},\"y_range\":{\"id\":\"6995\",\"type\":\"Range1d\"},\"y_scale\":{\"id\":\"6968\",\"type\":\"LinearScale\"}},\"id\":\"6961\",\"subtype\":\"Figure\",\"type\":\"Plot\"},{\"attributes\":{},\"id\":\"7024\",\"type\":\"Selection\"},{\"attributes\":{\"toolbar\":{\"id\":\"7041\",\"type\":\"ProxyToolbar\"},\"toolbar_location\":\"above\"},\"id\":\"7042\",\"type\":\"ToolbarBox\"},{\"attributes\":{\"line_color\":\"#1f77b4\",\"line_width\":2,\"x\":{\"field\":\"x\"},\"y\":{\"field\":\"y_c\"}},\"id\":\"6999\",\"type\":\"Line\"},{\"attributes\":{\"plot\":null,\"text\":\"\"},\"id\":\"7028\",\"type\":\"Title\"},{\"attributes\":{},\"id\":\"6946\",\"type\":\"PanTool\"},{\"attributes\":{\"children\":[{\"id\":\"7042\",\"type\":\"ToolbarBox\"},{\"id\":\"7040\",\"type\":\"Column\"}]},\"id\":\"7043\",\"type\":\"Column\"},{\"attributes\":{\"line_alpha\":0.1,\"line_color\":\"#1f77b4\",\"line_width\":2,\"x\":{\"field\":\"x\"},\"y\":{\"field\":\"y_c\"}},\"id\":\"7000\",\"type\":\"Line\"}],\"root_ids\":[\"7045\"]},\"title\":\"Bokeh Application\",\"version\":\"1.0.4\"}};\n",
       "  var render_items = [{\"docid\":\"167ba72d-cc04-4ba3-8723-1624c1724abf\",\"roots\":{\"7045\":\"31bf9e32-95a8-4f84-9d31-f2fe6e68a3d1\"}}];\n",
       "  root.Bokeh.embed.embed_items_notebook(docs_json, render_items);\n",
       "\n",
       "  }\n",
       "  if (root.Bokeh !== undefined) {\n",
       "    embed_document(root);\n",
       "  } else {\n",
       "    var attempts = 0;\n",
       "    var timer = setInterval(function(root) {\n",
       "      if (root.Bokeh !== undefined) {\n",
       "        embed_document(root);\n",
       "        clearInterval(timer);\n",
       "      }\n",
       "      attempts++;\n",
       "      if (attempts > 100) {\n",
       "        console.log(\"Bokeh: ERROR: Unable to run BokehJS code because BokehJS library is missing\");\n",
       "        clearInterval(timer);\n",
       "      }\n",
       "    }, 10, root)\n",
       "  }\n",
       "})(window);"
      ],
      "application/vnd.bokehjs_exec.v0+json": ""
     },
     "metadata": {
      "application/vnd.bokehjs_exec.v0+json": {
       "id": "7045"
      }
     },
     "output_type": "display_data"
    }
   ],
   "source": [
    "# With α, β parametrization\n",
    "params = [dict(name='α', start=1, end=20, value=5, step=1),\n",
    "          dict(name='β', start=0, end=5, value=1, step=0.01)]\n",
    "\n",
    "app = distribution_explorer.explore(                            \n",
    "    dist='negative_binomial',\n",
    "    x_min=0,\n",
    "    x_max=50,\n",
    "    params=params,\n",
    "    x_axis_label='y',\n",
    "    title='Negative Binomial')\n",
    "bokeh.io.show(app)"
   ]
  },
  {
   "cell_type": "code",
   "execution_count": 21,
   "metadata": {},
   "outputs": [
    {
     "ename": "RuntimeError",
     "evalue": "Distribution not included.",
     "output_type": "error",
     "traceback": [
      "\u001b[0;31m---------------------------------------------------------------------------\u001b[0m",
      "\u001b[0;31mRuntimeError\u001b[0m                              Traceback (most recent call last)",
      "\u001b[0;32m<ipython-input-21-6328c5169306>\u001b[0m in \u001b[0;36m<module>\u001b[0;34m\u001b[0m\n\u001b[1;32m      9\u001b[0m     \u001b[0mparams\u001b[0m\u001b[0;34m=\u001b[0m\u001b[0mparams\u001b[0m\u001b[0;34m,\u001b[0m\u001b[0;34m\u001b[0m\u001b[0;34m\u001b[0m\u001b[0m\n\u001b[1;32m     10\u001b[0m     \u001b[0mx_axis_label\u001b[0m\u001b[0;34m=\u001b[0m\u001b[0;34m'y'\u001b[0m\u001b[0;34m,\u001b[0m\u001b[0;34m\u001b[0m\u001b[0;34m\u001b[0m\u001b[0m\n\u001b[0;32m---> 11\u001b[0;31m     title='Negative Binomial')\n\u001b[0m\u001b[1;32m     12\u001b[0m \u001b[0mbokeh\u001b[0m\u001b[0;34m.\u001b[0m\u001b[0mio\u001b[0m\u001b[0;34m.\u001b[0m\u001b[0mshow\u001b[0m\u001b[0;34m(\u001b[0m\u001b[0mapp\u001b[0m\u001b[0;34m)\u001b[0m\u001b[0;34m\u001b[0m\u001b[0;34m\u001b[0m\u001b[0m\n",
      "\u001b[0;32m~/Dropbox/git/distribution_explorer/distribution_explorer/distribution_explorer.py\u001b[0m in \u001b[0;36mexplore\u001b[0;34m(dist, x_min, x_max, x_axis_type, y_axis_type, params, n, plot_height, plot_width, x_axis_label, title)\u001b[0m\n\u001b[1;32m    324\u001b[0m \u001b[0;34m\u001b[0m\u001b[0m\n\u001b[1;32m    325\u001b[0m     \u001b[0;31m# Compute PDF and CDF\u001b[0m\u001b[0;34m\u001b[0m\u001b[0;34m\u001b[0m\u001b[0;34m\u001b[0m\u001b[0m\n\u001b[0;32m--> 326\u001b[0;31m     \u001b[0mfun_p\u001b[0m\u001b[0;34m,\u001b[0m \u001b[0mfun_c\u001b[0m \u001b[0;34m=\u001b[0m \u001b[0m_funs\u001b[0m\u001b[0;34m(\u001b[0m\u001b[0mdist\u001b[0m\u001b[0;34m)\u001b[0m\u001b[0;34m\u001b[0m\u001b[0;34m\u001b[0m\u001b[0m\n\u001b[0m\u001b[1;32m    327\u001b[0m     \u001b[0my_p\u001b[0m \u001b[0;34m=\u001b[0m \u001b[0mfun_p\u001b[0m\u001b[0;34m(\u001b[0m\u001b[0mx\u001b[0m\u001b[0;34m,\u001b[0m \u001b[0;34m*\u001b[0m\u001b[0mparam_vals\u001b[0m\u001b[0;34m)\u001b[0m\u001b[0;34m\u001b[0m\u001b[0;34m\u001b[0m\u001b[0m\n\u001b[1;32m    328\u001b[0m     \u001b[0my_c\u001b[0m \u001b[0;34m=\u001b[0m \u001b[0mfun_c\u001b[0m\u001b[0;34m(\u001b[0m\u001b[0mx_cdf\u001b[0m\u001b[0;34m,\u001b[0m \u001b[0;34m*\u001b[0m\u001b[0mparam_vals\u001b[0m\u001b[0;34m)\u001b[0m\u001b[0;34m\u001b[0m\u001b[0;34m\u001b[0m\u001b[0m\n",
      "\u001b[0;32m~/Dropbox/git/distribution_explorer/distribution_explorer/distribution_explorer.py\u001b[0m in \u001b[0;36m_funs\u001b[0;34m(dist)\u001b[0m\n\u001b[1;32m    193\u001b[0m                 lambda x, alpha, beta: st.nbinom.cdf(x, alpha, beta/(1+beta)))\n\u001b[1;32m    194\u001b[0m     \u001b[0;32melse\u001b[0m\u001b[0;34m:\u001b[0m\u001b[0;34m\u001b[0m\u001b[0;34m\u001b[0m\u001b[0m\n\u001b[0;32m--> 195\u001b[0;31m         \u001b[0;32mraise\u001b[0m \u001b[0mRuntimeError\u001b[0m\u001b[0;34m(\u001b[0m\u001b[0;34m'Distribution not included.'\u001b[0m\u001b[0;34m)\u001b[0m\u001b[0;34m\u001b[0m\u001b[0;34m\u001b[0m\u001b[0m\n\u001b[0m\u001b[1;32m    196\u001b[0m \u001b[0;34m\u001b[0m\u001b[0m\n\u001b[1;32m    197\u001b[0m \u001b[0;34m\u001b[0m\u001b[0m\n",
      "\u001b[0;31mRuntimeError\u001b[0m: Distribution not included."
     ]
    }
   ],
   "source": [
    "# With μ, φ parametrization\n",
    "params = [dict(name='μ', start=1, end=20, value=5, step=1),\n",
    "          dict(name='φ', start=0, end=5, value=1, step=0.01)]\n",
    "\n",
    "app = distribution_explorer.explore(                            \n",
    "    dist='negative_binomial_mu_phi',\n",
    "    x_min=0,\n",
    "    x_max=50,\n",
    "    params=params,\n",
    "    x_axis_label='y',\n",
    "    title='Negative Binomial')\n",
    "bokeh.io.show(app)"
   ]
  },
  {
   "cell_type": "markdown",
   "metadata": {},
   "source": [
    "### Binomial distribution\n",
    "\n",
    "* **Story.** We perform $N$ Bernoulli trials, each with probability $\\theta$ of success.  The number of successes, $n$, is Binomially distributed.\n",
    "\n",
    "* **Example.** Distribution of plasmids between daughter cells\n",
    "in cell division.  Each of the $N$ plasmids as a chance $\\theta$ of being\n",
    "in daughter cell 1 (\"success\").  The number of plasmids, $n$, in\n",
    "daughter cell 1 is binomially distributed.\n",
    "\n",
    "* **Parameters.** There are two parameters: the probability $\\theta$ of success for each Bernoulli trial, and the number of trials, $N$.\n",
    "\n",
    "* **Support.** The Binomial distribution is supported on the set of nonnegative integers.\n",
    "\n",
    "* **Probability mass function.**\n",
    "\n",
    "\\begin{align}\n",
    "f(n;N,\\theta) = \\begin{pmatrix}\n",
    "N \\\\\n",
    "n\n",
    "\\end{pmatrix}\n",
    "\\theta^n (1-\\theta)^{N-n}.\n",
    "\\end{align}\n",
    "\n",
    "* **Usage**\n",
    "\n",
    "| Package        | Syntax           |\n",
    "|: ------------- | :------------- |\n",
    "|**NumPy** | `np.random.binomial(N, theta)` |\n",
    "|**SciPy** | `scipy.stats.binom(N, theta)` |\n",
    "|**Stan** | `binomial(N, theta)` |\n",
    "\n",
    "\n",
    "* **Related distributions.**\n",
    "    - The [Bernoulli distribution](#Bernoulli-distribution) is a special case of the Binomial distribution where $N=1$.\n",
    "    - In the limit of $N\\to\\infty$ and $\\theta\\to 0$ such that the quantity $N\\theta$ is fixed, the Binomial distribution becomes a [Poisson distribution](#Poisson-distribution) with parameter $N\\theta$.\n",
    "    - The Binomial distribution is a limit of the [Hypergeometric distribution](#Hypergeometric-distribution). Considering the Hypergeometric distribution and taking the limit of $a+b\\to\\infty$ such that $a/(a+b)$ is fixed, we get a [Binomial distribution](#Binomial-distribution) with parameters $N=N$ and $\\theta = a/(a+b)$."
   ]
  },
  {
   "cell_type": "code",
   "execution_count": 113,
   "metadata": {},
   "outputs": [
    {
     "data": {
      "text/html": [
       "\n",
       "\n",
       "\n",
       "\n",
       "\n",
       "\n",
       "  <div class=\"bk-root\" id=\"6639853c-a84b-4ab6-8995-aedc40e2dc21\" data-root-id=\"118470\"></div>\n"
      ]
     },
     "metadata": {},
     "output_type": "display_data"
    },
    {
     "data": {
      "application/javascript": [
       "(function(root) {\n",
       "  function embed_document(root) {\n",
       "    \n",
       "  var docs_json = {\"78888c37-9f57-4b6d-9b43-93509d2e3bf5\":{\"roots\":{\"references\":[{\"attributes\":{\"children\":[{\"id\":\"118465\",\"type\":\"Row\"},{\"id\":\"118469\",\"type\":\"Row\"}]},\"id\":\"118470\",\"type\":\"Column\"},{\"attributes\":{},\"id\":\"118373\",\"type\":\"HelpTool\"},{\"attributes\":{},\"id\":\"118444\",\"type\":\"BasicTickFormatter\"},{\"attributes\":{\"active_drag\":\"auto\",\"active_inspect\":\"auto\",\"active_multi\":null,\"active_scroll\":\"auto\",\"active_tap\":\"auto\",\"tools\":[{\"id\":\"118368\",\"type\":\"PanTool\"},{\"id\":\"118369\",\"type\":\"WheelZoomTool\"},{\"id\":\"118370\",\"type\":\"BoxZoomTool\"},{\"id\":\"118371\",\"type\":\"SaveTool\"},{\"id\":\"118372\",\"type\":\"ResetTool\"},{\"id\":\"118373\",\"type\":\"HelpTool\"}]},\"id\":\"118374\",\"type\":\"Toolbar\"},{\"attributes\":{\"callback\":null,\"data\":{\"x\":[0,1,2,3,4,5,6,7,8,9,10,11,12,13,14,15,16,17,18,19,20],\"y_p\":{\"__ndarray__\":\"AAAAAAAAoD/+///////DPwAAAAAAANQ/AAAAAAAA1D/+///////DPwAAAAAAAKA/AAAAAAAAAAAAAAAAAAAAAAAAAAAAAAAAAAAAAAAAAAAAAAAAAAAAAAAAAAAAAAAAAAAAAAAAAAAAAAAAAAAAAAAAAAAAAAAAAAAAAAAAAAAAAAAAAAAAAAAAAAAAAAAAAAAAAAAAAAAAAAAAAAAAAAAAAAAAAAAA\",\"dtype\":\"float64\",\"shape\":[21]}},\"selected\":{\"id\":\"118447\",\"type\":\"Selection\"},\"selection_policy\":{\"id\":\"118446\",\"type\":\"UnionRenderers\"}},\"id\":\"118418\",\"type\":\"ColumnDataSource\"},{\"attributes\":{},\"id\":\"118442\",\"type\":\"BasicTickFormatter\"},{\"attributes\":{\"children\":[{\"id\":\"118348\",\"subtype\":\"Figure\",\"type\":\"Plot\"},{\"id\":\"118383\",\"subtype\":\"Figure\",\"type\":\"Plot\"}]},\"id\":\"118459\",\"type\":\"Row\"},{\"attributes\":{\"children\":[{\"id\":\"118459\",\"type\":\"Row\"}]},\"id\":\"118460\",\"type\":\"Column\"},{\"attributes\":{\"bottom_units\":\"screen\",\"fill_alpha\":{\"value\":0.5},\"fill_color\":{\"value\":\"lightgrey\"},\"left_units\":\"screen\",\"level\":\"overlay\",\"line_alpha\":{\"value\":1.0},\"line_color\":{\"value\":\"black\"},\"line_dash\":[4,4],\"line_width\":{\"value\":2},\"plot\":null,\"render_mode\":\"css\",\"right_units\":\"screen\",\"top_units\":\"screen\"},\"id\":\"118376\",\"type\":\"BoxAnnotation\"},{\"attributes\":{\"callback\":null,\"js_property_callbacks\":{\"change:value\":[{\"id\":\"118435\",\"type\":\"CustomJS\"}]},\"title\":\"max\",\"value\":\"20\",\"width\":50},\"id\":\"118439\",\"type\":\"TextInput\"},{\"attributes\":{},\"id\":\"118388\",\"type\":\"LinearScale\"},{\"attributes\":{},\"id\":\"118390\",\"type\":\"LinearScale\"},{\"attributes\":{},\"id\":\"118447\",\"type\":\"Selection\"},{\"attributes\":{\"axis_label\":\"y\",\"formatter\":{\"id\":\"118454\",\"type\":\"BasicTickFormatter\"},\"plot\":{\"id\":\"118383\",\"subtype\":\"Figure\",\"type\":\"Plot\"},\"ticker\":{\"id\":\"118393\",\"type\":\"BasicTicker\"}},\"id\":\"118392\",\"type\":\"LinearAxis\"},{\"attributes\":{},\"id\":\"118446\",\"type\":\"UnionRenderers\"},{\"attributes\":{},\"id\":\"118393\",\"type\":\"BasicTicker\"},{\"attributes\":{\"plot\":{\"id\":\"118383\",\"subtype\":\"Figure\",\"type\":\"Plot\"},\"ticker\":{\"id\":\"118393\",\"type\":\"BasicTicker\"}},\"id\":\"118396\",\"type\":\"Grid\"},{\"attributes\":{},\"id\":\"118452\",\"type\":\"BasicTickFormatter\"},{\"attributes\":{\"axis_label\":\"CDF\",\"formatter\":{\"id\":\"118452\",\"type\":\"BasicTickFormatter\"},\"plot\":{\"id\":\"118383\",\"subtype\":\"Figure\",\"type\":\"Plot\"},\"ticker\":{\"id\":\"118398\",\"type\":\"BasicTicker\"}},\"id\":\"118397\",\"type\":\"LinearAxis\"},{\"attributes\":{\"plot\":null,\"text\":\"\"},\"id\":\"118449\",\"type\":\"Title\"},{\"attributes\":{},\"id\":\"118398\",\"type\":\"BasicTicker\"},{\"attributes\":{},\"id\":\"118454\",\"type\":\"BasicTickFormatter\"},{\"attributes\":{},\"id\":\"118456\",\"type\":\"UnionRenderers\"},{\"attributes\":{\"dimension\":1,\"plot\":{\"id\":\"118383\",\"subtype\":\"Figure\",\"type\":\"Plot\"},\"ticker\":{\"id\":\"118398\",\"type\":\"BasicTicker\"}},\"id\":\"118401\",\"type\":\"Grid\"},{\"attributes\":{\"line_alpha\":0.1,\"line_color\":\"#1f77b4\",\"line_width\":2,\"x\":{\"field\":\"x\"},\"y\":{\"field\":\"y_c\"}},\"id\":\"118422\",\"type\":\"Line\"},{\"attributes\":{},\"id\":\"118457\",\"type\":\"Selection\"},{\"attributes\":{\"callback\":null,\"data\":{\"x\":{\"__ndarray__\":\"ZmZmZmZm7r8AAAAAAAAAAAAAAAAAAAAAAAAAAAAA8D8AAAAAAADwPwAAAAAAAABAAAAAAAAAAEAAAAAAAAAIQAAAAAAAAAhAAAAAAAAAEEAAAAAAAAAQQAAAAAAAABRAAAAAAAAAFEAAAAAAAAAYQAAAAAAAABhAAAAAAAAAHEAAAAAAAAAcQAAAAAAAACBAAAAAAAAAIEAAAAAAAAAiQAAAAAAAACJAAAAAAAAAJEAAAAAAAAAkQAAAAAAAACZAAAAAAAAAJkAAAAAAAAAoQAAAAAAAAChAAAAAAAAAKkAAAAAAAAAqQAAAAAAAACxAAAAAAAAALEAAAAAAAAAuQAAAAAAAAC5AAAAAAAAAMEAAAAAAAAAwQAAAAAAAADFAAAAAAAAAMUAAAAAAAAAyQAAAAAAAADJAAAAAAAAAM0AAAAAAAAAzQAAAAAAAADRAAAAAAAAANEAzMzMzM/M0QA==\",\"dtype\":\"float64\",\"shape\":[44]},\"y_c\":{\"__ndarray__\":\"AAAAAAAAAAAAAAAAAAAAAAAAAAAAAKA/AAAAAAAAoD8AAAAAAADIPwAAAAAAAMg/AAAAAAAA4D8AAAAAAADgPwAAAAAAAOo/AAAAAAAA6j8AAAAAAADvPwAAAAAAAO8/AAAAAAAA8D8AAAAAAADwPwAAAAAAAPA/AAAAAAAA8D8AAAAAAADwPwAAAAAAAPA/AAAAAAAA8D8AAAAAAADwPwAAAAAAAPA/AAAAAAAA8D8AAAAAAADwPwAAAAAAAPA/AAAAAAAA8D8AAAAAAADwPwAAAAAAAPA/AAAAAAAA8D8AAAAAAADwPwAAAAAAAPA/AAAAAAAA8D8AAAAAAADwPwAAAAAAAPA/AAAAAAAA8D8AAAAAAADwPwAAAAAAAPA/AAAAAAAA8D8AAAAAAADwPwAAAAAAAPA/AAAAAAAA8D8AAAAAAADwPwAAAAAAAPA/AAAAAAAA8D8AAAAAAADwPw==\",\"dtype\":\"float64\",\"shape\":[44]}},\"selected\":{\"id\":\"118457\",\"type\":\"Selection\"},\"selection_policy\":{\"id\":\"118456\",\"type\":\"UnionRenderers\"}},\"id\":\"118419\",\"type\":\"ColumnDataSource\"},{\"attributes\":{\"toolbar\":{\"id\":\"118461\",\"type\":\"ProxyToolbar\"},\"toolbar_location\":\"above\"},\"id\":\"118462\",\"type\":\"ToolbarBox\"},{\"attributes\":{\"children\":[{\"id\":\"118464\",\"type\":\"WidgetBox\"},{\"id\":\"118468\",\"type\":\"Column\"}]},\"id\":\"118469\",\"type\":\"Row\"},{\"attributes\":{},\"id\":\"118402\",\"type\":\"PanTool\"},{\"attributes\":{\"tools\":[{\"id\":\"118368\",\"type\":\"PanTool\"},{\"id\":\"118369\",\"type\":\"WheelZoomTool\"},{\"id\":\"118370\",\"type\":\"BoxZoomTool\"},{\"id\":\"118371\",\"type\":\"SaveTool\"},{\"id\":\"118372\",\"type\":\"ResetTool\"},{\"id\":\"118373\",\"type\":\"HelpTool\"},{\"id\":\"118402\",\"type\":\"PanTool\"},{\"id\":\"118403\",\"type\":\"WheelZoomTool\"},{\"id\":\"118404\",\"type\":\"BoxZoomTool\"},{\"id\":\"118405\",\"type\":\"SaveTool\"},{\"id\":\"118406\",\"type\":\"ResetTool\"},{\"id\":\"118407\",\"type\":\"HelpTool\"}]},\"id\":\"118461\",\"type\":\"ProxyToolbar\"},{\"attributes\":{},\"id\":\"118369\",\"type\":\"WheelZoomTool\"},{\"attributes\":{\"children\":[{\"id\":\"118439\",\"type\":\"TextInput\"}],\"width\":50},\"id\":\"118467\",\"type\":\"WidgetBox\"},{\"attributes\":{},\"id\":\"118403\",\"type\":\"WheelZoomTool\"},{\"attributes\":{\"children\":[{\"id\":\"118438\",\"type\":\"TextInput\"}],\"width\":50},\"id\":\"118466\",\"type\":\"WidgetBox\"},{\"attributes\":{\"overlay\":{\"id\":\"118376\",\"type\":\"BoxAnnotation\"}},\"id\":\"118370\",\"type\":\"BoxZoomTool\"},{\"attributes\":{\"overlay\":{\"id\":\"118410\",\"type\":\"BoxAnnotation\"}},\"id\":\"118404\",\"type\":\"BoxZoomTool\"},{\"attributes\":{\"callback\":null},\"id\":\"118352\",\"type\":\"DataRange1d\"},{\"attributes\":{},\"id\":\"118405\",\"type\":\"SaveTool\"},{\"attributes\":{\"below\":[{\"id\":\"118358\",\"type\":\"LinearAxis\"}],\"left\":[{\"id\":\"118363\",\"type\":\"LinearAxis\"}],\"plot_height\":200,\"plot_width\":300,\"renderers\":[{\"id\":\"118358\",\"type\":\"LinearAxis\"},{\"id\":\"118362\",\"type\":\"Grid\"},{\"id\":\"118363\",\"type\":\"LinearAxis\"},{\"id\":\"118367\",\"type\":\"Grid\"},{\"id\":\"118376\",\"type\":\"BoxAnnotation\"},{\"id\":\"118428\",\"type\":\"GlyphRenderer\"},{\"id\":\"118433\",\"type\":\"GlyphRenderer\"}],\"title\":{\"id\":\"118347\",\"type\":\"Title\"},\"toolbar\":{\"id\":\"118374\",\"type\":\"Toolbar\"},\"toolbar_location\":null,\"x_range\":{\"id\":\"118350\",\"type\":\"DataRange1d\"},\"x_scale\":{\"id\":\"118354\",\"type\":\"LinearScale\"},\"y_range\":{\"id\":\"118352\",\"type\":\"DataRange1d\"},\"y_scale\":{\"id\":\"118356\",\"type\":\"LinearScale\"}},\"id\":\"118348\",\"subtype\":\"Figure\",\"type\":\"Plot\"},{\"attributes\":{\"children\":[{\"id\":\"118436\",\"type\":\"Slider\"},{\"id\":\"118437\",\"type\":\"Slider\"}]},\"id\":\"118464\",\"type\":\"WidgetBox\"},{\"attributes\":{},\"id\":\"118406\",\"type\":\"ResetTool\"},{\"attributes\":{\"children\":[{\"id\":\"118463\",\"type\":\"Column\"}]},\"id\":\"118465\",\"type\":\"Row\"},{\"attributes\":{},\"id\":\"118407\",\"type\":\"HelpTool\"},{\"attributes\":{},\"id\":\"118354\",\"type\":\"LinearScale\"},{\"attributes\":{\"children\":[{\"id\":\"118466\",\"type\":\"WidgetBox\"},{\"id\":\"118467\",\"type\":\"WidgetBox\"}]},\"id\":\"118468\",\"type\":\"Column\"},{\"attributes\":{\"active_drag\":\"auto\",\"active_inspect\":\"auto\",\"active_multi\":null,\"active_scroll\":\"auto\",\"active_tap\":\"auto\",\"tools\":[{\"id\":\"118402\",\"type\":\"PanTool\"},{\"id\":\"118403\",\"type\":\"WheelZoomTool\"},{\"id\":\"118404\",\"type\":\"BoxZoomTool\"},{\"id\":\"118405\",\"type\":\"SaveTool\"},{\"id\":\"118406\",\"type\":\"ResetTool\"},{\"id\":\"118407\",\"type\":\"HelpTool\"}]},\"id\":\"118408\",\"type\":\"Toolbar\"},{\"attributes\":{\"fill_color\":{\"value\":\"#1f77b4\"},\"line_color\":{\"value\":\"#1f77b4\"},\"size\":{\"units\":\"screen\",\"value\":5},\"x\":{\"field\":\"x\"},\"y\":{\"field\":\"y_p\"}},\"id\":\"118426\",\"type\":\"Circle\"},{\"attributes\":{\"children\":[{\"id\":\"118462\",\"type\":\"ToolbarBox\"},{\"id\":\"118460\",\"type\":\"Column\"}]},\"id\":\"118463\",\"type\":\"Column\"},{\"attributes\":{\"callback\":null},\"id\":\"118350\",\"type\":\"DataRange1d\"},{\"attributes\":{\"bottom_units\":\"screen\",\"fill_alpha\":{\"value\":0.5},\"fill_color\":{\"value\":\"lightgrey\"},\"left_units\":\"screen\",\"level\":\"overlay\",\"line_alpha\":{\"value\":1.0},\"line_color\":{\"value\":\"black\"},\"line_dash\":[4,4],\"line_width\":{\"value\":2},\"plot\":null,\"render_mode\":\"css\",\"right_units\":\"screen\",\"top_units\":\"screen\"},\"id\":\"118410\",\"type\":\"BoxAnnotation\"},{\"attributes\":{\"axis_label\":\"y\",\"formatter\":{\"id\":\"118444\",\"type\":\"BasicTickFormatter\"},\"plot\":{\"id\":\"118348\",\"subtype\":\"Figure\",\"type\":\"Plot\"},\"ticker\":{\"id\":\"118359\",\"type\":\"BasicTicker\"}},\"id\":\"118358\",\"type\":\"LinearAxis\"},{\"attributes\":{\"fill_alpha\":{\"value\":0.1},\"fill_color\":{\"value\":\"#1f77b4\"},\"line_alpha\":{\"value\":0.1},\"line_color\":{\"value\":\"#1f77b4\"},\"size\":{\"units\":\"screen\",\"value\":5},\"x\":{\"field\":\"x\"},\"y\":{\"field\":\"y_p\"}},\"id\":\"118427\",\"type\":\"Circle\"},{\"attributes\":{\"plot\":null,\"text\":\"Binomial\"},\"id\":\"118347\",\"type\":\"Title\"},{\"attributes\":{\"data_source\":{\"id\":\"118418\",\"type\":\"ColumnDataSource\"},\"glyph\":{\"id\":\"118426\",\"type\":\"Circle\"},\"hover_glyph\":null,\"muted_glyph\":null,\"nonselection_glyph\":{\"id\":\"118427\",\"type\":\"Circle\"},\"selection_glyph\":null,\"view\":{\"id\":\"118429\",\"type\":\"CDSView\"}},\"id\":\"118428\",\"type\":\"GlyphRenderer\"},{\"attributes\":{},\"id\":\"118359\",\"type\":\"BasicTicker\"},{\"attributes\":{\"source\":{\"id\":\"118418\",\"type\":\"ColumnDataSource\"}},\"id\":\"118429\",\"type\":\"CDSView\"},{\"attributes\":{},\"id\":\"118356\",\"type\":\"LinearScale\"},{\"attributes\":{\"line_color\":{\"value\":\"#1f77b4\"},\"line_width\":{\"value\":2},\"x0\":{\"field\":\"x\"},\"x1\":{\"field\":\"x\"},\"y0\":{\"value\":0},\"y1\":{\"field\":\"y_p\"}},\"id\":\"118431\",\"type\":\"Segment\"},{\"attributes\":{\"plot\":{\"id\":\"118348\",\"subtype\":\"Figure\",\"type\":\"Plot\"},\"ticker\":{\"id\":\"118359\",\"type\":\"BasicTicker\"}},\"id\":\"118362\",\"type\":\"Grid\"},{\"attributes\":{\"line_alpha\":{\"value\":0.1},\"line_color\":{\"value\":\"#1f77b4\"},\"line_width\":{\"value\":2},\"x0\":{\"field\":\"x\"},\"x1\":{\"field\":\"x\"},\"y0\":{\"value\":0},\"y1\":{\"field\":\"y_p\"}},\"id\":\"118432\",\"type\":\"Segment\"},{\"attributes\":{},\"id\":\"118364\",\"type\":\"BasicTicker\"},{\"attributes\":{\"axis_label\":\"PMF\",\"formatter\":{\"id\":\"118442\",\"type\":\"BasicTickFormatter\"},\"plot\":{\"id\":\"118348\",\"subtype\":\"Figure\",\"type\":\"Plot\"},\"ticker\":{\"id\":\"118364\",\"type\":\"BasicTicker\"}},\"id\":\"118363\",\"type\":\"LinearAxis\"},{\"attributes\":{\"data_source\":{\"id\":\"118418\",\"type\":\"ColumnDataSource\"},\"glyph\":{\"id\":\"118431\",\"type\":\"Segment\"},\"hover_glyph\":null,\"muted_glyph\":null,\"nonselection_glyph\":{\"id\":\"118432\",\"type\":\"Segment\"},\"selection_glyph\":null,\"view\":{\"id\":\"118434\",\"type\":\"CDSView\"}},\"id\":\"118433\",\"type\":\"GlyphRenderer\"},{\"attributes\":{\"source\":{\"id\":\"118418\",\"type\":\"ColumnDataSource\"}},\"id\":\"118434\",\"type\":\"CDSView\"},{\"attributes\":{\"dimension\":1,\"plot\":{\"id\":\"118348\",\"subtype\":\"Figure\",\"type\":\"Plot\"},\"ticker\":{\"id\":\"118364\",\"type\":\"BasicTicker\"}},\"id\":\"118367\",\"type\":\"Grid\"},{\"attributes\":{\"args\":{\"arg1\":{\"id\":\"118436\",\"type\":\"Slider\"},\"arg2\":{\"id\":\"118437\",\"type\":\"Slider\"},\"arg3\":{\"id\":\"118436\",\"type\":\"Slider\"},\"discrete\":true,\"dist\":\"binomial\",\"source_c\":{\"id\":\"118419\",\"type\":\"ColumnDataSource\"},\"source_p\":{\"id\":\"118418\",\"type\":\"ColumnDataSource\"},\"x_max\":{\"id\":\"118439\",\"type\":\"TextInput\"},\"x_min\":{\"id\":\"118438\",\"type\":\"TextInput\"}},\"code\":\"function linspace(start, stop, n) {\\n\\tvar x = [];\\n\\tvar currValue = start;\\n\\tvar step = (stop - start) / (n - 1);\\n\\tfor (var i = 0; i < n; i++) {\\n\\t\\tx.push(currValue);\\n\\t\\tcurrValue += step;\\n\\t}\\n\\treturn x;\\n}\\n\\n\\nfunction arange(start, stop) {\\n\\tvar x = [];\\n\\tfor (var i = start; i < stop; i++) x.push(i);\\n\\treturn x;\\n}\\n\\n\\nfunction bernoulli_prob(x, theta, {}, {}) {\\n\\tif (x == 0) return 1 - theta;\\n\\telse if (x == 1) return theta;\\n\\telse return 0.0;\\n}\\n\\n\\nfunction geometric_prob(x, theta, {}, {}) {\\n\\tif (theta == 1) {\\n\\t\\tif (x == 0) return 1.0;\\n\\t\\treturn 0.0;\\n\\t}\\n\\n\\tif (x < 0 || theta == 0) return 0.0;\\n\\n\\treturn Math.exp(x * Math.log(1-theta) + Math.log(theta))\\n}\\n\\n\\nfunction negative_binomial_prob(y, alpha, beta, {}) {\\n    if (y  < 0) return 0.0;\\n\\n    return Math.exp(lngamma(y + alpha)\\n                    - lngamma(alpha)\\n                    - lnfactorial(y)\\n                    + alpha * Math.log(beta / (1 + beta))\\n                    - y * Math.log(1 + beta));\\n}\\n\\n\\nfunction binomial_prob(n, N, theta, {}) {\\n    if (n > N || n < 0) return 0.0;\\n\\n    if (theta == 0) {\\n    \\tif (n == 0) return 1.0;\\n    \\treturn 0.0;\\n    }\\n\\n    if (theta == 1) {\\n        if (n == N) return 1.0;\\n        return 0.0;\\n    }\\n\\n    return Math.exp(lnfactorial(N)\\n                    - lnfactorial(N - n)\\n                    - lnfactorial(n)\\n                    + n * Math.log(theta)\\n                    + (N - n) * Math.log(1-theta));\\n}\\n\\n\\nfunction discrete_cdf(cumsum, y_p) {\\n\\tvar y_c = [];\\n\\n    y_c.push(cumsum);\\n    y_c.push(cumsum);\\n    for (var i = 0; i < y_p.length; i++) {\\n        cumsum += y_p[i];\\n\\t    y_c.push(cumsum);\\n    \\ty_c.push(cumsum);\\n//        y_c.push(cumsum, cumsum);\\n    }\\n\\n    return y_c;\\n}\\n\\n\\nfunction update_y_p_discrete(probFun, x_p, arg1, arg2, arg3) {\\n\\t// Compute PMF\\n\\tvar y_p = [];\\n    for (var i = 0; i < x_p.length; i++) {\\n      y_p.push(probFun(x_p[i], arg1, arg2, arg3));\\n    }\\n\\n    return y_p;\\n}\\n\\n\\nfunction update_y_c_discrete(probFun, x_p, y_p, arg1, arg2, arg3) {\\n    // Compute CDF\\n    var cumsum = 0.0\\n    for (var i = 0; i < x_p[0]; i++) {\\n        cumsum += probFun(x_p[i], arg1, arg2, arg3);\\n    }\\n\\n    y_c = discrete_cdf(cumsum, y_p);\\n    return y_c;\\n}\\n\\n\\nfunction lnfactorial(n) {\\n  if (n > 254) { // Use Stirling's approximation\\n    var x = n + 1;\\n    return (x - 0.5)*Math.log(x) - x + 0.5*Math.log(2*Math.PI) + 1.0/(12.0*x);\\n  }\\n  else { // Look it up\\n    const lnfact = [0.000000000000000,\\n                    0.000000000000000,\\n                    0.693147180559945,\\n                    1.791759469228055,\\n                    3.178053830347946,\\n                    4.787491742782046,\\n                    6.579251212010101,\\n                    8.525161361065415,\\n                    10.604602902745251,\\n                    12.801827480081469,\\n                    15.104412573075516,\\n                    17.502307845873887,\\n                    19.987214495661885,\\n                    22.552163853123421,\\n                    25.191221182738683,\\n                    27.899271383840894,\\n                    30.671860106080675,\\n                    33.505073450136891,\\n                    36.395445208033053,\\n                    39.339884187199495,\\n                    42.335616460753485,\\n                    45.380138898476908,\\n                    48.471181351835227,\\n                    51.606675567764377,\\n                    54.784729398112319,\\n                    58.003605222980518,\\n                    61.261701761002001,\\n                    64.557538627006323,\\n                    67.889743137181526,\\n                    71.257038967168000,\\n                    74.658236348830158,\\n                    78.092223553315307,\\n                    81.557959456115029,\\n                    85.054467017581516,\\n                    88.580827542197682,\\n                    92.136175603687079,\\n                    95.719694542143202,\\n                    99.330612454787428,\\n                    102.968198614513810,\\n                    106.631760260643450,\\n                    110.320639714757390,\\n                    114.034211781461690,\\n                    117.771881399745060,\\n                    121.533081515438640,\\n                    125.317271149356880,\\n                    129.123933639127240,\\n                    132.952575035616290,\\n                    136.802722637326350,\\n                    140.673923648234250,\\n                    144.565743946344900,\\n                    148.477766951773020,\\n                    152.409592584497350,\\n                    156.360836303078800,\\n                    160.331128216630930,\\n                    164.320112263195170,\\n                    168.327445448427650,\\n                    172.352797139162820,\\n                    176.395848406997370,\\n                    180.456291417543780,\\n                    184.533828861449510,\\n                    188.628173423671600,\\n                    192.739047287844900,\\n                    196.866181672889980,\\n                    201.009316399281570,\\n                    205.168199482641200,\\n                    209.342586752536820,\\n                    213.532241494563270,\\n                    217.736934113954250,\\n                    221.956441819130360,\\n                    226.190548323727570,\\n                    230.439043565776930,\\n                    234.701723442818260,\\n                    238.978389561834350,\\n                    243.268849002982730,\\n                    247.572914096186910,\\n                    251.890402209723190,\\n                    256.221135550009480,\\n                    260.564940971863220,\\n                    264.921649798552780,\\n                    269.291097651019810,\\n                    273.673124285693690,\\n                    278.067573440366120,\\n                    282.474292687630400,\\n                    286.893133295426990,\\n                    291.323950094270290,\\n                    295.766601350760600,\\n                    300.220948647014100,\\n                    304.686856765668720,\\n                    309.164193580146900,\\n                    313.652829949878990,\\n                    318.152639620209300,\\n                    322.663499126726210,\\n                    327.185287703775200,\\n                    331.717887196928470,\\n                    336.261181979198450,\\n                    340.815058870798960,\\n                    345.379407062266860,\\n                    349.954118040770250,\\n                    354.539085519440790,\\n                    359.134205369575340,\\n                    363.739375555563470,\\n                    368.354496072404690,\\n                    372.979468885689020,\\n                    377.614197873918670,\\n                    382.258588773060010,\\n                    386.912549123217560,\\n                    391.575988217329610,\\n                    396.248817051791490,\\n                    400.930948278915760,\\n                    405.622296161144900,\\n                    410.322776526937280,\\n                    415.032306728249580,\\n                    419.750805599544780,\\n                    424.478193418257090,\\n                    429.214391866651570,\\n                    433.959323995014870,\\n                    438.712914186121170,\\n                    443.475088120918940,\\n                    448.245772745384610,\\n                    453.024896238496130,\\n                    457.812387981278110,\\n                    462.608178526874890,\\n                    467.412199571608080,\\n                    472.224383926980520,\\n                    477.044665492585580,\\n                    481.872979229887900,\\n                    486.709261136839360,\\n                    491.553448223298010,\\n                    496.405478487217580,\\n                    501.265290891579240,\\n                    506.132825342034830,\\n                    511.008022665236070,\\n                    515.890824587822520,\\n                    520.781173716044240,\\n                    525.679013515995050,\\n                    530.584288294433580,\\n                    535.496943180169520,\\n                    540.416924105997740,\\n                    545.344177791154950,\\n                    550.278651724285620,\\n                    555.220294146894960,\\n                    560.169054037273100,\\n                    565.124881094874350,\\n                    570.087725725134190,\\n                    575.057539024710200,\\n                    580.034272767130800,\\n                    585.017879388839220,\\n                    590.008311975617860,\\n                    595.005524249382010,\\n                    600.009470555327430,\\n                    605.020105849423770,\\n                    610.037385686238740,\\n                    615.061266207084940,\\n                    620.091704128477430,\\n                    625.128656730891070,\\n                    630.172081847810200,\\n                    635.221937855059760,\\n                    640.278183660408100,\\n                    645.340778693435030,\\n                    650.409682895655240,\\n                    655.484856710889060,\\n                    660.566261075873510,\\n                    665.653857411105950,\\n                    670.747607611912710,\\n                    675.847474039736880,\\n                    680.953419513637530,\\n                    686.065407301994010,\\n                    691.183401114410800,\\n                    696.307365093814040,\\n                    701.437263808737160,\\n                    706.573062245787470,\\n                    711.714725802289990,\\n                    716.862220279103440,\\n                    722.015511873601330,\\n                    727.174567172815840,\\n                    732.339353146739310,\\n                    737.509837141777440,\\n                    742.685986874351220,\\n                    747.867770424643370,\\n                    753.055156230484160,\\n                    758.248113081374300,\\n                    763.446610112640200,\\n                    768.650616799717000,\\n                    773.860102952558460,\\n                    779.075038710167410,\\n                    784.295394535245690,\\n                    789.521141208958970,\\n                    794.752249825813460,\\n                    799.988691788643450,\\n                    805.230438803703120,\\n                    810.477462875863580,\\n                    815.729736303910160,\\n                    820.987231675937890,\\n                    826.249921864842800,\\n                    831.517780023906310,\\n                    836.790779582469900,\\n                    842.068894241700490,\\n                    847.352097970438420,\\n                    852.640365001133090,\\n                    857.933669825857460,\\n                    863.231987192405430,\\n                    868.535292100464630,\\n                    873.843559797865740,\\n                    879.156765776907600,\\n                    884.474885770751830,\\n                    889.797895749890240,\\n                    895.125771918679900,\\n                    900.458490711945270,\\n                    905.796028791646340,\\n                    911.138363043611210,\\n                    916.485470574328820,\\n                    921.837328707804890,\\n                    927.193914982476710,\\n                    932.555207148186240,\\n                    937.921183163208070,\\n                    943.291821191335660,\\n                    948.667099599019820,\\n                    954.046996952560450,\\n                    959.431492015349480,\\n                    964.820563745165940,\\n                    970.214191291518320,\\n                    975.612353993036210,\\n                    981.015031374908400,\\n                    986.422203146368590,\\n                    991.833849198223450,\\n                    997.249949600427840,\\n                    1002.670484599700300,\\n                    1008.095434617181700,\\n                    1013.524780246136200,\\n                    1018.958502249690200,\\n                    1024.396581558613400,\\n                    1029.838999269135500,\\n                    1035.285736640801600,\\n                    1040.736775094367400,\\n                    1046.192096209724900,\\n                    1051.651681723869200,\\n                    1057.115513528895000,\\n                    1062.583573670030100,\\n                    1068.055844343701400,\\n                    1073.532307895632800,\\n                    1079.012946818975000,\\n                    1084.497743752465600,\\n                    1089.986681478622400,\\n                    1095.479742921962700,\\n                    1100.976911147256000,\\n                    1106.478169357800900,\\n                    1111.983500893733000,\\n                    1117.492889230361000,\\n                    1123.006317976526100,\\n                    1128.523770872990800,\\n                    1134.045231790853000,\\n                    1139.570684729984800,\\n                    1145.100113817496100,\\n                    1150.633503306223700,\\n                    1156.170837573242400]\\n    return lnfact[n];\\n  }\\n}\\n\\n\\nfunction lngamma(z) {\\n\\t// Compute log of the Gamma function using Lanczos approx.,\\n\\t// see https://en.wikipedia.org/wiki/Lanczos_approximation.\\n\\n\\tif(z < 0) return Number('0/0');\\n\\n\\tif (z < 0.5) return Math.log(Math.PI) - Math.log(Math.sin(Math.PI * z)) - lngamma(1-z);\\n\\n    var p = [676.5203681218851,\\n\\t         -1259.1392167224028,\\n\\t         771.32342877765313,\\n\\t         -176.61502916214059,\\n\\t         12.507343278686905,\\n\\t         -0.13857109526572012,\\n\\t         9.9843695780195716e-6,\\n\\t         1.5056327351493116e-7];\\n\\n\\tz -= 1.0;\\n\\tvar Ag = 0.99999999999980993;\\n\\tfor (var i = 0; i < p.length; i++) {\\n\\t\\tAg += p[i] / (z + i + 1);\\n\\t}\\n\\tvar t = z + p.length - 0.5;\\n\\n\\treturn 0.5 * Math.log(2*Math.PI) + (z + 0.5)*Math.log(t) - t + Math.log(Ag);\\n}\\n\\n\\n// Extract data from sources\\nvar data_p = source_p.data;\\nvar data_c = source_c.data;\\nvar x_p = data_p['x'];\\nvar y_p = data_p['y_p'];\\nvar x_c = data_c['x'];\\nvar y_c = data_c['y_c'];\\n\\n// // Range of values to evaluate PMF/PDF and CDF\\n// var xRangeMin = Number(x_min.value);\\n// var xRangeMax = Number(x_max.value);\\n// if (discrete) {\\n//   \\txRangeMin = Math.floor(xRangeMin);\\n//   \\txRangeMax = Math.ceil(xRangeMax);\\n// }\\n\\n// // x-values to evaluate PMF/PDF and CDF\\n// if (discrete) {\\n// \\tx_p = arange(Math.floor(xRangeMin), Math.ceil(xRangeMax));\\n// \\txSize = xRangeMax - xRangeMin;\\n\\n// \\tx_c = [];\\n// \\tfor (var i = 0; i < x_p.length; i++) x_c.push(x_p[i], x_p[i]);\\n\\n// \\tx_c.unshift(Math.max(xRangeMin - 0.05 * xSize, xRangeMin - 0.95));\\n// \\tx_c.push(Math.min(xRangeMax + 0.05*xSize, xRangeMax + 0.95));\\n// }\\n// else {\\n// \\tx_p = linspace(xRangeMin, xRangeMax, n);\\n// \\tx_c = x_p\\n// }\\n\\n\\n// Which function to compute probability or probability density\\nvar probFun\\nif (dist === 'bernoulli') probFun = bernoulli_prob;\\nelse if (dist === 'geometric') probFun = geometric_prob;\\nelse if (dist === 'negative_binomial') probFun = negative_binomial_prob;\\nelse if (dist === 'binomial') probFun = binomial_prob;\\n\\n// Update the PMF/PDF and CDF\\nif (discrete) {\\n\\tsource_p.data['y_p'] = update_y_p_discrete(probFun, \\n\\t\\tsource_p.data['x'], arg1.value, arg2.value, arg3.value);\\n\\tsource_c.data['y_c'] = update_y_c_discrete(probFun, \\n\\t\\tsource_p.data['x'], source_p.data['y_p'], \\n\\t\\t\\t\\t\\t\\t\\t  arg1.value, arg2.value, arg3.value);\\n}\\n\\n\\nsource_p.change.emit();\\nsource_c.change.emit();\"},\"id\":\"118435\",\"type\":\"CustomJS\"},{\"attributes\":{\"callback\":null,\"end\":20,\"js_property_callbacks\":{\"change:value\":[{\"id\":\"118435\",\"type\":\"CustomJS\"}]},\"start\":1,\"title\":\"N\",\"value\":5},\"id\":\"118436\",\"type\":\"Slider\"},{\"attributes\":{\"callback\":null,\"end\":1.05,\"start\":-0.05},\"id\":\"118417\",\"type\":\"Range1d\"},{\"attributes\":{},\"id\":\"118371\",\"type\":\"SaveTool\"},{\"attributes\":{\"callback\":null,\"end\":1,\"js_property_callbacks\":{\"change:value\":[{\"id\":\"118435\",\"type\":\"CustomJS\"}]},\"start\":0,\"step\":0.01,\"title\":\"\\u03b8\",\"value\":0.5},\"id\":\"118437\",\"type\":\"Slider\"},{\"attributes\":{\"below\":[{\"id\":\"118392\",\"type\":\"LinearAxis\"}],\"left\":[{\"id\":\"118397\",\"type\":\"LinearAxis\"}],\"plot_height\":200,\"plot_width\":300,\"renderers\":[{\"id\":\"118392\",\"type\":\"LinearAxis\"},{\"id\":\"118396\",\"type\":\"Grid\"},{\"id\":\"118397\",\"type\":\"LinearAxis\"},{\"id\":\"118401\",\"type\":\"Grid\"},{\"id\":\"118410\",\"type\":\"BoxAnnotation\"},{\"id\":\"118423\",\"type\":\"GlyphRenderer\"}],\"title\":{\"id\":\"118449\",\"type\":\"Title\"},\"toolbar\":{\"id\":\"118408\",\"type\":\"Toolbar\"},\"toolbar_location\":null,\"x_range\":{\"id\":\"118350\",\"type\":\"DataRange1d\"},\"x_scale\":{\"id\":\"118388\",\"type\":\"LinearScale\"},\"y_range\":{\"id\":\"118417\",\"type\":\"Range1d\"},\"y_scale\":{\"id\":\"118390\",\"type\":\"LinearScale\"}},\"id\":\"118383\",\"subtype\":\"Figure\",\"type\":\"Plot\"},{\"attributes\":{},\"id\":\"118368\",\"type\":\"PanTool\"},{\"attributes\":{},\"id\":\"118372\",\"type\":\"ResetTool\"},{\"attributes\":{\"callback\":null,\"js_property_callbacks\":{\"change:value\":[{\"id\":\"118435\",\"type\":\"CustomJS\"}]},\"title\":\"min\",\"value\":\"0\",\"width\":50},\"id\":\"118438\",\"type\":\"TextInput\"},{\"attributes\":{\"source\":{\"id\":\"118419\",\"type\":\"ColumnDataSource\"}},\"id\":\"118424\",\"type\":\"CDSView\"},{\"attributes\":{\"line_color\":\"#1f77b4\",\"line_width\":2,\"x\":{\"field\":\"x\"},\"y\":{\"field\":\"y_c\"}},\"id\":\"118421\",\"type\":\"Line\"},{\"attributes\":{\"data_source\":{\"id\":\"118419\",\"type\":\"ColumnDataSource\"},\"glyph\":{\"id\":\"118421\",\"type\":\"Line\"},\"hover_glyph\":null,\"muted_glyph\":null,\"nonselection_glyph\":{\"id\":\"118422\",\"type\":\"Line\"},\"selection_glyph\":null,\"view\":{\"id\":\"118424\",\"type\":\"CDSView\"}},\"id\":\"118423\",\"type\":\"GlyphRenderer\"}],\"root_ids\":[\"118470\"]},\"title\":\"Bokeh Application\",\"version\":\"1.0.4\"}};\n",
       "  var render_items = [{\"docid\":\"78888c37-9f57-4b6d-9b43-93509d2e3bf5\",\"roots\":{\"118470\":\"6639853c-a84b-4ab6-8995-aedc40e2dc21\"}}];\n",
       "  root.Bokeh.embed.embed_items_notebook(docs_json, render_items);\n",
       "\n",
       "  }\n",
       "  if (root.Bokeh !== undefined) {\n",
       "    embed_document(root);\n",
       "  } else {\n",
       "    var attempts = 0;\n",
       "    var timer = setInterval(function(root) {\n",
       "      if (root.Bokeh !== undefined) {\n",
       "        embed_document(root);\n",
       "        clearInterval(timer);\n",
       "      }\n",
       "      attempts++;\n",
       "      if (attempts > 100) {\n",
       "        console.log(\"Bokeh: ERROR: Unable to run BokehJS code because BokehJS library is missing\");\n",
       "        clearInterval(timer);\n",
       "      }\n",
       "    }, 10, root)\n",
       "  }\n",
       "})(window);"
      ],
      "application/vnd.bokehjs_exec.v0+json": ""
     },
     "metadata": {
      "application/vnd.bokehjs_exec.v0+json": {
       "id": "118470"
      }
     },
     "output_type": "display_data"
    }
   ],
   "source": [
    "params = [dict(name='N', start=1, end=20, value=5, step=1),\n",
    "          dict(name='θ', start=0, end=1, value=0.5, step=0.01)]\n",
    "\n",
    "app = distribution_explorer.explore(\n",
    "    dist='binomial',\n",
    "    x_min=0,\n",
    "    x_max=20,\n",
    "    params=params,\n",
    "    x_axis_label='y',\n",
    "    title='Binomial',\n",
    "    adjustable_xrange=True)\n",
    "bokeh.io.show(app)"
   ]
  },
  {
   "cell_type": "markdown",
   "metadata": {},
   "source": [
    "### Poisson distribution\n",
    "\n",
    "* **Story.**  Rare events occur with a rate $\\lambda$ per unit\n",
    "time.  There is no \"memory\" of previous events; i.e., that rate is\n",
    "independent of time. A process that generates such events is called a *Poisson process*. The occurrence of a rare event in this context is referred to as an *arrival*. The number $n$ of arrivals in unit time is Poisson distributed.\n",
    "\n",
    "* **Example.** The number of mutations in a strand of DNA per\n",
    "unit length (since mutations are rare) are Poisson distributed.\n",
    "\n",
    "* **Parameter.** The single parameter is the rate $\\lambda$ of\n",
    "the rare events occurring.\n",
    "\n",
    "* **Support.** The Poisson distribution is supported on the set of nonnegative integers.\n",
    "\n",
    "* **Probability mass function.**\n",
    "\\begin{align}\n",
    "f(n;\\lambda) = \\frac{\\lambda^n}{n!}\\,\\mathrm{e}^{-\\lambda}.\n",
    "\\end{align}\n",
    "\n",
    "* **Usage**\n",
    "\n",
    "| Package        | Syntax           |\n",
    "|: ------------- | :------------- |\n",
    "|**NumPy** | `np.random.poisson(lam)` |\n",
    "|**SciPy** | `scipy.stats.poisson(lam)` |\n",
    "|**Stan** | `poisson(lam)` |\n",
    "\n",
    "\n",
    "* **Related distributions.**\n",
    "    - In the limit of $N\\to\\infty$ and $\\theta\\to 0$ such that the quantity $N\\theta$ is fixed, the [Binomial distribution](#Binomial-distribution) becomes a Poisson distribution with parameter $N\\theta$. Thus, for large $N$ and small $\\theta$,\n",
    "    \\begin{align}\n",
    "    \\\\ \\phantom{blah}\n",
    "    f_\\mathrm{Poisson}(n;\\lambda) \\approx f_\\mathrm{Binomial}(n;N, \\theta),\n",
    "    \\\\ \\phantom{blah}\n",
    "    \\end{align}\n",
    "    with $\\lambda = N\\theta$. Considering the biological example of mutations,\n",
    "    this is Binomially distributed: There are $N$ bases, each with a\n",
    "    probability $\\theta$ of mutation, so the number of mutations, $n$ is\n",
    "    binomially distributed.  Since $\\theta$ is small and $N$ is large, it is approximately\n",
    "    Poisson distributed.\n",
    "    - Under the ($\\mu, \\phi$) parametrization of the [Negative Binomial distribution](#Negative-Binomial-distribution), taking the limit of large $\\phi$ yields the Poisson distribution."
   ]
  },
  {
   "cell_type": "code",
   "execution_count": 11,
   "metadata": {},
   "outputs": [
    {
     "data": {
      "application/vnd.bokehjs_exec.v0+json": "",
      "text/html": [
       "\n",
       "<script src=\"http://localhost:59719/autoload.js?bokeh-autoload-element=1315&bokeh-absolute-url=http://localhost:59719&resources=none\" id=\"1315\"></script>"
      ]
     },
     "metadata": {
      "application/vnd.bokehjs_exec.v0+json": {
       "server_id": "c9b89e32e7964bcf96ca9883e8107825"
      }
     },
     "output_type": "display_data"
    }
   ],
   "source": [
    "params = [dict(name='λ', start=1, end=20, value=5, step=0.1)]\n",
    "app = distribution_plot_app(x_min=0,\n",
    "                            x_max=40,\n",
    "                            scipy_dist=st.poisson,\n",
    "                            params=params,\n",
    "                            x_axis_label='n',\n",
    "                            title='Poisson')\n",
    "bokeh.io.show(app, notebook_url=notebook_url)"
   ]
  },
  {
   "cell_type": "markdown",
   "metadata": {},
   "source": [
    "### Hypergeometric distribution\n",
    "\n",
    "* **Story.** Consider an urn with $a$ white balls and $b$ black\n",
    "balls.  Draw $N$ balls from this urn without replacement.  The number\n",
    "white balls drawn, $n$, is Hypergeometrically distributed.\n",
    "\n",
    "* **Example.** There are $a+b$ finches on an island, and $a$ of\n",
    "them are tagged (and therefore $b$ of them are untagged).  You capture $N$ finches.  The number of tagged\n",
    "finches $n$ is Hypergeometrically distributed, $f(n;N, a, b)$,\n",
    "as defined below.\n",
    "\n",
    "* **Parameters.** There are three parameters: the number of\n",
    "draws $N$, the number of white balls $a$, and the number of black\n",
    "balls $b$.\n",
    "\n",
    "* **Support.** The Hypergeometric distribution is supported on the set of integers between $\\max(0, N-b)$ and $\\min(N, a)$, inclusive.\n",
    "\n",
    "* **Probability mass function.**\n",
    "\\begin{align}\n",
    "f(n;N, a, b) = \\frac{\\begin{pmatrix}a\\\\n\\end{pmatrix}\\begin{pmatrix}b\\\\N-n\\end{pmatrix}}\n",
    "{\\begin{pmatrix}a+b\\\\N\\end{pmatrix}}.\n",
    "\\end{align}\n",
    "\n",
    "* **Usage**\n",
    "\n",
    "| Package        | Syntax           |\n",
    "|: ------------- | :------------- |\n",
    "|**NumPy** | `np.random.hypergeometric(a, b, N)` |\n",
    "|**SciPy** | `scipy.stats.hypergeom(a+b, a, N)` |\n",
    "|**Stan** | `hypergeometric(N, a, b)` |\n",
    "\n",
    "\n",
    "* **Related distributions.** \n",
    "    - In the limit of $a+b\\to\\infty$ such that $a/(a+b)$ is fixed, we get a [Binomial distribution](#Binomial-distribution) with parameters $N=N$ and $\\theta = a/(a+b)$.\n",
    "\n",
    "* **Notes.** \n",
    "    - This distribution is analogous to the [Binomial distribution](#Binomial-distribution), except that the Binomial distribution describes draws from an urn *with* replacement.  In the analogy, $p = a/(a+b)$.\n",
    "    - SciPy uses a different parametrization. Let $M = a+b$ be the total number of balls in the urn. Then, noting the order of the parameters, since this is what `scipy.stats.hypergeom` expects,\n",
    "    \\begin{align}\n",
    "    \\\\ \\phantom{blah}\n",
    "    f(n;M, a, N) = \\frac{\\begin{pmatrix}a\\\\n\\end{pmatrix}\\begin{pmatrix}M-a\\\\N-n\\end{pmatrix}}\n",
    "    {\\begin{pmatrix}M\\\\n\\end{pmatrix}}.\n",
    "        \\\\ \\phantom{blah}\n",
    "    \\end{align}\n",
    "    - The random number generator in `numpy.random` has a different parametrization than in the `scipy.stats` module. The `numpy.random.hypergeom()` function uses the same parametrization as Stan, except the parameters are given in the order `a, b, N`, not `N, a, b`, as in Stan.    \n",
    "    - When using the sliders below, you will only get a plot if $N \\le a+b$ because you cannot draw more balls out of the urn than are actually in there."
   ]
  },
  {
   "cell_type": "code",
   "execution_count": 12,
   "metadata": {},
   "outputs": [
    {
     "data": {
      "application/vnd.bokehjs_exec.v0+json": "",
      "text/html": [
       "\n",
       "<script src=\"http://localhost:59720/autoload.js?bokeh-autoload-element=1316&bokeh-absolute-url=http://localhost:59720&resources=none\" id=\"1316\"></script>"
      ]
     },
     "metadata": {
      "application/vnd.bokehjs_exec.v0+json": {
       "server_id": "c9f958df248b44d79cee4b8d9b35430b"
      }
     },
     "output_type": "display_data"
    }
   ],
   "source": [
    "params = [dict(name='N', start=1, end=20, value=10, step=1),\n",
    "          dict(name='a', start=1, end=20, value=10, step=1),\n",
    "          dict(name='b', start=1, end=20, value=10, step=1)]\n",
    "app = distribution_plot_app(x_min=0,\n",
    "                            x_max=40,\n",
    "                            scipy_dist=st.hypergeom,\n",
    "                            params=params,\n",
    "                            transform=lambda N, a, b: (a+b, a, N),\n",
    "                            x_axis_label='n',\n",
    "                            title='Hypergeometric')\n",
    "bokeh.io.show(app, notebook_url=notebook_url)"
   ]
  },
  {
   "cell_type": "markdown",
   "metadata": {},
   "source": [
    "### Categorical distribution\n",
    "\n",
    "* **Story.** A probability is assigned to each of a set of discrete outcomes.\n",
    "\n",
    "* **Example.** A hen will peck at grain A with probability $\\theta_A$, grain B with probability $\\theta_B$, and grain C with probability $\\theta_C$.\n",
    "\n",
    "* **Parameters.** The distribution is parametrized by the probabilities assigned to each event. We define $\\theta_y$ to be the probability assigned to outcome $y$. The set of $\\theta_y$'s are the parameters, and are constrained by\n",
    "\n",
    "\\begin{align}\n",
    "\\sum_y \\theta_y = 1.\n",
    "\\end{align}\n",
    "\n",
    "* **Support.** If we index the categories with sequential integers from 1 to *N*, the distribution is supported for integers 1 to _N_, inclusive.\n",
    "\n",
    "* **Probability mass function.**\n",
    "\\begin{align}\n",
    "f(y;\\{\\theta_y\\}) = \\theta_y.\n",
    "\\end{align}\n",
    "\n",
    "* **Usage (with `theta` length `n`)**\n",
    "\n",
    "| Package        | Syntax           |\n",
    "|: -------------: | :------------- |\n",
    "|**NumPy** | `np.random.choice(len(theta), p=theta)` |\n",
    "|**SciPy** | `scipy.stats.rv_discrete(values=(range(len(theta)), theta)).rvs()` |\n",
    "|**Stan** | `categorical(theta)` |\n",
    "\n",
    "* **Related distributions.** \n",
    "    - The [Discrete Uniform distribution](#Discrete-Uniform-distribution) is a special case where all $\\theta_y$ are equal.\n",
    "    - The Bernoulli distribution is a special case where there are two categories that can be encoded as having outcomes of zero or one. In this case, the parameter for the Bernoulli distribution is $\\theta = \\theta_0 = 1-\\theta_1$.\n",
    "\n",
    "\n",
    "* **Notes.** \n",
    "    - This distribution must be manually constructed if you are using the `scipy.stats` module using `scipy.stats.rv_discrete()`. The categories need to be encoded by an index. For interactive plotting purposes, below, we need to specify a custom PMF and CDF.\n",
    "    - To sample out of a Categorical distribution, use `numpy.random.choice()`, specifying the values of $\\theta$ using the `p` kwarg."
   ]
  },
  {
   "cell_type": "code",
   "execution_count": 13,
   "metadata": {},
   "outputs": [
    {
     "data": {
      "application/vnd.bokehjs_exec.v0+json": "",
      "text/html": [
       "\n",
       "<script src=\"http://localhost:59721/autoload.js?bokeh-autoload-element=1317&bokeh-absolute-url=http://localhost:59721&resources=none\" id=\"1317\"></script>"
      ]
     },
     "metadata": {
      "application/vnd.bokehjs_exec.v0+json": {
       "server_id": "15e8f74d7d124e6e8e0fdce728e79014"
      }
     },
     "output_type": "display_data"
    }
   ],
   "source": [
    "def categorical_pmf(x, θ1, θ2, θ3):\n",
    "    thetas = np.array([θ1, θ2, θ3, 1-θ1-θ2-θ3])\n",
    "    if (thetas < 0).any():\n",
    "        return np.array([np.nan]*len(x))\n",
    "    return thetas[x-1]\n",
    "\n",
    "def categorical_cdf_indiv(x, thetas):\n",
    "    if x < 1:\n",
    "        return 0\n",
    "    elif x >= 4:\n",
    "        return 1\n",
    "    else:\n",
    "        return np.sum(thetas[:int(x)])\n",
    "    \n",
    "def categorical_cdf(x, θ1, θ2, θ3):\n",
    "    thetas = np.array([θ1, θ2, θ3, 1-θ1-θ2-θ3])\n",
    "    if (thetas < 0).any():\n",
    "        return np.array([np.nan]*len(x))\n",
    "\n",
    "    return np.array([categorical_cdf_indiv(x_val, thetas) for x_val in x])\n",
    "\n",
    "params = [dict(name='θ1', start=0, end=1, value=0.2, step=0.01),\n",
    "          dict(name='θ2', start=0, end=1, value=0.3, step=0.01),\n",
    "          dict(name='θ3', start=0, end=1, value=0.1, step=0.01)]\n",
    "app = distribution_plot_app(x_min=1,\n",
    "                            x_max=4,\n",
    "                            custom_pmf=categorical_pmf,\n",
    "                            custom_cdf=categorical_cdf,\n",
    "                            params=params,\n",
    "                            x_axis_label='category',\n",
    "                            title='Discrete categorical')\n",
    "bokeh.io.show(app, notebook_url=notebook_url)"
   ]
  },
  {
   "cell_type": "markdown",
   "metadata": {},
   "source": [
    "### Discrete Uniform distribution\n",
    "\n",
    "* **Story.** A set of discrete outcomes that can be indexed with sequential integers each has equal probability, like rolling a fair die.\n",
    "\n",
    "* **Example.** A monkey can choose from any of $n$ bananas with equal probability.\n",
    "\n",
    "* **Parameters.** The distribution is parametrized by the high and low allowed values.\n",
    "\n",
    "* **Support.** The Discrete Uniform distribution is supported on the set of integers ranging from $y_\\mathrm{low}$ to $y_\\mathrm{high}$, inclusive.\n",
    "\n",
    "* **Probability mass function.**\n",
    "\\begin{align}\n",
    "f(y;y_\\mathrm{low}, y_\\mathrm{high}) = \\frac{1}{y_\\mathrm{high} - y_\\mathrm{low} + 1}\n",
    "\\end{align}\n",
    "\n",
    "* **Usage**\n",
    "\n",
    "| Package        | Syntax           |\n",
    "|: -------------: | :------------- |\n",
    "|**NumPy** | `np.random.randint(low, high+1)` |\n",
    "|**SciPy** | `scipy.stats.randint(low, high+1)` |\n",
    "|**Stan** | `categorical(theta)`, `theta` array with all equal values |\n",
    "\n",
    "* **Related distributions.** \n",
    "    - The [Discrete Uniform distribution](#Discrete-Uniform-distribution) is a special case of the [Categorical distribution](#Categorical-distribution) where all $\\theta_y$ are equal.\n",
    "\n",
    "* **Notes.** \n",
    "    - This distribution is not included in Stan. Instead, use a [Categorical distribution](#Categorical-distribution) with equal probailities.\n",
    "    - In SciPy, this distribution is know as `scipy.stats.randint`. The `high` parameter is not inclusive; i.e., the set of allowed values includes the `low` parameter, but not the `high`. The same is true for `numpy.random.randint()`, which is used for sampling out of this distribution."
   ]
  },
  {
   "cell_type": "code",
   "execution_count": 14,
   "metadata": {},
   "outputs": [
    {
     "data": {
      "application/vnd.bokehjs_exec.v0+json": "",
      "text/html": [
       "\n",
       "<script src=\"http://localhost:59722/autoload.js?bokeh-autoload-element=1318&bokeh-absolute-url=http://localhost:59722&resources=none\" id=\"1318\"></script>"
      ]
     },
     "metadata": {
      "application/vnd.bokehjs_exec.v0+json": {
       "server_id": "9b7cbacfdce84193ae4ba94192cab29d"
      }
     },
     "output_type": "display_data"
    }
   ],
   "source": [
    "params = [dict(name='low', start=0, end=10, value=0, step=1),\n",
    "          dict(name='high', start=0, end=10, value=10, step=1)]\n",
    "app = distribution_plot_app(x_min=0,\n",
    "                            x_max=10,\n",
    "                            scipy_dist=st.randint,\n",
    "                            params=params,\n",
    "                            transform=lambda low, high: (low, high+1),\n",
    "                            x_axis_label='y',\n",
    "                            title='Discrete continuous')\n",
    "bokeh.io.show(app, notebook_url=notebook_url)"
   ]
  },
  {
   "cell_type": "markdown",
   "metadata": {},
   "source": [
    "## Continuous distributions"
   ]
  },
  {
   "cell_type": "markdown",
   "metadata": {},
   "source": [
    "### Uniform distribution\n",
    "\n",
    "* **Story.** Any outcome in a given range has equal probability.\n",
    "\n",
    "* **Example.** Anything in which all possibilities are equally\n",
    "likely. This is, perhaps surprisingly, rarely encountered.\n",
    "\n",
    "* **Parameters.** The Uniform distribution is not defined on an\n",
    "infinite or semi-infinite domain, so lower and upper bounds, $\\alpha$ and\n",
    "$\\beta$, respectively, are necessary parameters.\n",
    "\n",
    "* **Support.** The Uniform distribution is supported on the interval $[\\alpha, \\beta]$.\n",
    "\n",
    "* **Probability density function.**\n",
    "\n",
    "\\begin{align}\n",
    "f(y;\\alpha, \\beta) = \\left\\{ \\begin{array}{ccc}\n",
    "\\frac{1}{\\beta - \\alpha} & & \\alpha \\le y \\le \\beta \\\\[0.5em]\n",
    "0 & & \\text{otherwise.}\n",
    "\\end{array}\n",
    "\\right.\n",
    "\\end{align}\n",
    "\n",
    "* **Usage**\n",
    "\n",
    "| Package        | Syntax           |\n",
    "|: -------------: | :------------- |\n",
    "|**NumPy** | `np.random.uniform(alpha, beta)` |\n",
    "|**SciPy** | `scipy.stats.uniform(alpha, beta)` |\n",
    "|**Stan** | `uniform(alpha, beta)` |\n",
    "\n",
    "\n",
    "\n",
    "* **Related distributions.** \n",
    "    - The Uniform distribution on the interval [0, 1] (i.e., $\\alpha=0$ and $\\beta=1$) is a special case of the [Beta distribution](#Beta-distribution) where the parameters for the Beta distribution are $\\alpha=\\beta=1$ (not to be confused with the $\\alpha$ and $\\beta$ used to parametrize the Uniform distribution)."
   ]
  },
  {
   "cell_type": "code",
   "execution_count": 15,
   "metadata": {},
   "outputs": [
    {
     "data": {
      "application/vnd.bokehjs_exec.v0+json": "",
      "text/html": [
       "\n",
       "<script src=\"http://localhost:59723/autoload.js?bokeh-autoload-element=1319&bokeh-absolute-url=http://localhost:59723&resources=none\" id=\"1319\"></script>"
      ]
     },
     "metadata": {
      "application/vnd.bokehjs_exec.v0+json": {
       "server_id": "8ec41c6a686e40be97e1ac753554c277"
      }
     },
     "output_type": "display_data"
    }
   ],
   "source": [
    "params = [dict(name='α', start=-2, end=3, value=0, step=0.01),\n",
    "          dict(name='β', start=-2, end=3, value=1, step=0.01)]\n",
    "app = distribution_plot_app(x_min=-2,\n",
    "                            x_max=3,\n",
    "                            scipy_dist=st.uniform,\n",
    "                            params=params,\n",
    "                            transform=lambda a, b: (a, b-a),\n",
    "                            title='Uniform')\n",
    "bokeh.io.show(app, notebook_url=notebook_url)"
   ]
  },
  {
   "cell_type": "markdown",
   "metadata": {},
   "source": [
    "### Gaussian, a.k.a. Normal, distribution\n",
    "\n",
    "* **Story.** Any quantity that emerges as the sum of a large number of\n",
    "subprocesses tends to be Gaussian distributed provided none of the\n",
    "subprocesses is very broadly distributed.\n",
    "\n",
    "* **Example.** We measure the length of many *C. elegans*\n",
    "eggs.  The lengths are Gaussian distributed. Many biological measurements, like the height of people, are (approximately) Gaussian distributed. Many processes contribute to setting the length of an egg or the height of a person.\n",
    "\n",
    "* **Parameters.** The Gaussian distribution has two parameters,\n",
    "the mean $\\mu$, which determines the location of its peak, and the\n",
    "standard deviation $\\sigma$, which is strictly positive (the\n",
    "$\\sigma\\to 0$ limit defines a Dirac delta function) and determines the\n",
    "width of the peak.\n",
    "\n",
    "* **Support.** The Gaussian distribution is supported on the set of real numbers.\n",
    "\n",
    "* **Probability density function.**\n",
    "\n",
    "\\begin{align}\n",
    "f(y;\\mu, \\sigma) = \\frac{1}{\\sqrt{2\\pi \\sigma^2}}\\,\\mathrm{e}^{-(y-\\mu)^2/2\\sigma^2}.\n",
    "\\end{align}\n",
    "\n",
    "* **Usage**\n",
    "\n",
    "| Package        | Syntax           |\n",
    "|: -------------: | :------------- |\n",
    "|**NumPy** | `np.random.normal(mu, sigma)` |\n",
    "|**SciPy** | `scipy.stats.norm(mu, sigma)` |\n",
    "|**Stan** | `normal(mu, sigma)` |\n",
    "\n",
    "* **Related distributions.** The Gaussian distribution is a limiting distribution in the sense of the\n",
    "central limit theorem, but also in that many distributions have a\n",
    "Gaussian distribution as a limit.  This is seen by formally taking\n",
    "limits of, e.g., the Gamma, Student-t, Binomial distributions, which\n",
    "allows direct comparison of parameters.\n",
    "\n",
    "* **Notes.** \n",
    "    - SciPy, NumPy, and Stan all refer to the Gaussian distribution as the Normal distribution."
   ]
  },
  {
   "cell_type": "code",
   "execution_count": 16,
   "metadata": {},
   "outputs": [
    {
     "data": {
      "application/vnd.bokehjs_exec.v0+json": "",
      "text/html": [
       "\n",
       "<script src=\"http://localhost:59724/autoload.js?bokeh-autoload-element=1320&bokeh-absolute-url=http://localhost:59724&resources=none\" id=\"1320\"></script>"
      ]
     },
     "metadata": {
      "application/vnd.bokehjs_exec.v0+json": {
       "server_id": "122ee4f1863c46b8ae1d3e992be717bc"
      }
     },
     "output_type": "display_data"
    }
   ],
   "source": [
    "params = [dict(name='µ', start=-0.5, end=0.5, value=0, step=0.01),\n",
    "          dict(name='σ', start=0.1, end=1.0, value=0.2, step=0.01)]\n",
    "app = distribution_plot_app(x_min=-2,\n",
    "                            x_max=2,\n",
    "                            scipy_dist=st.norm,\n",
    "                            params=params, \n",
    "                            x_axis_label='y',\n",
    "                            title='Gaussian, a.k.a. Normal')\n",
    "bokeh.io.show(app, notebook_url=notebook_url)"
   ]
  },
  {
   "cell_type": "markdown",
   "metadata": {},
   "source": [
    "### Half-Normal distribution\n",
    "\n",
    "* **Story.** The Half-Normal distribution is a [Gaussian distribution](#Gaussian-distribution) with zero mean truncated to only have nonzero probability for positive real numbers.\n",
    "\n",
    "* **Parameters.** Strictly speaking, the Half-Normal is parametrized by a single positive parameter $\\sigma$. We could, however, translate it so that the truncated Gaussian has a maximum at $\\mu$ and only values greater than or equal to $\\mu$ have nonzero probability.\n",
    "\n",
    "* **Probability density function.**\n",
    "\n",
    "\\begin{align}\n",
    "f(y;\\mu, \\sigma) = \\left\\{\\begin{array}{ccc}\n",
    "\\frac{2}{\\sqrt{2\\pi \\sigma^2}}\\,\\mathrm{e}^{-(y-\\mu)^2/2\\sigma^2} & & y \\ge \\mu\\\\\n",
    "0 && \\text{otherwise.}\n",
    "\\end{array}\\right.\n",
    "\\end{align}\n",
    "\n",
    "* **Support.** The Half-Normal distribution is supported on the set $[\\mu, \\infty)$. Usually, we have $\\mu = 0$, in which case the Half-Normal distribution is supported on the set of nonnegative real numbers.\n",
    "\n",
    "* **Usage**\n",
    "\n",
    "| Package        | Syntax           |\n",
    "|: -------------: | :------------- |\n",
    "|**NumPy** | `mu + np.abs(np.random.normal(0, sigma))` |\n",
    "|**SciPy** | `scipy.stats.halfnorm(mu, sigma)` |\n",
    "|**Stan sampling** | `real<lower=mu> y; y ~ normal(mu, sigma)` |\n",
    "|**Stan rng** | `real<lower=mu> y; y = mu + abs(normal_rng(0, sigma))` |\n",
    "\n",
    "\n",
    "\n",
    "* **Notes.** \n",
    "    - In Stan, a Half-Normal is defined by putting bounds on the variable and then using a Normal distribution.\n",
    "    - The Half-Normal distibution is a useful prior for nonnegative parameters that should not be too large and may be very close to zero."
   ]
  },
  {
   "cell_type": "code",
   "execution_count": 17,
   "metadata": {},
   "outputs": [
    {
     "data": {
      "application/vnd.bokehjs_exec.v0+json": "",
      "text/html": [
       "\n",
       "<script src=\"http://localhost:59725/autoload.js?bokeh-autoload-element=1321&bokeh-absolute-url=http://localhost:59725&resources=none\" id=\"1321\"></script>"
      ]
     },
     "metadata": {
      "application/vnd.bokehjs_exec.v0+json": {
       "server_id": "7c4bc4502b604a8abb42194a095adc5a"
      }
     },
     "output_type": "display_data"
    }
   ],
   "source": [
    "params = [dict(name='µ', start=-0.5, end=0.5, value=0, step=0.01),\n",
    "          dict(name='σ', start=0.1, end=1.0, value=0.2, step=0.01)]\n",
    "app = distribution_plot_app(x_min=-0.5,\n",
    "                            x_max=2,\n",
    "                            scipy_dist=st.halfnorm,\n",
    "                            params=params, \n",
    "                            x_axis_label='y',\n",
    "                            title='Half-Normal')\n",
    "bokeh.io.show(app, notebook_url=notebook_url)"
   ]
  },
  {
   "cell_type": "markdown",
   "metadata": {},
   "source": [
    "### Log-Normal distribution\n",
    "\n",
    "* **Story.** If $\\ln y$ is Gaussian distributed, $y$ is\n",
    "Log-Normally distributed.\n",
    "\n",
    "* **Example.** A measure of fold change in gene expression can\n",
    "be Log-Normally distributed.\n",
    "\n",
    "* **Parameters.** As for a Gaussian, there are two parameters,\n",
    "the mean, $\\mu$, and the variance $\\sigma^2$. Note that $\\mu$ is the mean of $\\ln y$, not of $y$ itself. That is, $\\langle \\ln y \\rangle_\\text{LogNorm} = \\mu$. Similarly, $\\sigma^2$ is the variance in $\\ln y$, i.e, $\\langle (\\ln y -\\mu)^2\\rangle_\\text{LogNorm} = \\sigma^2$.\n",
    "\n",
    "* **Support.** The Log-Normal distribution is supported on the set of positive real numbers.\n",
    "\n",
    "* **Probability density function.**\n",
    "\n",
    "\\begin{align}\n",
    "f(y;\\mu, \\sigma) = \\frac{1}{y\\sqrt{2\\pi \\sigma^2}}\\,\\mathrm{e}^{-(\\ln y - \\mu)^2/2\\sigma^2}.\n",
    "\\end{align}\n",
    "\n",
    "* **Usage**\n",
    "\n",
    "| Package        | Syntax           |\n",
    "|: -------------: | :------------- |\n",
    "|**NumPy** | `np.random.lognormal(mu, sigma)` |\n",
    "|**SciPy** | `scipy.stats.lognorm(sigma, loc=0, scale=np.exp(mu))` |\n",
    "|**Stan** | `lognormal(mu, sigma)` |\n",
    "\n",
    "* **Notes.** \n",
    "    - Be careful not to get confused. The Log-Normal distribution describes the distribution of $y$ given that $\\ln y$ is Gaussian distributed. It does not describe the distribution of $\\ln y$.\n",
    "    - The way location, scale, and shape parameters work in SciPy for the Log-Normal distribution is confusing. If you want to specify a Log-Normal distribution as we have defined it using `scipy.stats`, use a shape parameter equal to $\\sigma$, a location parameter of zero, and a scale parameter given by $\\mathrm{e}^\\mu$. For example, to compute the PDF, you would use `scipy.stats.lognorm.pdf(x, sigma, loc=0, scale=np.exp(mu))`.\n",
    "    - The definition of the Log_Normal in the `numpy.random` module matches what we have defined above and what is defined in Stan."
   ]
  },
  {
   "cell_type": "code",
   "execution_count": 18,
   "metadata": {},
   "outputs": [
    {
     "data": {
      "application/vnd.bokehjs_exec.v0+json": "",
      "text/html": [
       "\n",
       "<script src=\"http://localhost:59726/autoload.js?bokeh-autoload-element=1322&bokeh-absolute-url=http://localhost:59726&resources=none\" id=\"1322\"></script>"
      ]
     },
     "metadata": {
      "application/vnd.bokehjs_exec.v0+json": {
       "server_id": "3ed0b84ff0fe42a3ac2ea30edb8ea116"
      }
     },
     "output_type": "display_data"
    }
   ],
   "source": [
    "params = [dict(name='µ', start=0.01, end=0.5, value=0.1, step=0.01),\n",
    "          dict(name='σ', start=0.1, end=1.0, value=0.2, step=0.01)]\n",
    "app = distribution_plot_app(x_min=0,\n",
    "                            x_max=4,\n",
    "                            scipy_dist=st.lognorm,\n",
    "                            params=params, \n",
    "                            transform=lambda mu, sigma: (sigma, 0, np.exp(mu)),\n",
    "                            x_axis_label='y',\n",
    "                            title='Log-Normal')\n",
    "\n",
    "bokeh.io.show(app, notebook_url=notebook_url)"
   ]
  },
  {
   "cell_type": "markdown",
   "metadata": {},
   "source": [
    "### Chi-square distribution\n",
    "\n",
    "* **Story.** If $X_1$,\n",
    "$X_2$, $\\ldots$, $X_n$ are Gaussian distributed,\n",
    "$X_1^2 + X_2^2 + \\cdots + X_n^2$ is $\\chi^2$-distributed. See also the story of the [Gamma distribution](#Gamma-distribution), below.\n",
    "\n",
    "* **Example.** The sample variance of $\\nu-1$ independent and identically distributed Gaussian random variables, after scaling, is Chi-square distributed. This is the most common use case of the Chi-square distribution.\n",
    "\n",
    "* **Parameters.** There is only one parameter, the degrees of freedom $\\nu$.\n",
    "\n",
    "* **Support.** The Chi-square distribution is supported on the positive real numbers.\n",
    "\n",
    "* **Probability density function.**\n",
    "\\begin{align}\n",
    "  f(y;\\nu) \\equiv \\chi^2_n(x;\\nu) = \\frac{1}{2^{\\nu/2}\\,\\Gamma\\left(\\frac{\\nu}{2}\\right)}\\,\n",
    "x^{\\frac{\\nu}{2}-1}\\,\\mathrm{e}^{-y/2}.\n",
    "\\end{align}\n",
    "\n",
    "* **Usage**\n",
    "\n",
    "| Package        | Syntax           |\n",
    "|: -------------: | :------------- |\n",
    "|**NumPy** | `np.random.chisquare(nu)` |\n",
    "|**SciPy** | `scipy.stats.chi2(nu)` |\n",
    "|**Stan** | `chi_square(nu)` |\n",
    "\n",
    "\n",
    "* **Related distributions.** The Chi-square distribution is a special case of the [Gamma distribution](#Gamma-distribution) with $\\alpha = \\nu/2$ and $\\beta = 1/2$."
   ]
  },
  {
   "cell_type": "code",
   "execution_count": 19,
   "metadata": {},
   "outputs": [
    {
     "data": {
      "application/vnd.bokehjs_exec.v0+json": "",
      "text/html": [
       "\n",
       "<script src=\"http://localhost:59727/autoload.js?bokeh-autoload-element=1323&bokeh-absolute-url=http://localhost:59727&resources=none\" id=\"1323\"></script>"
      ]
     },
     "metadata": {
      "application/vnd.bokehjs_exec.v0+json": {
       "server_id": "a765e4458a044c98acfeb68aa180408d"
      }
     },
     "output_type": "display_data"
    }
   ],
   "source": [
    "params = [dict(name='ν', start=1, end=20, value=10, step=0.01)]\n",
    "app = distribution_plot_app(x_min=0,\n",
    "                            x_max=40,\n",
    "                            scipy_dist=st.chi2,\n",
    "                            params=params, \n",
    "                            x_axis_label='y',\n",
    "                            title='Chi-square')\n",
    "bokeh.io.show(app, notebook_url=notebook_url)"
   ]
  },
  {
   "cell_type": "markdown",
   "metadata": {},
   "source": [
    "### Student-t distribution\n",
    "\n",
    "* **Story.** The story of the Student-t distribution largely derives from its relationships with other distributions. One way to think about it is as a Gaussian-like distribution with heavier tails.\n",
    "\n",
    "* **Parameters.** The Student-t distribution is peaked, and its peak is located at $\\mu$.  The peak's width is dictated by parameter $\\sigma$. Finally, we define the \"degrees of freedom\" as $\\nu$. This last parameter imparts the distribution with heavy tails.\n",
    "\n",
    "* **Support.** The Student-t distribution is supported on the set of real numbers.\n",
    "\n",
    "* **Probability density function.**\n",
    "\n",
    "\\begin{align}\n",
    "f(y;\\mu, \\sigma, \\nu) = \\frac{\\Gamma\\left(\\frac{\\nu+1}{2}\\right)}{\\Gamma\\left(\\frac{\\nu}{2}\\right)\\sqrt{\\pi \\nu \\sigma^2}}\\,\n",
    "\\left(1 + \\frac{(y-\\mu)^2}{\\nu\\sigma^2}\\right)^{-\\frac{\\nu+1}{2}}.\n",
    "\\end{align}\n",
    "\n",
    "* **Usage**\n",
    "\n",
    "| Package        | Syntax           |\n",
    "|: -------------: | :------------- |\n",
    "|**NumPy** | `mu + sigma * np.random.standard_t(nu)` |\n",
    "|**SciPy** | `scipy.stats.t(nu, mu, sigma)` |\n",
    "|**Stan** | `student_t(nu, mu, sigma)` |\n",
    "\n",
    "\n",
    "\n",
    "* **Related distributions.**\n",
    "    - In the $\\nu\\to \\infty$ limit, the Student-t distribution becomes as [Gaussian distribution](#Gaussian-distribution).\n",
    "    - The [Cauchy distibution](#Cauchy-distribution) is a special case of the Student-t distribution in which $\\nu = 1$.\n",
    "    - Only the standard Student-t distribution ($\\mu=0$ and $\\sigma = 1$) is available in the `numpy.random` module. You can still draw out of the Student-t distribution by performing a transformation on the samples out of the standard Student-t distribution, as shown in the usage, above.\n",
    "    - We get this distribution whenever we marginalize an unknown $\\sigma$ out of a Gaussian distribution with an improper prior on $\\sigma$ of $1/\\sigma$."
   ]
  },
  {
   "cell_type": "code",
   "execution_count": 20,
   "metadata": {},
   "outputs": [
    {
     "data": {
      "application/vnd.bokehjs_exec.v0+json": "",
      "text/html": [
       "\n",
       "<script src=\"http://localhost:59728/autoload.js?bokeh-autoload-element=1324&bokeh-absolute-url=http://localhost:59728&resources=none\" id=\"1324\"></script>"
      ]
     },
     "metadata": {
      "application/vnd.bokehjs_exec.v0+json": {
       "server_id": "02533a87337a4cada4edecfb9b1f91e4"
      }
     },
     "output_type": "display_data"
    }
   ],
   "source": [
    "params = [dict(name='ν', start=1, end=50, value=10, step=0.01),\n",
    "          dict(name='µ', start=-0.5, end=0.5, value=0, step=0.01),\n",
    "          dict(name='σ', start=0.1, end=1.0, value=0.2, step=0.01)]\n",
    "app = distribution_plot_app(x_min=-2,\n",
    "                            x_max=2,\n",
    "                            scipy_dist=st.t,\n",
    "                            params=params,  \n",
    "                            x_axis_label='y',\n",
    "                            title='Student-t')\n",
    "bokeh.io.show(app, notebook_url=notebook_url)"
   ]
  },
  {
   "cell_type": "markdown",
   "metadata": {},
   "source": [
    "### Cauchy distribution\n",
    "\n",
    "* **Story.** The intercept on the *x*-axis of a beam of light coming from the point $(\\mu, \\sigma)$ is Cauchy distributed. This story is popular in physics (and is one of the first examples of Bayesian inference in [Sivia's book](https://global.oup.com/academic/product/data-analysis-9780198568322)), but is not particularly useful. You can think of it as a peaked distribution with enormously heavy tails.\n",
    "\n",
    "* **Parameters.** The Cauchy distribution is peaked, and its peak is located at $\\mu$.  The peak's width is dictated by parameter $\\sigma$.\n",
    "\n",
    "* **Support.** The Cauchy distribution is supported on the set of real numbers.\n",
    "\n",
    "* **Probability density function.**\n",
    "\n",
    "\\begin{align}\n",
    "f(y;\\mu, \\sigma) = \\frac{1}{\\pi \\sigma}\\,\n",
    "\\frac{1}{1 + (y-\\mu)^2/\\sigma^2}.\n",
    "\\end{align}\n",
    "\n",
    "* **Usage**\n",
    "\n",
    "| Package        | Syntax           |\n",
    "|: -------------: | :------------- |\n",
    "|**NumPy** | `mu + sigma * np.random.standard_cauchy()` |\n",
    "|**SciPy** | `scipy.stats.cauchy(mu, sigma)` |\n",
    "|**Stan** | `cauchy(mu, sigma)` |\n",
    "\n",
    "* **Related distributions.**\n",
    "    - The Cauchy distribution is a special case of the [Student-t distribution](Student-t-distribution) in which the degrees of freedom *ν* = 1.\n",
    "    - The `numpy.random` module only has the Standard Cauchy distribution ($\\mu = 0$ and $\\sigma = 1$), but you can draw out of a Cauchy distribution using the transformation shown in the NumPy usage above."
   ]
  },
  {
   "cell_type": "code",
   "execution_count": 21,
   "metadata": {},
   "outputs": [
    {
     "data": {
      "application/vnd.bokehjs_exec.v0+json": "",
      "text/html": [
       "\n",
       "<script src=\"http://localhost:59729/autoload.js?bokeh-autoload-element=1325&bokeh-absolute-url=http://localhost:59729&resources=none\" id=\"1325\"></script>"
      ]
     },
     "metadata": {
      "application/vnd.bokehjs_exec.v0+json": {
       "server_id": "9ad362d3216247b59e4e857b66def509"
      }
     },
     "output_type": "display_data"
    }
   ],
   "source": [
    "params = [dict(name='µ', start=-0.5, end=0.5, value=0, step=0.01),\n",
    "          dict(name='σ', start=0.1, end=1.0, value=0.2, step=0.01)]\n",
    "app = distribution_plot_app(x_min=-2,\n",
    "                            x_max=2,\n",
    "                            scipy_dist=st.cauchy,\n",
    "                            params=params,  \n",
    "                            x_axis_label='y',\n",
    "                            title='Cauchy')\n",
    "bokeh.io.show(app, notebook_url=notebook_url)"
   ]
  },
  {
   "cell_type": "markdown",
   "metadata": {},
   "source": [
    "### Exponential distribution\n",
    "\n",
    "* **Story.** This is the waiting time for an arrival from a\n",
    "Poisson process.  I.e., the inter-arrival time of a Poisson process is\n",
    "Exponentially distributed.\n",
    "\n",
    "* **Example.** The time between conformational switches in a\n",
    "protein is Exponentially distributed (under simple mass action\n",
    "kinetics).\n",
    "\n",
    "* **Parameter.** The single parameter is the average arrival\n",
    "*rate*, $\\beta$. Alternatively, we can use $\\tau=1/\\beta$ as the parameter, in this case a characteristic arrival *time*.\n",
    "\n",
    "* **Support.** The Exponential distribution is supported on the set of nonnegative real numbers.\n",
    "\n",
    "* **Probability density function.**\n",
    "\\begin{align}\n",
    "f(y;\\beta) = \\beta\\, \\mathrm{e}^{-\\beta y}.\n",
    "\\end{align}\n",
    "\n",
    "\n",
    "* **Related distributions.**\n",
    "    - The Exponential distribution is the continuous analog of the [Geometric distribution](#Geometric-distribution).  The \"rate\" in the Exponential distribution is analogous to the probability of success of the Bernoulli trial. Note also that because they are uncorrelated, the amount of time between any two arrivals is independent of all other inter-arrival times.\n",
    "    - The Exponential distribution is a special case of the [Gamma distribution](#Gamma-distribution) with parameter $\\alpha = 1$.\n",
    "    \n",
    "* **Usage**\n",
    "\n",
    "| Package        | Syntax           |\n",
    "|: -------------: | :------------- |\n",
    "|**NumPy** | `np.random.exponential(1/beta)` |\n",
    "|**SciPy** | `scipy.stats.expon(loc=0, scale=1/beta)` |\n",
    "|**Stan** | `exponential(beta)` |\n",
    "\n",
    "* **Notes.** \n",
    "    - Alternatively, we could parametrize the Exponential distribution in terms of an average time between arrivals of a Poisson process, $\\tau$, as\n",
    "    \\begin{align}\n",
    "    \\\\\\phantom{blah}\n",
    "    f(y;\\tau) = \\frac{1}{\\tau}\\, \\mathrm{e}^{-y/\\tau}.\n",
    "    \\\\\\phantom{blah}\n",
    "    \\end{align}\n",
    "    - The implementation in the `scipy.stats` module also has a location parameter, which shifts the distribution left and right. For our purposes, you can ignore that parameter, but be aware that `scipy.stats` requires it. The `scipy.stats` Exponential distribution is parametrized in terms of the interarrival time, $\\tau$, and not $\\beta$.\n",
    "    - The `numpy.random.exponential()` function does not need nor accept a location parameter.  It is also parametrized in terms of $\\tau$."
   ]
  },
  {
   "cell_type": "code",
   "execution_count": 22,
   "metadata": {},
   "outputs": [
    {
     "data": {
      "application/vnd.bokehjs_exec.v0+json": "",
      "text/html": [
       "\n",
       "<script src=\"http://localhost:59730/autoload.js?bokeh-autoload-element=1326&bokeh-absolute-url=http://localhost:59730&resources=none\" id=\"1326\"></script>"
      ]
     },
     "metadata": {
      "application/vnd.bokehjs_exec.v0+json": {
       "server_id": "89f923d1b2ed41d4b20eb8581a514af5"
      }
     },
     "output_type": "display_data"
    }
   ],
   "source": [
    "params = [dict(name='β', start=0.1, end=1, value=0.25, step=0.01)]\n",
    "app = distribution_plot_app(0,\n",
    "                            30,\n",
    "                            st.expon,\n",
    "                            params=params,\n",
    "                            transform=lambda x: (0, 1/x), \n",
    "                            x_axis_label='y',\n",
    "                            title='Exponential')\n",
    "bokeh.io.show(app, notebook_url=notebook_url)"
   ]
  },
  {
   "cell_type": "markdown",
   "metadata": {},
   "source": [
    "### Gamma distribution\n",
    "\n",
    "* **Story.** The amount of time we have to wait for $\\alpha$ arrivals\n",
    "of a Poisson process. More concretely, if we have events, $X_1$,\n",
    "$X_2$, $\\ldots$, $X_\\alpha$ that are exponentially distributed,\n",
    "$X_1 + X_2 + \\cdots + X_\\alpha$ is Gamma distributed.\n",
    "\n",
    "* **Example.** Any multistep process where each step happens at\n",
    "the same rate.  This is common in molecular rearrangements.\n",
    "\n",
    "* **Parameters.** The number of arrivals, $\\alpha$, and the rate of\n",
    "arrivals, $\\beta$.\n",
    "\n",
    "* **Support.** The Gamma distribution is supported on the set of positive real numbers.\n",
    "\n",
    "* **Probability density function.**\n",
    "\n",
    "\\begin{align}\n",
    "f(y;\\alpha, \\beta) = \\frac{1}{\\Gamma(\\alpha)}\\,\\frac{(\\beta y)^\\alpha}{y}\\,\\mathrm{e}^{-\\beta y}.\n",
    "\\end{align}\n",
    "\n",
    "\n",
    "* **Related distributions.** \n",
    "    - The Gamma distribution is the continuous\n",
    "analog of the [Negative Binomial distribution](#Negative-Binomial-distribution).\n",
    "    - The special case where $\\alpha=1$ is an [Exponential distribution](#Exponential-distribution).\n",
    "    - The special case where $\\alpha = \\nu/2$ and $\\beta = 1/2$ is a [Chi-square distribution](#Chi-square-distribution) parametrized by $\\nu$.\n",
    "    \n",
    "* **Usage**\n",
    "\n",
    "| Package        | Syntax           |\n",
    "|: -------------: | :------------- |\n",
    "|**NumPy** | `np.random.gamma(alpha, 1/beta)` |\n",
    "|**SciPy** | `scipy.stats.gamma(alpha, loc=0, scale=1/beta)` |\n",
    "|**Stan** | `gamma(alpha, beta)` |\n",
    "\n",
    "\n",
    "* **Notes.**\n",
    "    - The Gamma distribution is useful as a prior for positive parameters. It imparts a heavier tail than the [Half-Normal distribution](#Half-Normal-distribution) (but not too heavy; it keeps parameters from growing too large), and allows the parameter value to come close to zero.\n",
    "    - SciPy has a location parameter, which should be set to zero, with $\\beta$ being the scale parameter."
   ]
  },
  {
   "cell_type": "code",
   "execution_count": 23,
   "metadata": {},
   "outputs": [
    {
     "data": {
      "application/vnd.bokehjs_exec.v0+json": "",
      "text/html": [
       "\n",
       "<script src=\"http://localhost:59731/autoload.js?bokeh-autoload-element=1327&bokeh-absolute-url=http://localhost:59731&resources=none\" id=\"1327\"></script>"
      ]
     },
     "metadata": {
      "application/vnd.bokehjs_exec.v0+json": {
       "server_id": "8aa7244328d04b168a5884867cd5c6a4"
      }
     },
     "output_type": "display_data"
    }
   ],
   "source": [
    "params = [dict(name='α', start=1, end=5, value=2, step=0.01),\n",
    "          dict(name='β', start=0.1, end=5, value=2, step=0.01)]\n",
    "app = distribution_plot_app(x_min=0,\n",
    "                            x_max=10,\n",
    "                            scipy_dist=st.gamma,\n",
    "                            params=params,\n",
    "                            transform=lambda a, b: (a, 0, 1/b),\n",
    "                            x_axis_label='y',\n",
    "                            title='Gamma')\n",
    "bokeh.io.show(app, notebook_url=notebook_url)"
   ]
  },
  {
   "cell_type": "markdown",
   "metadata": {},
   "source": [
    "### Inverse Gamma distribution\n",
    "\n",
    "* **Story.** If $x$ is [Gamma distributed](#Gamma-distribution), then $1/x$ is Inverse Gamma distributed.\n",
    "\n",
    "* **Parameters.** The number of arrivals, $\\alpha$, and the rate of\n",
    "arrivals, $\\beta$.\n",
    "\n",
    "* **Support.** The Inverse Gamma distribution is supported on the set of positive real numbers.\n",
    "\n",
    "* **Probability density function.**\n",
    "\n",
    "\\begin{align}\n",
    "f(y;\\alpha, \\beta) = \\frac{1}{\\Gamma(\\alpha)}\\,\\frac{\\beta^\\alpha}{y^{(\\alpha+1)}}\\,\\mathrm{e}^{-\\beta/ y}.\n",
    "\\end{align}\n",
    "\n",
    "* **Usage**\n",
    "\n",
    "| Package        | Syntax           |\n",
    "|: -------------: | :------------- |\n",
    "|**NumPy** | `1 / np.random.gamma(alpha, 1/beta)` |\n",
    "|**SciPy** | `scipy.stats.invgamma(alpha, loc=0, scale=beta)` |\n",
    "|**Stan** | `inv_gamma(alpha, beta)` |\n",
    "\n",
    "\n",
    "* **Notes.**\n",
    "    - The Inverse Gamma distribution is useful as a prior for positive parmeters. It imparts a quite heavy tail and keeps probability further from zero than the [Gamma distribution](#Gamma-distribution).\n",
    "    - The `numpy.random` module does not have a function to sample directly from the Inverse Gamma distribution, but it can be achieved by sampling out of a Gamma distribution as shown in the NumPy usage above."
   ]
  },
  {
   "cell_type": "code",
   "execution_count": 24,
   "metadata": {},
   "outputs": [
    {
     "data": {
      "application/vnd.bokehjs_exec.v0+json": "",
      "text/html": [
       "\n",
       "<script src=\"http://localhost:59732/autoload.js?bokeh-autoload-element=1328&bokeh-absolute-url=http://localhost:59732&resources=none\" id=\"1328\"></script>"
      ]
     },
     "metadata": {
      "application/vnd.bokehjs_exec.v0+json": {
       "server_id": "0418a0dc324b4f56ad1433a16be394e4"
      }
     },
     "output_type": "display_data"
    }
   ],
   "source": [
    "params = [dict(name='α', start=0.01, end=2, value=0.5, step=0.01),\n",
    "          dict(name='β', start=0.1, end=2, value=1, step=0.01)]\n",
    "app = distribution_plot_app(x_min=0,\n",
    "                            x_max=20,\n",
    "                            scipy_dist=st.invgamma,\n",
    "                            params=params, \n",
    "                            transform=lambda alpha, beta: (alpha, 0, beta),\n",
    "                            x_axis_label='y',\n",
    "                            title='Inverse Gamma')\n",
    "\n",
    "bokeh.io.show(app, notebook_url=notebook_url)"
   ]
  },
  {
   "cell_type": "markdown",
   "metadata": {},
   "source": [
    "### Weibull distribution\n",
    "\n",
    "* **Story.** Distribution of $x = y^\\alpha$ if $y$ is\n",
    "exponentially distributed.  For $\\alpha > 1$, the longer we have\n",
    "waited, the more likely the event is to come, and vice versa for\n",
    "$\\alpha < 1$.\n",
    "\n",
    "* **Example.** This is a model for aging.  The longer an\n",
    "organism lives, the more likely it is to die.\n",
    "\n",
    "* **Parameters.** There are two parameters, both strictly\n",
    "positive: the shape parameter $\\alpha$, which dictates the shape of the\n",
    "curve, and the scale parameter $\\sigma$, which dictates the rate of\n",
    "arrivals of the event.\n",
    "\n",
    "* **Support.**\n",
    "The Weibull distribution has support on the positive real numbers.\n",
    "\n",
    "* **Probability density function.**\n",
    "\n",
    "\\begin{align}\n",
    "f(y;\\alpha, \\sigma) = \\frac{\\alpha}{\\sigma}\\left(\\frac{y}{\\sigma}\\right)^{\\alpha - 1}\\,\n",
    "\\mathrm{e}^{-(y/\\sigma)^\\alpha}.\n",
    "\\end{align}\n",
    "\n",
    "* **Usage**\n",
    "\n",
    "| Package        | Syntax           |\n",
    "|: -------------: | :------------- |\n",
    "|**NumPy** | `np.random.weibull(alpha) * sigma` |\n",
    "|**SciPy** | `scipy.stats.weibull_min(alpha, loc=0, scale=sigma)` |\n",
    "|**Stan** | `weibull(alpha, sigma)` |\n",
    "\n",
    "* **Related distributions.**\n",
    "    - The special case where $\\alpha = 1$ is the [Exponential distribution](#Exponential-distribution) with parameter $\\beta = 1/\\sigma$.\n",
    "    \n",
    "* **Notes.**\n",
    "    - SciPy has a location parameter, which should be set to zero, with $\\sigma$ being the scale parameter.\n",
    "    - NumPy only provides a version of the Weibull distribution with $\\sigma = 1$. Sampling out of the Weibull distribution may be accomplished by multiplying the resulting samples by $\\sigma$."
   ]
  },
  {
   "cell_type": "code",
   "execution_count": 7,
   "metadata": {
    "scrolled": true
   },
   "outputs": [
    {
     "data": {
      "application/vnd.bokehjs_exec.v0+json": "",
      "text/html": [
       "\n",
       "<script src=\"http://localhost:53983/autoload.js?bokeh-autoload-element=1310&bokeh-absolute-url=http://localhost:53983&resources=none\" id=\"1310\"></script>"
      ]
     },
     "metadata": {
      "application/vnd.bokehjs_exec.v0+json": {
       "server_id": "25eebbbf67004e6a9f30306e498355e0"
      }
     },
     "output_type": "display_data"
    },
    {
     "name": "stderr",
     "output_type": "stream",
     "text": [
      "/Users/bois/anaconda3/lib/python3.7/site-packages/scipy/stats/_continuous_distns.py:1733: RuntimeWarning: divide by zero encountered in power\n",
      "  return c*pow(x, c-1)*np.exp(-pow(x, c))\n"
     ]
    }
   ],
   "source": [
    "params = [dict(name='α', start=0.1, end=5, value=1, step=0.01),\n",
    "          dict(name='σ', start=0.1, end=3, value=1.5, step=0.01)]\n",
    "app = distribution_plot_app(x_min=0,\n",
    "                            x_max=8,\n",
    "                            scipy_dist=st.weibull_min,\n",
    "                            params=params,\n",
    "                            transform=lambda a, s: (a, 0, s),\n",
    "                            x_axis_label='y',\n",
    "                            title='Weibull')\n",
    "bokeh.io.show(app, notebook_url=notebook_url)"
   ]
  },
  {
   "cell_type": "markdown",
   "metadata": {},
   "source": [
    "### Beta distribution\n",
    "\n",
    "* **Story.** Say you wait for two multistep Poisson processes to happen. The individual steps of each process happen at the same rate, but the first multistep process requires $\\alpha$ steps and the second requires $\\beta$ steps. The fraction of the total waiting time taken by the first process is Beta distributed.\n",
    "\n",
    "* **Parameters.** There are two parameters, both strictly\n",
    "positive: $\\alpha$ and $\\beta$, defined in the above story.\n",
    "\n",
    "* **Support.**\n",
    "The Beta distribution has support on the interval [0, 1].\n",
    "\n",
    "* **Probability density function.**\n",
    "\\begin{align}\n",
    "f(\\theta;\\alpha, \\beta) = \\frac{\\theta^{\\alpha-1}(1-\\theta)^{\\beta-1}}{B(\\alpha,\\beta)},\n",
    "\\end{align}\n",
    "where\n",
    "\\begin{align}\n",
    "B(\\alpha,\\beta) = \\frac{\\Gamma(\\alpha)\\,\\Gamma(\\beta)}{\\Gamma(\\alpha + \\beta)}\n",
    "\\end{align}\n",
    "is the Beta function.\n",
    "\n",
    "* **Usage**\n",
    "\n",
    "| Package        | Syntax           |\n",
    "|: -------------: | :------------- |\n",
    "|**NumPy** | `np.random.beta(alpha, beta)` |\n",
    "|**SciPy** | `scipy.stats.beta(alpha, beta)` |\n",
    "|**Stan** | `beta(alpha, beta)` |\n",
    "\n",
    "* **Related distributions.**\n",
    "    - The [Uniform distribution](#Uniform-distribution) on the interval [0, 1] is a special case of the Beta distribution with $\\alpha=\\beta=1$.\n",
    "    - The Beta distribution is a special case of the [Dirichlet distribution](#Dirichlet-distribution) with $K=2$.\n",
    "\n",
    "* **Notes.** \n",
    "    - The story of the Beta distribution is difficult to parse. Most importantly for our purposes, the Beta distribution allows us to put probabilities on unknown probabilities. It is only defined on $0\\le x\\le 1$, and $x$ here can be interpreted as a probability, say of a Bernoulli trial.\n",
    "    - The case where $\\alpha = \\beta = 0$ is not technically a probability distribution because the PDF cannot be normalized. Nonetheless, it can be used as an improper prior, and this prior is known a Haldane prior, names after biologist J. B. S. Haldane. The case where $\\alpha = \\beta = 1/2$ is sometimes called a Jeffreys prior.\n",
    "    - The Beta distribution may also be parametrized in terms of the mean $\\phi$ and concentration $\\kappa$, which are related to $\\alpha$ and $\\beta$ as\n",
    "    \\begin{align}\n",
    "    \\phi &= \\frac{\\alpha}{\\alpha + \\beta},\\\\[1em]\n",
    "    \\kappa &= \\alpha + \\beta.\\\\\n",
    "    \\end{align}\n",
    "    The mean is the mean of the distribution and $\\kappa$ is a measure of how broad it is. To convert back to an $\\alpha, \\beta$ parametrization from a $\\phi, \\kappa$ parametrization,\n",
    "    \\begin{align}\n",
    "    \\alpha &= \\phi\\kappa,\\\\[1em]\n",
    "    \\kappa &= (1-\\phi)\\kappa.\\\\\n",
    "    \\end{align}"
   ]
  },
  {
   "cell_type": "code",
   "execution_count": 26,
   "metadata": {},
   "outputs": [
    {
     "data": {
      "application/vnd.bokehjs_exec.v0+json": "",
      "text/html": [
       "\n",
       "<script src=\"http://localhost:59734/autoload.js?bokeh-autoload-element=1330&bokeh-absolute-url=http://localhost:59734&resources=none\" id=\"1330\"></script>"
      ]
     },
     "metadata": {
      "application/vnd.bokehjs_exec.v0+json": {
       "server_id": "be64cdaee1644a6c97629b9f2b6bdf63"
      }
     },
     "output_type": "display_data"
    }
   ],
   "source": [
    "params = [dict(name='α', start=0.01, end=10, value=1, step=0.01),\n",
    "          dict(name='β', start=0.01, end=10, value=1, step=0.01)]\n",
    "app = distribution_plot_app(x_min=0,\n",
    "                            x_max=1,\n",
    "                            scipy_dist=st.beta,\n",
    "                            params=params,\n",
    "                            x_axis_label='θ',\n",
    "                            title='Beta')\n",
    "bokeh.io.show(app, notebook_url=notebook_url)"
   ]
  },
  {
   "cell_type": "markdown",
   "metadata": {},
   "source": [
    "## Discrete multivariate distributions\n",
    "\n",
    "So far, we have looked a univariate distributions, but we will consider multivariate distributions in class, and you will encounter them in your research. First, we consider a discrete multivariate distribution, the Multinomial."
   ]
  },
  {
   "cell_type": "markdown",
   "metadata": {},
   "source": [
    "### Multinomial distribution\n",
    "\n",
    "* **Story.** This is a generalization of the Binomial distribution. Instead of a Bernoulli trial consisting of two outcomes, each trial has $K$ outcomes. The probability of getting $n_1$ of outcome 1, $n_2$ of outcome 2, ..., and $y_K$ of outcome $K$ out of a total of $N$ trials is Multinomially distributed.\n",
    "\n",
    "* **Example.** There are two alleles in a population, A and a. Each individual may have genotype AA, Aa, or aa. The probability distribution describing having $y_1$ AA individuals, $y_2$ Aa individuals, and $n_3$ aa individuals in a population of $N$ total individuals is Multinomially distributed.\n",
    "\n",
    "* **Parameters.** $N$, the total number of trials, and $\\boldsymbol{\\theta} = \\{\\theta_1, \\theta_2, \\ldots \\theta_k\\}$, the probabilities of each outcome. Note that $\\sum_i \\theta_i = 1$ and there is a further restriction that $\\sum_i y_i = N$.\n",
    "\n",
    "* **Support.** The _K_-nomial distribution is supported on $\\mathbb{N}^K$.\n",
    "\n",
    "* **Usage**\n",
    "The usage below assumes that `theta` is a length _K_ array.\n",
    "\n",
    "| Package        | Syntax           |\n",
    "|: -------------: | :------------- |\n",
    "|**NumPy** | `np.random.multinomial(N, theta)` |\n",
    "|**SciPy** | `scipy.stats.multinomial(N, theta)` |\n",
    "|**Stan sampling** | `multinomial(theta)` |\n",
    "|**Stan rng** | `multinomial_rng(theta, N)` |\n",
    "\n",
    "\n",
    "* **Probability density function.**\n",
    "\n",
    "\\begin{align}\n",
    "f(\\mathbf{y};\\mathbf{\\theta}, N) = \\frac{N!}{y_1!\\,y_2!\\cdots y_k!}\\,\\theta_1^{y_1}\\,\\theta_2^{y_2}\\cdots \\theta_K^{y_K}.\n",
    "\\end{align}\n",
    "\n",
    "* **Related distributions.**\n",
    "    - The Multinomial distribution generalizes the [Binomial distribution](#Binomial-distribution) to multiple dimensions.\n",
    "    \n",
    "* **Notes.**\n",
    "    - For a sampling statement in Stan, the value of `N` is implied."
   ]
  },
  {
   "cell_type": "markdown",
   "metadata": {},
   "source": [
    "## Continuous Multivariate distributions\n",
    "\n",
    "We will consider two continuous multivariate distributions here, the multivariate Gaussian and the Dirichlet. Generally plotting multivariate PDFs is difficult, but bivariate PDFs may be conveniently plotted as **contour plots**. In our investigation of the multivariate Gaussian distribution, I will also demonstrate how to make plots of bivariate PDFs."
   ]
  },
  {
   "cell_type": "markdown",
   "metadata": {},
   "source": [
    "### Multivariate Gaussian, a.k.a. Multivariate Normal, distribution\n",
    "\n",
    "* **Story.** This is a generalization of the [univariate Gaussian](#Gaussian,-a.k.a.-Normal,-distribution).\n",
    "\n",
    "* **Example.** Finch beaks are measured for beak depth and beak length. The resulting distribution of depths and length is Gaussian distributed. In this case, the Gaussian is bivariate, with $\\mu = (\\mu_\\mathrm{d}, \\mu_\\mathrm{l})$ and\n",
    "\\begin{align}\n",
    "\\mathsf{\\Sigma} = \\begin{pmatrix}\n",
    "\\sigma_\\mathrm{d}^2 & \\sigma_\\mathrm{dl} \\\\\n",
    "\\sigma_\\mathrm{dl} & \\sigma_\\mathrm{l}^2\n",
    "\\end{pmatrix}.\n",
    "\\end{align}\n",
    "\n",
    "\n",
    "* **Parameters.** There is one vector-valued parameter, $\\boldsymbol{\\mu}$, and a matrix-valued parameter, $\\mathsf{\\Sigma}$, referred to respectively as the mean and covariance matrix. The covariance matrix is symmetric and strictly positive definite.\n",
    "\n",
    "* **Support.** The _K_-variate Gaussian distribution is supported on $\\mathbb{R}^K$.\n",
    "\n",
    "* **Probability density function.**\n",
    "\n",
    "\\begin{align}\n",
    "f(\\mathbf{y};\\boldsymbol{\\mu}, \\mathsf{\\Sigma}) = \\frac{1}{\\sqrt{(2\\pi)^K \\det \\mathsf{\\Sigma}}}\\,\\mathrm{exp}\\left[-\\frac{1}{2}(\\mathbf{y} - \\boldsymbol{\\mu})^T \\cdot \\mathsf{\\Sigma}^{-1}\\cdot (\\mathbf{y} - \\boldsymbol{\\mu})\\right].\n",
    "\\end{align}\n",
    "\n",
    "* **Usage**\n",
    "The usage below assumes that `mu` is a length _K_ array, `Sigma` is a _K_×_K_ symmetric positive definite matrix, and `L` is a _K_×_K_ lower-triangular matrix with strictly positive values on teh diagonal that is a Cholesky factor.\n",
    "\n",
    "| Package        | Syntax           |\n",
    "|: -------------: | :------------- |\n",
    "|**NumPy** | `np.random.multivariate_normal(mu, Sigma)` |\n",
    "|**SciPy** | `scipy.stats.multivariate_normal(mu, Sigma)` |\n",
    "|**Stan** | `multi_normal(mu, Sigma)` |\n",
    "|**NumPy Cholesky**| `np.random.multivariate_normal(mu, np.dot(L, L.T))` |\n",
    "|**SciPy Cholesky**| `scipy.stats.multivariate_normal(mu, np.dot(L, L.T))` |\n",
    "|**Stan Cholesky**| `multi_normal_cholesky(mu, L)` |\n",
    "\n",
    "\n",
    "* **Related distributions.**\n",
    "    - The Multivariate Gaussian is a generalization of the [univariate Gaussian](#Gaussian,-a.k.a.-Normal,-distribution).\n",
    "\n",
    "* **Notes.** \n",
    "    - The covariance matrix may also be written as\n",
    "\\begin{align}\n",
    "\\\\\\phantom{blah}\n",
    "\\mathsf{\\Sigma} = \\mathsf{S}\\cdot \\mathsf{C} \\cdot \\mathsf{S},\n",
    "\\\\\\phantom{blah}\n",
    "\\end{align}\n",
    "where \n",
    "\\begin{align}\n",
    "\\\\\\phantom{blah}\n",
    "\\mathsf{S} = \\sqrt{\\text{diag}(\\mathsf{\\Sigma})},\n",
    "\\\\\\phantom{blah}\n",
    "\\end{align}\n",
    "and entry $i, j$ in the **correlation matrix** $\\mathsf{C}$ is\n",
    "\\begin{align}\n",
    "\\\\\\phantom{blah}\n",
    "C_{ij} = \\sigma_{ij} / \\sigma_i \\sigma_j.\n",
    "\\\\\\phantom{blah}\n",
    "\\end{align}\n",
    "    - Furthermore, because $\\mathsf{\\Sigma}$ is symmetric and strictly positive definite, it can be uniquely defined in terms of its [Cholesky decomposition](https://en.wikipedia.org/wiki/Cholesky_decomposition), $\\mathsf{L}$, which satisfies $\\mathsf{\\Sigma} = \\mathsf{L}\\cdot\\mathsf{L}^T$. In practice, you will almost always use the Cholesky representation of the Multivariate Gaussian distribution in Stan."
   ]
  },
  {
   "cell_type": "markdown",
   "metadata": {},
   "source": [
    "### Lewandowski-Kurowicka-Joe (LKJ) distribution\n",
    "\n",
    "* **Story.** Probability distribution for positive definite correlation matrices, or equivalanently for their Cholesky factors (which is what we use in practice).\n",
    "\n",
    "* **Parameter.** There is one positive scalar parameter, $\\eta$, which tunes the strength of the correlations. If $\\eta = 1$, the density is uniform over all correlation matrix. If $\\eta > 1$, matrices with a stronger diagonal (and therefore smaller correlations) are favored. If $\\eta < 1$, the diagonal is weak and correlations are favored.\n",
    "\n",
    "* **Support.** The LKJ distribution is supported over the set of $K\\times K$ Cholesky factors of real symmetric positive definite matrices.\n",
    "\n",
    "* **Probability density function.**\n",
    "We cannot write the PDF in closed form. \n",
    "\n",
    "* **Usage**\n",
    "\n",
    "| Package        | Syntax           |\n",
    "|: -------------: | :------------- |\n",
    "|**NumPy** | not available |\n",
    "|**SciPy** | not available |\n",
    "|**Stan** | lkj_corr_cholesky(eta) |\n",
    "\n",
    "* **Notes.** \n",
    "    - The most common use case is as a prior for a covariance matrix. Note that LKJ distribution gives Cholesky factors for *correlation* matrices, not covariance matrices. To get the covariance Cholesky factor from the correlation Cholesky factor, you need to multiply the correlation Cholesky factor by a diagonal constructed from the variances of the individual variates. Here is an example for a multivariate Gaussian in Stan.\n",
    "\n",
    "    ```\n",
    "    parameters {\n",
    "        // Vector of means\n",
    "        vector[K] mu;\n",
    "\n",
    "        // Cholesky factor for the correlation matrix\n",
    "        cholesky_factor_corr[K] L_Omega;\n",
    "        \n",
    "        // Sqrt of variances for each variate\n",
    "        vector<lower=0>[K] L_std;\n",
    "    } \n",
    "    model {\n",
    "        // Cholesky factor for covariance matrix\n",
    "        matrix[K, K] L_Sigma = diag_pre_multiply(L_std, L_Omega);\n",
    "\n",
    "        // Prior on Cholesky decomposition of correlation matrix\n",
    "        L_Omega ~ lkj_corr_cholesky(1);\n",
    "        \n",
    "        // Prior on standard deviations for each variate\n",
    "        L_std ~ normal(0, 2.5);\n",
    "\n",
    "        // Likelihood\n",
    "        y ~ multi_normal_cholesky(mu, L_Sigma);\n",
    "    }\n",
    "    ```"
   ]
  },
  {
   "cell_type": "markdown",
   "metadata": {},
   "source": [
    "### Dirichlet distribution\n",
    "\n",
    "* **Story.** The Dirichlet distribution is a generalization of the [Beta distribution](#Beta-distribution). It is a probability distribution describing probabilities of outcomes. Instead of describing probability of one of two outcomes of a Bernoulli trial, like the Beta distribution does, it describes probability of $K-1$ of $K$ outcomes. The Beta distribution is the special case of $K = 2$.\n",
    "\n",
    "* **Parameters.** The parameters are $\\alpha_1, \\alpha_2, \\ldots \\alpha_K$, all strictly positive, defined analogously to $\\alpha$ and $\\beta$ of the Beta distribution.\n",
    "\n",
    "* **Support.** The Dirichlet distribution has support on the interval [0, 1] such that $\\sum_{i=1}^K \\theta_i = 1$.\n",
    "\n",
    "* **Probability density function.**\n",
    "\\begin{align}\n",
    "f(\\boldsymbol{\\theta};\\boldsymbol{\\alpha}) = \\frac{1}{B(\\boldsymbol{\\alpha})}\\,\\prod_{i=1}^K \\theta_i^{\\alpha_i-1},\n",
    "\\end{align}\n",
    "where\n",
    "\\begin{align}\n",
    "B(\\boldsymbol{\\alpha}) = \\frac{\\prod_{i=1}^K\\Gamma(\\alpha_i)}{\\Gamma\\left(\\sum_{i=1}^K \\alpha_i\\right)}\n",
    "\\end{align}\n",
    "is the multivariate Beta function.\n",
    "\n",
    "* **Usage**\n",
    "\n",
    "| Package        | Syntax           |\n",
    "|: -------------: | :------------- |\n",
    "|**NumPy** | `np.random.dirichlet(alpha)` |\n",
    "|**SciPy** | `scipy.stats.dirichlet(alpha)` |\n",
    "|**Stan** | `dirichlet(alpha)` |\n",
    "\n",
    "* **Related distributions.**\n",
    "    - The special case where $K = 2$ is a [Beta distribution](#Beta-distribution) with parameters $\\alpha = \\alpha_1$ and $\\beta = \\alpha_2$.\n",
    "    - If we have $K$ random variables that are Gamma distributed, $X_i \\sim \\text{Gamma}(\\alpha_i, \\beta)$, then $(X_1/V, X_2/,V \\ldots) \\sim \\text{Dirichlet}(\\alpha)$ with $\\alpha = (\\alpha_1, \\alpha_2, \\ldots)$ and $V = \\sum_{i=1}^K X_i$. Note that the value of $\\beta$ does not enter into the Dirichlet distribution.\n",
    "    \n",
    "* **Notes**\n",
    "- In some cases, we may wish to specify the distribution of an *ordered* Dirichlet distributed vector $\\theta$. That is $\\theta \\sim \\text{Dirichlet}(\\alpha_1, \\alpha_2, \\ldots, \\alpha_K)$ with $\\theta_i < \\theta_{i+1}$ for all $\\theta_i$. Because of the relationship of the Dirchlet distribution to a set of Gamma distributed random variable, we may specify this in Stan as follows.\n",
    "\n",
    "```\n",
    "data {\n",
    "  int<lower=1> K;\n",
    "}\n",
    "\n",
    "parameters {\n",
    "  vector<lower=0>[K] alpha;\n",
    "  positive_ordered[K] lambda;\n",
    "}\n",
    "\n",
    "transformed parameters {\n",
    "  simplex[K] theta = lambda / sum(lambda);\n",
    "}\n",
    "\n",
    "model {\n",
    "  target += gamma_lpdf(lambda | alpha, 1);\n",
    "}\n",
    "```"
   ]
  },
  {
   "cell_type": "markdown",
   "metadata": {},
   "source": [
    "## Conclusions\n",
    "\n",
    "This document serves as a catalog of probability distributions that will be useful for you in your statistical modeling. As we will see, the mathematical expression of the PDF is not often needed. What is most important in your modeling is that you know the story of the distribution."
   ]
  },
  {
   "cell_type": "markdown",
   "metadata": {},
   "source": [
    "## Computing environment"
   ]
  },
  {
   "cell_type": "code",
   "execution_count": 27,
   "metadata": {},
   "outputs": [],
   "source": [
    "%load_ext watermark"
   ]
  },
  {
   "cell_type": "code",
   "execution_count": 28,
   "metadata": {},
   "outputs": [
    {
     "name": "stdout",
     "output_type": "stream",
     "text": [
      "CPython 3.7.0\n",
      "IPython 7.0.1\n",
      "\n",
      "numpy 1.15.3\n",
      "scipy 1.1.0\n",
      "bokeh 1.0.0\n",
      "jupyterlab 0.35.2\n"
     ]
    }
   ],
   "source": [
    "%watermark -v -p numpy,scipy,bokeh,jupyterlab"
   ]
  }
 ],
 "metadata": {
  "anaconda-cloud": {},
  "kernelspec": {
   "display_name": "Python 3",
   "language": "python",
   "name": "python3"
  },
  "language_info": {
   "codemirror_mode": {
    "name": "ipython",
    "version": 3
   },
   "file_extension": ".py",
   "mimetype": "text/x-python",
   "name": "python",
   "nbconvert_exporter": "python",
   "pygments_lexer": "ipython3",
   "version": "3.7.2"
  }
 },
 "nbformat": 4,
 "nbformat_minor": 2
}

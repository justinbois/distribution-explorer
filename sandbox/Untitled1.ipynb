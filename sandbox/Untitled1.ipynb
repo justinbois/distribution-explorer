{
 "cells": [
  {
   "cell_type": "code",
   "execution_count": 2,
   "id": "8a41dbcd-1ea2-495b-be29-ad4b568c83d3",
   "metadata": {},
   "outputs": [],
   "source": [
    "import numpy as np\n",
    "import scipy.optimize\n",
    "import scipy.stats as st"
   ]
  },
  {
   "cell_type": "code",
   "execution_count": 21,
   "id": "0ceb0b6a-8160-4120-8b9c-c8987c35b152",
   "metadata": {},
   "outputs": [],
   "source": [
    "def root_fun(xi, p, alpha, beta):\n",
    "    # if np.isclose(xi, 1):\n",
    "    #     return np.inf\n",
    "        \n",
    "    x = xi / (1 - xi)\n",
    "    return p - st.gamma.cdf(x, alpha, loc=0, scale=1/beta)"
   ]
  },
  {
   "cell_type": "code",
   "execution_count": 26,
   "id": "6b5a59b1-d852-4085-b004-a4864b321804",
   "metadata": {},
   "outputs": [
    {
     "data": {
      "text/plain": [
       "(504.79364274789543, 504.79364274368487)"
      ]
     },
     "execution_count": 26,
     "metadata": {},
     "output_type": "execute_result"
    }
   ],
   "source": [
    "p = 0.95\n",
    "alpha = 1007.3\n",
    "beta = 2.1\n",
    "args = (p, alpha, beta)\n",
    "\n",
    "xi_optim = scipy.optimize.brentq(root_fun, 0.0, 0.999999, args=args)\n",
    "x_optim = xi_optim / (1 - xi_optim)\n",
    "\n",
    "(\n",
    "    x_optim, \n",
    "    st.gamma.ppf(p, alpha, loc=0, scale=1/beta)\n",
    ")"
   ]
  },
  {
   "cell_type": "code",
   "execution_count": 8,
   "id": "b124cf29-b33c-4316-833c-408cb77642ea",
   "metadata": {},
   "outputs": [
    {
     "data": {
      "text/plain": [
       "0.95"
      ]
     },
     "execution_count": 8,
     "metadata": {},
     "output_type": "execute_result"
    }
   ],
   "source": [
    "root_fun(0, p, alpha, beta)"
   ]
  },
  {
   "cell_type": "code",
   "execution_count": 20,
   "id": "8b94462d-dda4-488a-b603-7dddf776fbb3",
   "metadata": {},
   "outputs": [
    {
     "data": {
      "text/plain": [
       "-0.050000000000000044"
      ]
     },
     "execution_count": 20,
     "metadata": {},
     "output_type": "execute_result"
    }
   ],
   "source": [
    "root_fun(0.999, p, alpha, beta)"
   ]
  },
  {
   "cell_type": "code",
   "execution_count": 16,
   "id": "9766db15-e4cb-4c1c-81a3-2fe719c194b0",
   "metadata": {},
   "outputs": [
    {
     "data": {
      "text/plain": [
       "6.16361567548993e-11"
      ]
     },
     "execution_count": 16,
     "metadata": {},
     "output_type": "execute_result"
    }
   ],
   "source": [
    "st.gamma.cdf(1, alpha, loc=0, scale=1/beta)"
   ]
  },
  {
   "cell_type": "code",
   "execution_count": null,
   "id": "0f734681-0a88-421f-9322-1ec99265bd80",
   "metadata": {},
   "outputs": [],
   "source": []
  }
 ],
 "metadata": {
  "kernelspec": {
   "display_name": "Python 3 (ipykernel)",
   "language": "python",
   "name": "python3"
  },
  "language_info": {
   "codemirror_mode": {
    "name": "ipython",
    "version": 3
   },
   "file_extension": ".py",
   "mimetype": "text/x-python",
   "name": "python",
   "nbconvert_exporter": "python",
   "pygments_lexer": "ipython3",
   "version": "3.11.5"
  }
 },
 "nbformat": 4,
 "nbformat_minor": 5
}
